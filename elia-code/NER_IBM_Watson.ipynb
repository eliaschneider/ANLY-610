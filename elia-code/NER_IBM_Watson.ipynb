{
 "cells": [
  {
   "cell_type": "code",
   "execution_count": 13,
   "metadata": {},
   "outputs": [],
   "source": [
    "import os\n",
    "import json\n",
    "\n",
    "from watson_developer_cloud import NaturalLanguageUnderstandingV1\n",
    "from watson_developer_cloud.natural_language_understanding_v1 import Features, EntitiesOptions, KeywordsOptions\n",
    "\n",
    "data_path = '../data/'\n",
    "model_path = '../model/'\n",
    "\n",
    "def load_webhouse_data(data_name): \n",
    "    data_file = data_path + data_name + '.json'\n",
    "    with open(data_file) as json_data:\n",
    "        data = json.load(json_data)\n",
    "        return data\n",
    "    \n",
    "# data = load_webhouse_data('microsoft')\n",
    "data = load_webhouse_data('microsoft_0419_0519_clean') "
   ]
  },
  {
   "cell_type": "code",
   "execution_count": 15,
   "metadata": {},
   "outputs": [
    {
     "name": "stderr",
     "output_type": "stream",
     "text": [
      "/usr/lib/python3/dist-packages/ipykernel_launcher.py:4: DeprecationWarning: NaturalLanguageUnderstandingV1 is a deprecated function. watson-developer-cloud moved to ibm-watson\n",
      "  after removing the cwd from sys.path.\n"
     ]
    }
   ],
   "source": [
    "natural_language_understanding = NaturalLanguageUnderstandingV1(\n",
    "    version='2018-11-16',\n",
    "    iam_apikey='N9R1KBh-8CJVJWSMGHB_lLG-Sq03-BurNjDc_dh5l9Id',\n",
    "    url='https://gateway.watsonplatform.net/natural-language-understanding/api/v1/analyze?version=2018-11-16'\n",
    ")"
   ]
  },
  {
   "cell_type": "code",
   "execution_count": 93,
   "metadata": {},
   "outputs": [
    {
     "name": "stdout",
     "output_type": "stream",
     "text": [
      "Mr. Jim’s Pizza in North Texas shut down after laxative put in pizza\n"
     ]
    },
    {
     "data": {
      "text/plain": [
       "{'Mr. Jim': 'Person', 'North Texas': 'Location'}"
      ]
     },
     "execution_count": 93,
     "metadata": {},
     "output_type": "execute_result"
    }
   ],
   "source": [
    "def get_title_WATSON_entities(text):\n",
    "    entities_dict = dict()\n",
    "    r = natural_language_understanding.analyze(\n",
    "        text=text, features=Features(entities=EntitiesOptions(sentiment=True, limit=10))).get_result()\n",
    "    for entity in r['entities']:\n",
    "        entities_dict[entity['text']] = entity['type'] \n",
    "    return entities_dict\n",
    "title = data[1211]['title']\n",
    "print(title)\n",
    "get_title_WATSON_entities(title)"
   ]
  },
  {
   "cell_type": "code",
   "execution_count": null,
   "metadata": {},
   "outputs": [],
   "source": [
    "for i in range(len(data)): \n",
    "    title = data[i]['title']\n",
    "    try:\n",
    "        entities = get_title_WATSON_entities(title)\n",
    "    except Exception:\n",
    "        entities = dict()\n",
    "    data[i]['title_entities'] = entities"
   ]
  },
  {
   "cell_type": "code",
   "execution_count": 83,
   "metadata": {},
   "outputs": [],
   "source": [
    "\n",
    "def store_data(data_name, feeds): \n",
    "    data_file = data_path + data_name + '.json'\n",
    "    if os.path.isfile(data_file): \n",
    "        raise ValueError(\"{} file already exists\".format(data_file))\n",
    "    with open(data_file, 'w') as outfile:\n",
    "        json.dump(feeds, outfile)\n",
    "        \n",
    "    \n",
    "store_data('microsoft_0419_0519_clean_with_entities', data)"
   ]
  },
  {
   "cell_type": "code",
   "execution_count": 84,
   "metadata": {},
   "outputs": [],
   "source": [
    "new_data = load_webhouse_data('microsoft_0419_0519_clean_with_entities') "
   ]
  },
  {
   "cell_type": "code",
   "execution_count": 94,
   "metadata": {},
   "outputs": [
    {
     "data": {
      "text/plain": [
       "{'author': '',\n",
       " 'crawled': '2019-04-20T00:48:22.000+03:00',\n",
       " 'entities': {'locations': [],\n",
       "  'organizations': [{'name': 'skype', 'sentiment': 'none'},\n",
       "   {'name': 'microsoft', 'sentiment': 'none'}],\n",
       "  'persons': [{'name': 'tom manning', 'sentiment': 'none'}]},\n",
       " 'external_images': [],\n",
       " 'external_links': ['http://www.www.skype.com'],\n",
       " 'highlightText': '',\n",
       " 'highlightTitle': '',\n",
       " 'language': 'english',\n",
       " 'ord_in_thread': 0,\n",
       " 'published': '2019-04-20T00:30:00.000+03:00',\n",
       " 'rating': None,\n",
       " 'text': 'BlastWP! - Windows Phone 8 News > News > Microsoft finds Skype bug similar to iMessage Microsoft finds Skype bug similar to iMessage News - By: Tom Manning - June 03, 2015 Microsoft has patched a bug in Skype that was similar to the iMessage bug found a few days ago. In several versions of Skype, a user receiving the message http://: would have their version of Skype crash. Even worse, once the message was in their history, the app would continue to crash every time the user tried to restart and login. Microsoft released new versions of Skype, and released a statement on their support site: We are aware of a problem that was causing Skype clients to crash. Our engineering teams worked hard to resolve this issue, and have released updates for all impacted Skype platforms. Download the latest version from www.skype.com /download to address this issue. Android, iOS, and Windows versions were affected. If you use Skype, go get a new version now!',\n",
       " 'thread': {'country': 'US',\n",
       "  'domain_rank': None,\n",
       "  'main_image': '',\n",
       "  'participants_count': 0,\n",
       "  'performance_score': 0,\n",
       "  'published': '2019-04-20T00:30:00.000+03:00',\n",
       "  'replies_count': 0,\n",
       "  'section_title': 'Pocket PC Blast!',\n",
       "  'site': 'blastwp.com',\n",
       "  'site_categories': ['windows', 'cell_phones', 'tech'],\n",
       "  'site_full': 'www.blastwp.com',\n",
       "  'site_section': 'http://feeds.feedburner.com/PocketPcBlast',\n",
       "  'site_type': 'news',\n",
       "  'social': {'facebook': {'comments': 0, 'likes': 0, 'shares': 0},\n",
       "   'gplus': {'shares': 0},\n",
       "   'linkedin': {'shares': 0},\n",
       "   'pinterest': {'shares': 0},\n",
       "   'stumbledupon': {'shares': 0},\n",
       "   'vk': {'shares': 0}},\n",
       "  'spam_score': 0.0,\n",
       "  'title': 'Microsoft finds Skype bug similar to iMessage',\n",
       "  'title_full': 'Microsoft finds Skype bug similar to iMessage',\n",
       "  'url': 'http://www.blastwp.com/articles/2015/6/201563-Microsoft-finds-Skype-bug-similar-to-iMessage.html?itemID=6551&site=pocketpc',\n",
       "  'uuid': 'dfeedca66afad62e9b794844681f164f784fac4d'},\n",
       " 'title': 'Microsoft finds Skype bug similar to iMessage',\n",
       " 'title_entities': {'Microsoft': 'Company'},\n",
       " 'url': 'http://www.blastwp.com/articles/2015/6/201563-Microsoft-finds-Skype-bug-similar-to-iMessage.html?itemID=6551&site=pocketpc',\n",
       " 'uuid': 'dfeedca66afad62e9b794844681f164f784fac4d'}"
      ]
     },
     "execution_count": 94,
     "metadata": {},
     "output_type": "execute_result"
    }
   ],
   "source": [
    "new_data[100]"
   ]
  },
  {
   "cell_type": "code",
   "execution_count": null,
   "metadata": {},
   "outputs": [],
   "source": []
  },
  {
   "cell_type": "code",
   "execution_count": null,
   "metadata": {},
   "outputs": [],
   "source": []
  }
 ],
 "metadata": {
  "kernelspec": {
   "display_name": "Python 3",
   "language": "python",
   "name": "python3"
  },
  "language_info": {
   "codemirror_mode": {
    "name": "ipython",
    "version": 3
   },
   "file_extension": ".py",
   "mimetype": "text/x-python",
   "name": "python",
   "nbconvert_exporter": "python",
   "pygments_lexer": "ipython3",
   "version": "3.6.7"
  }
 },
 "nbformat": 4,
 "nbformat_minor": 2
}
