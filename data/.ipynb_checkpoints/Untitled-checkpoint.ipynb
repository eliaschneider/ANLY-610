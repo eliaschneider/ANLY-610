{
 "cells": [
  {
   "cell_type": "code",
   "execution_count": 18,
   "metadata": {},
   "outputs": [],
   "source": [
    "import os\n",
    "import json\n",
    "import webhosei"
   ]
  },
  {
   "cell_type": "code",
   "execution_count": 25,
   "metadata": {},
   "outputs": [],
   "source": [
    "# useful function to write and read json files\n",
    "################################################################################################################\n",
    "def store_data(filename, data): \n",
    "    data_file = os.path.join('..', 'data', filename)\n",
    "    if os.path.isfile(data_file): \n",
    "        raise ValueError(\"{} file already exists\".format(filename))\n",
    "    with open(data_file, 'w') as outfile:\n",
    "        json.dump(data, outfile)\n",
    "\n",
    "def load_data(filename): \n",
    "    data_file = os.path.join('..', 'data', filename)\n",
    "    with open(data_file) as json_data:\n",
    "        data = json.load(json_data)\n",
    "        return data"
   ]
  },
  {
   "cell_type": "code",
   "execution_count": 2,
   "metadata": {},
   "outputs": [],
   "source": [
    "webhoseio.config(token=\"1a815770-8785-4596-a11c-09bdae034336\")\n",
    "query_params = {\n",
    "\"q\": \"language:english site_type:news organization:Microsoft\",\n",
    "\"ts\": \"1555697996143\",\n",
    "\"sort\": \"crawled\"}"
   ]
  },
  {
   "cell_type": "code",
   "execution_count": 16,
   "metadata": {},
   "outputs": [],
   "source": [
    "output = webhoseio.query(\"filterWebContent\", query_params)\n",
    "feeds = [ item for item in output['posts']]\n",
    "while output['moreResultsAvailable'] > 0:\n",
    "    output = webhoseio.get_next()\n",
    "    feeds += [ item for item in output['posts']]"
   ]
  },
  {
   "cell_type": "code",
   "execution_count": 22,
   "metadata": {},
   "outputs": [],
   "source": [
    "store_data('microsoft_0419_0519.json', feeds)"
   ]
  },
  {
   "cell_type": "code",
   "execution_count": 38,
   "metadata": {},
   "outputs": [
    {
     "name": "stdout",
     "output_type": "stream",
     "text": [
      "* Total numbero of news articles: 24140\n",
      "* Date range: from 2019-04-18T03:00:00.000+03:00 to 2019-05-19T21:20:00.000+03:00\n"
     ]
    }
   ],
   "source": [
    "news_list = load_data('microsoft_0419_0519.json')\n",
    "print('* Total numbero of news articles: {}'.format(len(news_list)))\n",
    "print('* Date range: from {} to {}'.format(\n",
    "    min([news_list[x]['published'] for x in range(len(news_list))]), \n",
    "    max([news_list[x]['published'] for x in range(len(news_list))])))"
   ]
  },
  {
   "cell_type": "code",
   "execution_count": null,
   "metadata": {},
   "outputs": [],
   "source": []
  }
 ],
 "metadata": {
  "kernelspec": {
   "display_name": "Python 3",
   "language": "python",
   "name": "python3"
  },
  "language_info": {
   "codemirror_mode": {
    "name": "ipython",
    "version": 3
   },
   "file_extension": ".py",
   "mimetype": "text/x-python",
   "name": "python",
   "nbconvert_exporter": "python",
   "pygments_lexer": "ipython3",
   "version": "3.6.7"
  }
 },
 "nbformat": 4,
 "nbformat_minor": 2
}
