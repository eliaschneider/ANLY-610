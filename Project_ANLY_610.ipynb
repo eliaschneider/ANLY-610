{
 "cells": [
  {
   "cell_type": "markdown",
   "metadata": {},
   "source": [
    "# Import data from webhose.io"
   ]
  },
  {
   "cell_type": "code",
   "execution_count": 1,
   "metadata": {},
   "outputs": [],
   "source": [
    "import os\n",
    "import json\n",
    "import webhoseio\n",
    "\n",
    "data_path = './data'\n",
    "model_path = './model'"
   ]
  },
  {
   "cell_type": "markdown",
   "metadata": {},
   "source": [
    "### Useful function to write and read json files"
   ]
  },
  {
   "cell_type": "code",
   "execution_count": 2,
   "metadata": {},
   "outputs": [],
   "source": [
    "def store_data(filename, data): \n",
    "    data_file = os.path.join(data_path, filename)\n",
    "    with open(data_file, 'w') as outfile:\n",
    "        json.dump(data, outfile)\n",
    "\n",
    "def load_data(filename): \n",
    "    data_file = os.path.join(data_path, filename)\n",
    "    with open(data_file) as json_data:\n",
    "        data = json.load(json_data)\n",
    "        return data"
   ]
  },
  {
   "cell_type": "markdown",
   "metadata": {},
   "source": [
    "### Query to webhose.io"
   ]
  },
  {
   "cell_type": "code",
   "execution_count": 3,
   "metadata": {},
   "outputs": [],
   "source": [
    "webhoseio.config(token=\"1a815770-8785-4596-a11c-09bdae034336\")\n",
    "query_params = {\n",
    "    \"q\": \"language:english site_type:news site_category:media organization:Microsoft\", \n",
    "    \"ts\": \"1555697996143\",\n",
    "    \"sort\": \"crawled\"\n",
    "}"
   ]
  },
  {
   "cell_type": "code",
   "execution_count": 4,
   "metadata": {},
   "outputs": [],
   "source": [
    "output = webhoseio.query(\"filterWebContent\", query_params)\n",
    "feeds = [ item for item in output['posts']]\n",
    "while output['moreResultsAvailable'] > 0:\n",
    "    output = webhoseio.get_next()\n",
    "    feeds += [ item for item in output['posts']]"
   ]
  },
  {
   "cell_type": "code",
   "execution_count": 8,
   "metadata": {},
   "outputs": [],
   "source": [
    "store_data('microsoft_0504_0604.json', feeds)"
   ]
  },
  {
   "cell_type": "markdown",
   "metadata": {},
   "source": [
    "### We repeate the webhose query two time and here we merge the different files"
   ]
  },
  {
   "cell_type": "code",
   "execution_count": 9,
   "metadata": {},
   "outputs": [],
   "source": [
    "def merge_files(file1, file2, new_file):\n",
    "    data1 = load_data(file1)\n",
    "    data2 = load_data(file2)\n",
    "    data = data1 + data2 \n",
    "    store_data(new_file, data)"
   ]
  },
  {
   "cell_type": "code",
   "execution_count": 10,
   "metadata": {},
   "outputs": [],
   "source": [
    "merge_files('microsoft_0504_0604.json', 'microsoft_0604_0612.json', 'microsoft_webhose.json')"
   ]
  },
  {
   "cell_type": "code",
   "execution_count": 12,
   "metadata": {},
   "outputs": [
    {
     "name": "stdout",
     "output_type": "stream",
     "text": [
      "* Total number of news articles: 17123\n",
      "* Date range: from 2019-05-04T03:00:00.000+03:00 to 2019-06-12T09:49:00.000+03:00\n"
     ]
    }
   ],
   "source": [
    "news_list = load_data('microsoft_webhose.json')\n",
    "print('* Total number of news articles: {}'.format(len(news_list)))\n",
    "print('* Date range: from {} to {}'.format(\n",
    "    min([news_list[x]['published'] for x in range(len(news_list))]), \n",
    "    max([news_list[x]['published'] for x in range(len(news_list))])))"
   ]
  },
  {
   "cell_type": "markdown",
   "metadata": {},
   "source": [
    "\n",
    "# Deduplicate titles "
   ]
  },
  {
   "cell_type": "code",
   "execution_count": 78,
   "metadata": {},
   "outputs": [],
   "source": [
    "import re\n",
    "import time\n",
    "import warnings\n",
    "import numpy as np\n",
    "import pandas as pd \n",
    "\n",
    "warnings.filterwarnings(\"ignore\")\n",
    "\n",
    "import nltk\n",
    "from nltk.stem.wordnet import WordNetLemmatizer\n",
    "stopwords = set(nltk.corpus.stopwords.words('english'))\n",
    "\n",
    "from gensim.models import KeyedVectors\n",
    "from simhash import Simhash, SimhashIndex"
   ]
  },
  {
   "cell_type": "markdown",
   "metadata": {},
   "source": [
    "### Useful function to cleanup text and load word2vec "
   ]
  },
  {
   "cell_type": "code",
   "execution_count": 76,
   "metadata": {},
   "outputs": [],
   "source": [
    "def cleanup_text(text):\n",
    "    text = re.sub(r'http\\S+', '', text)\n",
    "    text = text.replace(\"'s\", \" \")\n",
    "    text = text.replace(\"n't\", \" not \")\n",
    "    text = text.replace(\"'ve\", \" have \")\n",
    "    text = text.replace(\"'re\", \" are \")\n",
    "    text = text.replace(\"I'm\",\" I am \")\n",
    "    text = text.replace(\"you're\",\" you are \")\n",
    "    text = text.replace(\"You're\",\" You are \")\n",
    "    text = text.replace(\"-\",\" \")\n",
    "    text = text.replace(\"/\",\" \")\n",
    "    text = text.replace(\"(\",\" \")\n",
    "    text = text.replace(\")\",\" \")\n",
    "    text = text.replace(\"%\",\" percent \")\n",
    "    text = re.sub(r'[^a-zA-Z0-9 ]', '', text)\n",
    "    text = \" \".join([i for i in text.lower().split() if i not in stopwords])\n",
    "    token = [WordNetLemmatizer().lemmatize(i) for i in text.split()]\n",
    "    return token\n",
    "\n",
    "def load_wordvec_model(modelName, modelFile, flagBin):\n",
    "    model = KeyedVectors.load_word2vec_format(os.path.join(model_path, modelFile), binary=flagBin)\n",
    "    return model"
   ]
  },
  {
   "cell_type": "markdown",
   "metadata": {},
   "source": [
    "### Load word2vec and webhose data"
   ]
  },
  {
   "cell_type": "code",
   "execution_count": 15,
   "metadata": {},
   "outputs": [],
   "source": [
    "model_w2v_AP = load_wordvec_model('Word2Vec Google News', 'GoogleNews-vectors-negative300.bin.gz', True)\n",
    "data = load_data('microsoft_webhose.json')"
   ]
  },
  {
   "cell_type": "markdown",
   "metadata": {},
   "source": [
    "### Get titles, cleanup text, and apply Simhash"
   ]
  },
  {
   "cell_type": "code",
   "execution_count": 16,
   "metadata": {},
   "outputs": [],
   "source": [
    "tot_title = len(data)\n",
    "title_list = [' '.join(cleanup_text(str(data[i]['title']))) for i in range(tot_title)]\n",
    "objs = [(i, Simhash(title_list[i])) for i in range(tot_title)]"
   ]
  },
  {
   "cell_type": "markdown",
   "metadata": {},
   "source": [
    "#### Function checks whether the input words are present in the vocabulary for the model"
   ]
  },
  {
   "cell_type": "code",
   "execution_count": 17,
   "metadata": {},
   "outputs": [],
   "source": [
    "def vocab_check(vectors, words):\n",
    "    output = list()\n",
    "    for word in words:\n",
    "        if word in vectors.vocab:\n",
    "            output.append(word.strip())\n",
    "    return output"
   ]
  },
  {
   "cell_type": "markdown",
   "metadata": {},
   "source": [
    "#### Function calculates similarity between two strings using a particular word vector model"
   ]
  },
  {
   "cell_type": "code",
   "execution_count": 18,
   "metadata": {},
   "outputs": [],
   "source": [
    "def calc_similarity(input1, input2, vectors):\n",
    "    s1words = set(vocab_check(vectors, input1.split()))\n",
    "    s2words = set(vocab_check(vectors, input2.split()))\n",
    "    \n",
    "    output = vectors.n_similarity(s1words, s2words)\n",
    "    return output"
   ]
  },
  {
   "cell_type": "markdown",
   "metadata": {},
   "source": [
    "### Remove duplicate titles"
   ]
  },
  {
   "cell_type": "code",
   "execution_count": 19,
   "metadata": {},
   "outputs": [
    {
     "name": "stdout",
     "output_type": "stream",
     "text": [
      "Title: \n",
      "ArcBlock Joins the Decentralized Identity Foundation to Help Make Blockchain-based ID Systems a Reality\n",
      "\n",
      "Duplicates:\n",
      "ArcBlock Joins the Decentralized Identity Foundation to Help Make Blockchain-based ID Systems a Reality\n"
     ]
    }
   ],
   "source": [
    "def remove_duplicate(index, title_list, index_simahs, model_w2v_AP):\n",
    "    duplicates = set()\n",
    "    title = title_list[index]\n",
    "    \n",
    "    # calculate  hash value\n",
    "    title_hash = Simhash(title)\n",
    "    \n",
    "    # find all duplicate indices\n",
    "    dup_indices = index_simahs.get_near_dups(title_hash)\n",
    "\n",
    "    # apply word2vec \n",
    "    for dupi in dup_indices:\n",
    "        if int(dupi) == index: \n",
    "            continue\n",
    "        try:\n",
    "            score = calc_similarity(title, title_list[int(dupi)], model_w2v_AP)\n",
    "        except:\n",
    "            score = 0\n",
    "        if score > 0.55:\n",
    "            duplicates.add(int(dupi))\n",
    "    return duplicates \n",
    "\n",
    "distance = 15\n",
    "index_simahs = SimhashIndex(objs, k=distance)\n",
    "\n",
    "index = 4401\n",
    "print('Title: \\n' + data[index]['title'] + '\\n\\nDuplicates:')\n",
    "for i in remove_duplicate(index, title_list, index_simahs, model_w2v_AP): \n",
    "    print(data[i]['title'])"
   ]
  },
  {
   "cell_type": "code",
   "execution_count": 20,
   "metadata": {},
   "outputs": [
    {
     "name": "stdout",
     "output_type": "stream",
     "text": [
      "5000/17123 3005 805.1155699999999\n",
      "10000/17123 3024 1551.359043\n",
      "15000/17123 3024 2067.085246\n"
     ]
    }
   ],
   "source": [
    "start = time.clock()\n",
    "duplicates = set()\n",
    "for index in range(tot_title): \n",
    "    if index in duplicates: \n",
    "        continue \n",
    "    new_duplicates = remove_duplicate(index, title_list, index_simahs, model_w2v_AP);\n",
    "    duplicates = duplicates.union(new_duplicates)\n",
    "    if index % 5000 == 0 and index != 0: \n",
    "        print(str(index) + '/' + str(tot_title), len(duplicates), time.clock() - start)\n",
    "    \n",
    "new_feeds = data.copy()\n",
    "for dup in sorted([int(dup) for dup in duplicates], reverse=True):\n",
    "    del new_feeds[dup]"
   ]
  },
  {
   "cell_type": "code",
   "execution_count": 21,
   "metadata": {},
   "outputs": [],
   "source": [
    "store_data('microsoft_clean.json', new_feeds)"
   ]
  },
  {
   "cell_type": "code",
   "execution_count": 22,
   "metadata": {},
   "outputs": [
    {
     "name": "stdout",
     "output_type": "stream",
     "text": [
      "* Total number of news articles once removed duplicates: 14099\n",
      "* Date range: from 2019-05-04T03:00:00.000+03:00 to 2019-06-12T09:49:00.000+03:00\n"
     ]
    }
   ],
   "source": [
    "news_cleaned_list = load_data('microsoft_clean.json')\n",
    "print('* Total number of news articles once removed duplicates: {}'.format(len(news_cleaned_list)))\n",
    "print('* Date range: from {} to {}'.format(\n",
    "    min([news_list[x]['published'] for x in range(len(news_cleaned_list))]), \n",
    "    max([news_list[x]['published'] for x in range(len(news_cleaned_list))])))"
   ]
  },
  {
   "cell_type": "markdown",
   "metadata": {},
   "source": [
    "# Name Entity Recognition using IBM Watson"
   ]
  },
  {
   "cell_type": "code",
   "execution_count": 23,
   "metadata": {},
   "outputs": [],
   "source": [
    "from watson_developer_cloud import NaturalLanguageUnderstandingV1\n",
    "from watson_developer_cloud.natural_language_understanding_v1 import Features, EntitiesOptions, KeywordsOptions"
   ]
  },
  {
   "cell_type": "code",
   "execution_count": 24,
   "metadata": {},
   "outputs": [],
   "source": [
    "data = load_data('microsoft_clean.json') "
   ]
  },
  {
   "cell_type": "markdown",
   "metadata": {},
   "source": [
    "### Query to IBM Watson"
   ]
  },
  {
   "cell_type": "code",
   "execution_count": 63,
   "metadata": {},
   "outputs": [
    {
     "name": "stderr",
     "output_type": "stream",
     "text": [
      "/usr/lib/python3/dist-packages/ipykernel_launcher.py:4: DeprecationWarning: NaturalLanguageUnderstandingV1 is a deprecated function. watson-developer-cloud moved to ibm-watson\n",
      "  after removing the cwd from sys.path.\n"
     ]
    }
   ],
   "source": [
    "natural_language_understanding = NaturalLanguageUnderstandingV1(\n",
    "    version='2018-11-16',\n",
    "    iam_apikey='yuu9ArgvhGGfdGeC3lKKR8AhFIJNXSIEr7CPF18LeWON',\n",
    "    url='https://gateway.watsonplatform.net/natural-language-understanding/api/v1/analyze?version=2018-11-16'\n",
    ")"
   ]
  },
  {
   "cell_type": "code",
   "execution_count": 66,
   "metadata": {},
   "outputs": [
    {
     "name": "stdout",
     "output_type": "stream",
     "text": [
      "CBSE 10th Result 2019: Candidates can use alternative methods to provided by Google, Microsoft if official website is down\n"
     ]
    },
    {
     "data": {
      "text/plain": [
       "{'Company': 'Microsoft', 'JobTitle': 'official', 'Organization': 'CBSE'}"
      ]
     },
     "execution_count": 66,
     "metadata": {},
     "output_type": "execute_result"
    }
   ],
   "source": [
    "def get_title_WATSON_entities(text):\n",
    "    entities_dict = dict()\n",
    "    r = natural_language_understanding.analyze(\n",
    "        text=text, features=Features(entities=EntitiesOptions(sentiment=True, limit=10))).get_result()\n",
    "    for entity in r['entities']:\n",
    "        entities_dict[entity['type']] = entity['text']\n",
    "    return entities_dict\n",
    "\n",
    "title = data[11]['title']\n",
    "print(title)\n",
    "get_title_WATSON_entities(title)"
   ]
  },
  {
   "cell_type": "code",
   "execution_count": 65,
   "metadata": {},
   "outputs": [
    {
     "name": "stdout",
     "output_type": "stream",
     "text": [
      "5000/14099 145.285712\n",
      "10000/14099 264.242388\n"
     ]
    }
   ],
   "source": [
    "start = time.clock()\n",
    "for i in range(len(data)): \n",
    "    title = data[i]['title']\n",
    "    try:\n",
    "        entities = get_title_WATSON_entities(title)\n",
    "    except Exception:\n",
    "        entities = dict()\n",
    "    data[i]['title_entities'] = entities\n",
    "    if i % 5000 == 0 and i != 0: \n",
    "        print(str(i) + '/' + str(len(data)), time.clock() - start)"
   ]
  },
  {
   "cell_type": "code",
   "execution_count": 67,
   "metadata": {},
   "outputs": [],
   "source": [
    "store_data('microsoft_clean_with_entities.json', data)"
   ]
  },
  {
   "cell_type": "code",
   "execution_count": 69,
   "metadata": {},
   "outputs": [
    {
     "name": "stdout",
     "output_type": "stream",
     "text": [
      "* Total number of news entities: 30\n",
      "\n",
      "* List of entities find in titles:\n",
      " -Person\n",
      " -Company\n",
      " -JobTitle\n",
      " -Location\n",
      " -GeographicFeature\n",
      " -Organization\n",
      " -Quantity\n",
      " -PrintMedia\n",
      " -Facility\n",
      " -Sport\n",
      " -Broadcaster\n",
      " -Number\n",
      " -Drug\n",
      " -Hashtag\n",
      " -HealthCondition\n",
      " -TwitterHandle\n",
      " -IPAddress\n",
      " -Movie\n",
      " -Date\n",
      " -Crime\n",
      " -Measure\n",
      " -MusicGroup\n",
      " -Money\n",
      " -TelevisionShow\n",
      " -Vehicle\n",
      " -Award\n",
      " -Percent\n",
      " -NaturalEvent\n",
      " -Ordinal\n",
      " -PhoneNumber\n",
      "\n",
      "* List of words associated with Broadcaster:\n",
      " -ABC\n",
      " -CNN\n",
      " -TMZ\n",
      " -WGN\n",
      " -KTLA\n",
      " -Fox News\n",
      " -Square Enix\n",
      " -BNN\n",
      " -CBS\n",
      " -CNBC\n",
      " -NBC\n",
      " -FOX News\n",
      " -HBO\n",
      " -BBC News\n"
     ]
    }
   ],
   "source": [
    "news_cleaned_list = load_data('microsoft_clean_with_entities.json')\n",
    "entity_title_list = [news['title_entities'] for news in news_cleaned_list if len(news['title_entities'].keys()) > 0]\n",
    "tot_entities_dict = dict()\n",
    "for entity_title in entity_title_list: \n",
    "    for entity in entity_title:\n",
    "        if entity in tot_entities_dict.keys():\n",
    "            tot_entities_dict[entity] += [entity_title[entity]]\n",
    "        else:\n",
    "            tot_entities_dict[entity] = [entity_title[entity]]\n",
    "print('* Total number of news entities: {}'.format(len(tot_entities_dict)) + '\\n')\n",
    "print('* List of entities find in titles:\\n -' + '\\n -'.join(list(tot_entities_dict.keys())) + '\\n')\n",
    "print('* List of words associated with Broadcaster:\\n -' + '\\n -'.join(list(set(tot_entities_dict['Broadcaster']))))"
   ]
  },
  {
   "cell_type": "code",
   "execution_count": 71,
   "metadata": {},
   "outputs": [
    {
     "name": "stdout",
     "output_type": "stream",
     "text": [
      "word         |  count \n",
      "Microsoft    | 2145\n",
      "Google       | 273\n",
      "Huawei       | 178\n",
      "Apple        | 138\n",
      "Amazon       | 93\n",
      "Sony         | 87\n",
      "US           | 86\n",
      "Developer    | 76\n",
      "AI           | 74\n",
      "CEO          | 70\n",
      "China        | 65\n",
      "Intel        | 60\n",
      "CNET         | 59\n",
      "Facebook     | 56\n",
      "Keanu Reeves | 53\n",
      "UK           | 48\n",
      "MSFT         | 48\n",
      "India        | 48\n",
      "Nintendo     | 44\n",
      "Trump        | 42\n",
      "Partner      | 40\n",
      "London       | 35\n",
      "MSN          | 35\n",
      "@            | 33\n",
      "HP           | 33\n"
     ]
    }
   ],
   "source": [
    "from collections import Counter\n",
    "list_words = [text[1] for entity in entity_title_list for text in entity.items()]\n",
    "counts = Counter(list_words)\n",
    "print('word         |  count ')\n",
    "for i in counts.most_common(25): \n",
    "    print('{:<12} | {}'.format(i[0], i[1]))"
   ]
  },
  {
   "cell_type": "markdown",
   "metadata": {},
   "source": [
    "# Topic cluster using LDA"
   ]
  },
  {
   "cell_type": "code",
   "execution_count": 74,
   "metadata": {},
   "outputs": [],
   "source": [
    "from gensim.models import ldamodel\n",
    "from gensim.corpora.dictionary import Dictionary\n",
    "import pyLDAvis.gensim"
   ]
  },
  {
   "cell_type": "code",
   "execution_count": 79,
   "metadata": {},
   "outputs": [],
   "source": [
    "data = load_data('microsoft_clean.json') \n",
    "titles = [[data[i]['title'], data[i]['published'][:10]]  for i in range(len(data))]\n",
    "df_feeds = pd.DataFrame(titles,columns=['title', 'date'])\n",
    "titles = df_feeds[['title']].applymap(cleanup_text)['title']"
   ]
  },
  {
   "cell_type": "code",
   "execution_count": 80,
   "metadata": {},
   "outputs": [],
   "source": [
    "dictionary = Dictionary(titles)\n",
    "dictionary.filter_extremes(no_below=20, no_above=0.8)\n",
    "corpora = [dictionary.doc2bow(doc) for doc in titles]\n",
    "\n",
    "# Running and Trainign LDA model on the document term matrix.\n",
    "lda_model = ldamodel.LdaModel(corpora, num_topics=10, id2word = dictionary, passes=50)"
   ]
  },
  {
   "cell_type": "code",
   "execution_count": 81,
   "metadata": {},
   "outputs": [
    {
     "data": {
      "text/html": [
       "\n",
       "<link rel=\"stylesheet\" type=\"text/css\" href=\"https://cdn.rawgit.com/bmabey/pyLDAvis/files/ldavis.v1.0.0.css\">\n",
       "\n",
       "\n",
       "<div id=\"ldavis_el101361402802453401047931797873\"></div>\n",
       "<script type=\"text/javascript\">\n",
       "\n",
       "var ldavis_el101361402802453401047931797873_data = {\"mdsDat\": {\"Freq\": [12.940403938293457, 12.687929153442383, 12.178606986999512, 11.03104305267334, 10.086316108703613, 9.709965705871582, 9.109535217285156, 7.650187015533447, 7.467875003814697, 7.13814640045166], \"cluster\": [1, 1, 1, 1, 1, 1, 1, 1, 1, 1], \"topics\": [1, 2, 3, 4, 5, 6, 7, 8, 9, 10], \"x\": [-0.1500989057273886, 0.20145639853369804, 0.013469310838652162, -0.22753845535739073, 0.20707153395811062, -0.04091803588466409, 0.1870706226447797, 0.14447673851740378, -0.14735236940041602, -0.18763683812278514], \"y\": [-0.2018551151140921, 0.03400329501080556, -0.13465402082274333, -0.13341724075835149, -0.03197400210709209, -0.15329238490937883, 0.07429424137543636, 0.04701945877031746, 0.19262594151476395, 0.3072498270403349]}, \"tinfo\": {\"Category\": [\"Default\", \"Default\", \"Default\", \"Default\", \"Default\", \"Default\", \"Default\", \"Default\", \"Default\", \"Default\", \"Default\", \"Default\", \"Default\", \"Default\", \"Default\", \"Default\", \"Default\", \"Default\", \"Default\", \"Default\", \"Default\", \"Default\", \"Default\", \"Default\", \"Default\", \"Default\", \"Default\", \"Default\", \"Default\", \"Default\", \"Topic1\", \"Topic1\", \"Topic1\", \"Topic1\", \"Topic1\", \"Topic1\", \"Topic1\", \"Topic1\", \"Topic1\", \"Topic1\", \"Topic1\", \"Topic1\", \"Topic1\", \"Topic1\", \"Topic1\", \"Topic1\", \"Topic1\", \"Topic1\", \"Topic1\", \"Topic1\", \"Topic1\", \"Topic1\", \"Topic1\", \"Topic1\", \"Topic1\", \"Topic1\", \"Topic1\", \"Topic1\", \"Topic1\", \"Topic1\", \"Topic1\", \"Topic1\", \"Topic1\", \"Topic1\", \"Topic1\", \"Topic1\", \"Topic1\", \"Topic1\", \"Topic1\", \"Topic1\", \"Topic1\", \"Topic1\", \"Topic2\", \"Topic2\", \"Topic2\", \"Topic2\", \"Topic2\", \"Topic2\", \"Topic2\", \"Topic2\", \"Topic2\", \"Topic2\", \"Topic2\", \"Topic2\", \"Topic2\", \"Topic2\", \"Topic2\", \"Topic2\", \"Topic2\", \"Topic2\", \"Topic2\", \"Topic2\", \"Topic2\", \"Topic2\", \"Topic2\", \"Topic2\", \"Topic2\", \"Topic2\", \"Topic2\", \"Topic2\", \"Topic2\", \"Topic2\", \"Topic2\", \"Topic2\", \"Topic2\", \"Topic2\", \"Topic2\", \"Topic2\", \"Topic2\", \"Topic2\", \"Topic2\", \"Topic2\", \"Topic2\", \"Topic2\", \"Topic2\", \"Topic2\", \"Topic3\", \"Topic3\", \"Topic3\", \"Topic3\", \"Topic3\", \"Topic3\", \"Topic3\", \"Topic3\", \"Topic3\", \"Topic3\", \"Topic3\", \"Topic3\", \"Topic3\", \"Topic3\", \"Topic3\", \"Topic3\", \"Topic3\", \"Topic3\", \"Topic3\", \"Topic3\", \"Topic3\", \"Topic3\", \"Topic3\", \"Topic3\", \"Topic3\", \"Topic3\", \"Topic3\", \"Topic3\", \"Topic3\", \"Topic3\", \"Topic3\", \"Topic3\", \"Topic3\", \"Topic3\", \"Topic3\", \"Topic3\", \"Topic3\", \"Topic3\", \"Topic3\", \"Topic3\", \"Topic3\", \"Topic3\", \"Topic3\", \"Topic4\", \"Topic4\", \"Topic4\", \"Topic4\", \"Topic4\", \"Topic4\", \"Topic4\", \"Topic4\", \"Topic4\", \"Topic4\", \"Topic4\", \"Topic4\", \"Topic4\", \"Topic4\", \"Topic4\", \"Topic4\", \"Topic4\", \"Topic4\", \"Topic4\", \"Topic4\", \"Topic4\", \"Topic4\", \"Topic4\", \"Topic4\", \"Topic4\", \"Topic4\", \"Topic4\", \"Topic4\", \"Topic4\", \"Topic4\", \"Topic4\", \"Topic4\", \"Topic4\", \"Topic4\", \"Topic4\", \"Topic4\", \"Topic4\", \"Topic4\", \"Topic4\", \"Topic4\", \"Topic4\", \"Topic4\", \"Topic4\", \"Topic4\", \"Topic4\", \"Topic4\", \"Topic4\", \"Topic4\", \"Topic5\", \"Topic5\", \"Topic5\", \"Topic5\", \"Topic5\", \"Topic5\", \"Topic5\", \"Topic5\", \"Topic5\", \"Topic5\", \"Topic5\", \"Topic5\", \"Topic5\", \"Topic5\", \"Topic5\", \"Topic5\", \"Topic5\", \"Topic5\", \"Topic5\", \"Topic5\", \"Topic5\", \"Topic5\", \"Topic5\", \"Topic5\", \"Topic5\", \"Topic5\", \"Topic5\", \"Topic5\", \"Topic5\", \"Topic5\", \"Topic5\", \"Topic5\", \"Topic5\", \"Topic5\", \"Topic5\", \"Topic5\", \"Topic5\", \"Topic5\", \"Topic5\", \"Topic5\", \"Topic5\", \"Topic5\", \"Topic6\", \"Topic6\", \"Topic6\", \"Topic6\", \"Topic6\", \"Topic6\", \"Topic6\", \"Topic6\", \"Topic6\", \"Topic6\", \"Topic6\", \"Topic6\", \"Topic6\", \"Topic6\", \"Topic6\", \"Topic6\", \"Topic6\", \"Topic6\", \"Topic6\", \"Topic6\", \"Topic6\", \"Topic6\", \"Topic6\", \"Topic6\", \"Topic6\", \"Topic6\", \"Topic6\", \"Topic6\", \"Topic6\", \"Topic6\", \"Topic6\", \"Topic6\", \"Topic6\", \"Topic6\", \"Topic6\", \"Topic6\", \"Topic6\", \"Topic6\", \"Topic6\", \"Topic6\", \"Topic6\", \"Topic6\", \"Topic6\", \"Topic6\", \"Topic6\", \"Topic6\", \"Topic6\", \"Topic6\", \"Topic7\", \"Topic7\", \"Topic7\", \"Topic7\", \"Topic7\", \"Topic7\", \"Topic7\", \"Topic7\", \"Topic7\", \"Topic7\", \"Topic7\", \"Topic7\", \"Topic7\", \"Topic7\", \"Topic7\", \"Topic7\", \"Topic7\", \"Topic7\", \"Topic7\", \"Topic7\", \"Topic7\", \"Topic7\", \"Topic7\", \"Topic7\", \"Topic7\", \"Topic7\", \"Topic7\", \"Topic7\", \"Topic7\", \"Topic7\", \"Topic7\", \"Topic7\", \"Topic7\", \"Topic7\", \"Topic7\", \"Topic7\", \"Topic7\", \"Topic7\", \"Topic7\", \"Topic7\", \"Topic8\", \"Topic8\", \"Topic8\", \"Topic8\", \"Topic8\", \"Topic8\", \"Topic8\", \"Topic8\", \"Topic8\", \"Topic8\", \"Topic8\", \"Topic8\", \"Topic8\", \"Topic8\", \"Topic8\", \"Topic8\", \"Topic8\", \"Topic8\", \"Topic8\", \"Topic8\", \"Topic8\", \"Topic8\", \"Topic8\", \"Topic8\", \"Topic8\", \"Topic8\", \"Topic8\", \"Topic8\", \"Topic8\", \"Topic8\", \"Topic8\", \"Topic8\", \"Topic8\", \"Topic8\", \"Topic8\", \"Topic8\", \"Topic8\", \"Topic8\", \"Topic8\", \"Topic8\", \"Topic8\", \"Topic8\", \"Topic9\", \"Topic9\", \"Topic9\", \"Topic9\", \"Topic9\", \"Topic9\", \"Topic9\", \"Topic9\", \"Topic9\", \"Topic9\", \"Topic9\", \"Topic9\", \"Topic9\", \"Topic9\", \"Topic9\", \"Topic9\", \"Topic9\", \"Topic9\", \"Topic9\", \"Topic9\", \"Topic9\", \"Topic9\", \"Topic9\", \"Topic9\", \"Topic9\", \"Topic9\", \"Topic9\", \"Topic9\", \"Topic9\", \"Topic9\", \"Topic9\", \"Topic9\", \"Topic9\", \"Topic9\", \"Topic9\", \"Topic9\", \"Topic9\", \"Topic9\", \"Topic9\", \"Topic10\", \"Topic10\", \"Topic10\", \"Topic10\", \"Topic10\", \"Topic10\", \"Topic10\", \"Topic10\", \"Topic10\", \"Topic10\", \"Topic10\", \"Topic10\", \"Topic10\", \"Topic10\", \"Topic10\", \"Topic10\", \"Topic10\", \"Topic10\", \"Topic10\", \"Topic10\", \"Topic10\", \"Topic10\", \"Topic10\", \"Topic10\", \"Topic10\", \"Topic10\", \"Topic10\", \"Topic10\", \"Topic10\", \"Topic10\", \"Topic10\", \"Topic10\", \"Topic10\", \"Topic10\", \"Topic10\", \"Topic10\", \"Topic10\", \"Topic10\", \"Topic10\"], \"Freq\": [955.0, 850.0, 733.0, 849.0, 1369.0, 2809.0, 544.0, 502.0, 581.0, 487.0, 315.0, 395.0, 364.0, 345.0, 446.0, 269.0, 415.0, 359.0, 237.0, 264.0, 207.0, 332.0, 334.0, 321.0, 237.0, 195.0, 194.0, 230.0, 274.0, 217.0, 954.4268188476562, 732.1783447265625, 394.98553466796875, 237.06039428710938, 216.660888671875, 158.6920928955078, 146.0934600830078, 118.48886108398438, 93.53033447265625, 81.78416442871094, 73.71260070800781, 73.52007293701172, 73.10309600830078, 67.10734558105469, 67.07044219970703, 66.1985092163086, 64.85418701171875, 62.78302764892578, 61.061283111572266, 60.711795806884766, 56.574703216552734, 55.99962615966797, 53.252227783203125, 52.453277587890625, 52.00071716308594, 51.513877868652344, 50.46995544433594, 50.23264694213867, 50.1702766418457, 46.33155822753906, 772.4439086914062, 134.38311767578125, 124.62030792236328, 134.32327270507812, 112.4753646850586, 438.9084777832031, 92.54734802246094, 96.3023452758789, 66.4732666015625, 154.9230194091797, 214.7310333251953, 81.27238464355469, 501.3855285644531, 263.3070373535156, 189.30133056640625, 179.29348754882812, 170.5418243408203, 162.30517578125, 148.5941619873047, 144.0226287841797, 134.58966064453125, 125.11434936523438, 119.20406341552734, 99.58578491210938, 90.5513687133789, 83.36068725585938, 81.99630737304688, 79.02122497558594, 73.07003021240234, 72.99507141113281, 65.60453033447266, 63.27906036376953, 60.49800491333008, 60.05363464355469, 58.89324188232422, 58.47760772705078, 56.315826416015625, 50.43070983886719, 48.29988098144531, 45.530941009521484, 45.14577865600586, 40.92841339111328, 521.964599609375, 359.9075622558594, 269.3682556152344, 298.0513916015625, 189.187255859375, 124.95519256591797, 127.16807556152344, 466.1399841308594, 128.2513427734375, 69.07711029052734, 181.3140106201172, 116.34325408935547, 89.64140319824219, 73.8170166015625, 850.001953125, 543.7142944335938, 344.55010986328125, 181.33859252929688, 151.75210571289062, 130.86544799804688, 111.85382080078125, 110.47077941894531, 105.99474334716797, 105.19908905029297, 97.24119567871094, 96.60474395751953, 93.37699127197266, 85.03382873535156, 80.45657348632812, 74.41081237792969, 72.06256103515625, 67.38328552246094, 67.16378784179688, 66.78832244873047, 63.58010482788086, 62.598854064941406, 60.104652404785156, 59.931636810302734, 59.688350677490234, 56.77840042114258, 56.45074462890625, 54.117095947265625, 52.07415008544922, 47.455501556396484, 83.67110443115234, 206.18783569335938, 87.79696655273438, 134.26007080078125, 191.9716033935547, 240.90435791015625, 383.0318603515625, 79.12059783935547, 114.27973937988281, 134.82467651367188, 79.14432525634766, 68.82459259033203, 71.34432220458984, 194.6173553466797, 170.5325927734375, 141.20811462402344, 118.0190658569336, 112.95667266845703, 101.81844329833984, 99.19811248779297, 89.06458282470703, 81.8454360961914, 77.37615966796875, 75.14646911621094, 68.28651428222656, 67.91974639892578, 67.67119598388672, 59.31452560424805, 57.715087890625, 57.07950973510742, 55.77875518798828, 54.222957611083984, 52.65528869628906, 50.898780822753906, 50.1998291015625, 48.94023132324219, 48.256988525390625, 47.56563186645508, 46.77151870727539, 45.45836639404297, 44.858829498291016, 43.95066833496094, 41.03914260864258, 71.39453887939453, 280.4349670410156, 158.10525512695312, 62.073585510253906, 89.66177368164062, 205.9711151123047, 613.3870239257812, 79.7061767578125, 109.82755279541016, 65.56397247314453, 109.26007843017578, 108.46669006347656, 74.61679077148438, 147.04684448242188, 67.92420196533203, 77.20536804199219, 75.51731872558594, 81.61583709716797, 176.59603881835938, 164.37777709960938, 157.07810974121094, 132.11309814453125, 122.26762390136719, 119.92882537841797, 110.92378997802734, 101.00407409667969, 99.9253158569336, 96.85926055908203, 96.04978942871094, 95.97962951660156, 92.5905990600586, 91.53035736083984, 78.59676361083984, 74.53379821777344, 73.6277084350586, 73.08134460449219, 64.69062042236328, 61.64018630981445, 61.6080436706543, 60.16969299316406, 60.02748107910156, 57.28476333618164, 56.984928131103516, 52.581336975097656, 51.80048370361328, 51.309654235839844, 50.2706413269043, 49.96293258666992, 150.3911895751953, 787.6826782226562, 130.7682342529297, 111.6810531616211, 127.43383026123047, 135.79322814941406, 126.5603256225586, 80.7201919555664, 167.6693572998047, 116.40966796875, 100.2645263671875, 86.25473022460938, 148.2077178955078, 147.91920471191406, 134.1574249267578, 110.20137023925781, 106.99202728271484, 104.77616119384766, 100.50985717773438, 91.97926330566406, 85.32772827148438, 85.15100860595703, 81.35648345947266, 74.01734161376953, 72.33522033691406, 71.20256042480469, 70.46662902832031, 70.10536193847656, 66.61599731445312, 63.10930252075195, 62.20878982543945, 57.167301177978516, 55.50498580932617, 54.1771125793457, 53.41804504394531, 52.82075119018555, 52.627349853515625, 50.06123352050781, 49.787803649902344, 49.59514617919922, 47.28327560424805, 44.27113342285156, 97.46067810058594, 76.70244598388672, 103.70259857177734, 165.04542541503906, 153.66665649414062, 119.91558837890625, 115.52832794189453, 98.88349914550781, 66.99006652832031, 170.9691619873047, 402.3170471191406, 159.98609924316406, 77.30402374267578, 73.17606353759766, 79.80177307128906, 78.04503631591797, 78.31632232666016, 75.76325225830078, 236.38426208496094, 194.95140075683594, 193.1786651611328, 179.57177734375, 172.17601013183594, 111.30583190917969, 108.40154266357422, 101.48780822753906, 99.25725555419922, 97.81385803222656, 83.89531707763672, 73.44054412841797, 70.06649780273438, 69.56905364990234, 68.61746215820312, 67.695556640625, 65.69916534423828, 64.85318756103516, 62.330902099609375, 56.34945297241211, 55.625431060791016, 54.56636047363281, 49.65603256225586, 48.571205139160156, 48.15831756591797, 48.021270751953125, 47.34355926513672, 46.57219696044922, 45.502864837646484, 45.46794128417969, 177.03750610351562, 163.9637908935547, 115.93478393554688, 129.36451721191406, 101.80133819580078, 79.15599060058594, 122.15033721923828, 319.2540283203125, 92.8263931274414, 89.80565643310547, 163.78907775878906, 114.12613677978516, 92.57949829101562, 92.51712799072266, 88.03580474853516, 76.76761627197266, 75.87411499023438, 73.48878479003906, 70.37184143066406, 65.9590835571289, 64.59601593017578, 63.925662994384766, 60.48691177368164, 59.548431396484375, 57.540523529052734, 57.04413604736328, 56.79623794555664, 56.45954132080078, 55.04323959350586, 54.19021987915039, 53.42341613769531, 53.39214324951172, 52.84454345703125, 48.090389251708984, 48.05604553222656, 45.42152404785156, 43.722511291503906, 41.301753997802734, 40.46342086791992, 39.07160568237305, 93.86573028564453, 270.7796936035156, 102.12741088867188, 93.98534393310547, 76.5086898803711, 109.79071807861328, 80.9814453125, 87.59371185302734, 81.89179992675781, 236.1150360107422, 62.38381576538086, 57.602317810058594, 268.0697021484375, 206.43833923339844, 164.04922485351562, 138.74612426757812, 126.34040832519531, 121.63628387451172, 105.91655731201172, 104.92508697509766, 104.40526580810547, 100.17477416992188, 98.44326782226562, 87.90837860107422, 84.34789276123047, 81.3248291015625, 70.85414123535156, 68.89598846435547, 67.32209014892578, 66.8379135131836, 66.04267883300781, 62.5081787109375, 60.539302825927734, 59.831634521484375, 57.61421203613281, 56.6384162902832, 55.06695556640625, 53.653079986572266, 52.84728240966797, 52.84125518798828, 44.722408294677734, 41.298362731933594, 367.9041748046875, 159.86834716796875, 95.87532806396484, 121.13585662841797, 69.64596557617188, 75.54444122314453, 84.72416687011719, 74.42404174804688, 71.58920288085938, 314.461181640625, 100.3803482055664, 96.51728820800781, 96.24434661865234, 77.300048828125, 74.70344543457031, 71.83106994628906, 67.63174438476562, 66.99215698242188, 62.952667236328125, 60.435813903808594, 59.61789321899414, 56.51166534423828, 55.42552947998047, 55.06301498413086, 54.96501541137695, 53.35514831542969, 52.763431549072266, 50.280757904052734, 49.447349548339844, 48.079837799072266, 47.219722747802734, 42.97601318359375, 42.722206115722656, 42.705413818359375, 42.12537384033203, 41.86735534667969, 40.45771026611328, 40.25181198120117, 40.24496841430664, 154.57998657226562, 97.35277557373047, 56.44814682006836, 73.33325958251953, 56.4848518371582, 62.663841247558594, 72.94976806640625, 119.16083526611328, 62.79081344604492], \"Term\": [\"xbox\", \"window\", \"e3\", \"game\", \"2019\", \"microsoft\", \"10\", \"market\", \"google\", \"usa\", \"pc\", \"one\", \"tech\", \"update\", \"cloud\", \"job\", \"service\", \"2\", \"msft\", \"top\", \"developer\", \"technology\", \"azure\", \"may\", \"live\", \"co\", \"stock\", \"day\", \"software\", \"video\", \"xbox\", \"e3\", \"one\", \"live\", \"video\", \"coming\", \"pas\", \"console\", \"scarlett\", \"play\", \"summer\", \"c\", \"executive\", \"controller\", \"reveals\", \"nintendo\", \"gold\", \"ahead\", \"gen\", \"double\", \"local\", \"podcast\", \"con\", \"ps4\", \"prediction\", \"cnet\", \"keanu\", \"series\", \"gamesradar\", \"reef\", \"game\", \"project\", \"gaming\", \"next\", \"free\", \"2019\", \"week\", \"best\", \"announced\", \"new\", \"microsoft\", \"time\", \"market\", \"top\", \"global\", \"server\", \"key\", \"player\", \"ibm\", \"oracle\", \"analysis\", \"stadium\", \"growth\", \"application\", \"medium\", \"analytics\", \"computing\", \"2025\", \"sap\", \"aws\", \"trend\", \"search\", \"iot\", \"house\", \"revenue\", \"accounting\", \"exchange\", \"xcloud\", \"cisco\", \"bill\", \"communication\", \"corporation\", \"google\", \"cloud\", \"technology\", \"service\", \"software\", \"amazon\", \"security\", \"microsoft\", \"azure\", \"industry\", \"2019\", \"data\", \"business\", \"u\", \"window\", \"10\", \"update\", \"fix\", \"use\", \"app\", \"linux\", \"phone\", \"user\", \"professional\", \"word\", \"needed\", \"desktop\", \"entry\", \"patch\", \"version\", \"let\", \"download\", \"error\", \"guide\", \"x\", \"bluekeep\", \"apps\", \"preview\", \"un\", \"streaming\", \"administrative\", \"still\", \"vulnerability\", \"step\", \"file\", \"office\", \"android\", \"make\", \"data\", \"new\", \"microsoft\", \"need\", \"may\", \"2019\", \"security\", \"feature\", \"release\", \"5\", \"trailer\", \"3\", \"director\", \"gear\", \"state\", \"specialist\", \"halo\", \"star\", \"edition\", \"press\", \"award\", \"look\", \"order\", \"daily\", \"leak\", \"long\", \"infinite\", \"everything\", \"start\", \"chief\", \"party\", \"secure\", \"alert\", \"field\", \"announcement\", \"x64\", \"biggest\", \"light\", \"pre\", \"win\", \"2\", \"june\", \"community\", \"6\", \"may\", \"2019\", \"uk\", \"conference\", \"19\", \"release\", \"u\", \"4\", \"new\", \"date\", \"year\", \"day\", \"news\", \"de\", \"partner\", \"build\", \"customer\", \"365\", \"store\", \"la\", \"solution\", \"dynamic\", \"administrator\", \"position\", \"crm\", \"announces\", \"month\", \"learn\", \"playstation\", \"drive\", \"based\", \"en\", \"cyberpunk\", \"center\", \"2077\", \"revealed\", \"partnership\", \"per\", \"another\", \"focus\", \"legal\", \"university\", \"opinion\", \"team\", \"microsoft\", \"huawei\", \"sony\", \"ai\", \"business\", \"system\", \"studio\", \"new\", \"service\", \"data\", \"cloud\", \"pro\", \"minecraft\", \"bitcoin\", \"show\", \"surface\", \"driver\", \"2020\", \"ar\", \"rose\", \"laptop\", \"post\", \"machine\", \"book\", \"learning\", \"2016\", \"earth\", \"blog\", \"move\", \"demo\", \"identity\", \"meet\", \"interview\", \"skill\", \"screen\", \"70\", \"w\", \"making\", \"o\", \"potential\", \"ready\", \"mobile\", \"tool\", \"microsofts\", \"get\", \"launch\", \"first\", \"world\", \"edge\", \"join\", \"news\", \"microsoft\", \"new\", \"7\", \"go\", \"using\", \"digital\", \"2\", \"game\", \"msft\", \"co\", \"stock\", \"analyst\", \"million\", \"holding\", \"buy\", \"stake\", \"end\", \"could\", \"china\", \"investment\", \"capital\", \"ban\", \"multilingual\", \"case\", \"police\", \"bitnami\", \"firm\", \"might\", \"selling\", \"advanced\", \"nbo\", \"cut\", \"continues\", \"trade\", \"sold\", \"getting\", \"llc\", \"0\", \"company\", \"management\", \"price\", \"share\", \"inc\", \"group\", \"apple\", \"microsoft\", \"tech\", \"data\", \"excel\", \"outlook\", \"level\", \"v\", \"hp\", \"giant\", \"15\", \"expert\", \"bit\", \"stack\", \"graphic\", \"amd\", \"tip\", \"woman\", \"virtual\", \"finance\", \"technical\", \"brand\", \"architect\", \"financial\", \"lenovo\", \"gameplay\", \"certification\", \"personal\", \"insider\", \"el\", \"london\", \"leader\", \"lead\", \"demand\", \"blockchain\", \"tech\", \"network\", \"intel\", \"web\", \"digital\", \"platform\", \"online\", \"report\", \"microsoft\", \"health\", \"samsung\", \"job\", \"developer\", \"assistant\", \"engineer\", \"manager\", \"deal\", \"want\", \"call\", \"work\", \"ca\", \"database\", \"create\", \"sql\", \"event\", \"city\", \"care\", \"representative\", \"power\", \"part\", \"tea\", \"school\", \"17\", \"senior\", \"people\", \"net\", \"m\", \"source\", \"trial\", \"account\", \"money\", \"usa\", \"azure\", \"1\", \"support\", \"help\", \"open\", \"software\", \"news\", \"new\", \"pc\", \"trump\", \"take\", \"fox40\", \"64\", \"home\", \"return\", \"washington\", \"title\", \"back\", \"stop\", \"wall\", \"good\", \"20\", \"value\", \"beach\", \"coordinator\", \"food\", \"pdf\", \"consultant\", \"fl\", \"dark\", \"south\", \"public\", \"artificial\", \"give\", \"america\", \"chicago\", \"idea\", \"card\", \"day\", \"access\", \"content\", \"life\", \"ceo\", \"facebook\", \"say\", \"usa\", \"time\"], \"Total\": [955.0, 850.0, 733.0, 849.0, 1369.0, 2809.0, 544.0, 502.0, 581.0, 487.0, 315.0, 395.0, 364.0, 345.0, 446.0, 269.0, 415.0, 359.0, 237.0, 264.0, 207.0, 332.0, 334.0, 321.0, 237.0, 195.0, 194.0, 230.0, 274.0, 217.0, 955.3561401367188, 733.1076049804688, 395.914794921875, 237.98968505859375, 217.5901641845703, 159.6213836669922, 147.02272033691406, 119.41812896728516, 94.4595947265625, 82.7134780883789, 74.64190673828125, 74.44947814941406, 74.03248596191406, 68.03662872314453, 67.99974822998047, 67.12779235839844, 65.78347778320312, 63.712345123291016, 61.990543365478516, 61.64114761352539, 57.504146575927734, 56.929080963134766, 54.181640625, 53.38255310058594, 52.92997741699219, 52.44315719604492, 51.399208068847656, 51.16195297241211, 51.09962463378906, 47.26081085205078, 849.0366821289062, 170.3892822265625, 163.52484130859375, 184.2789764404297, 162.33558654785156, 1369.0487060546875, 131.13600158691406, 193.71307373046875, 90.36089324951172, 957.1930541992188, 2809.586181640625, 219.04135131835938, 502.31756591796875, 264.23907470703125, 190.23333740234375, 180.2255401611328, 171.47381591796875, 163.23715209960938, 149.526123046875, 144.95458984375, 135.52163696289062, 126.04634857177734, 120.13605499267578, 100.5178451538086, 91.48341369628906, 84.29270935058594, 82.92849731445312, 79.95317840576172, 74.00200653076172, 73.92704772949219, 66.5365219116211, 64.21106719970703, 61.42999267578125, 60.98566436767578, 59.82524490356445, 59.40964126586914, 57.24786376953125, 51.36277770996094, 49.231868743896484, 46.46292495727539, 46.07780075073242, 41.860416412353516, 581.9938354492188, 446.99310302734375, 332.15692138671875, 415.2919006347656, 274.7608947753906, 175.52853393554688, 230.38319396972656, 2809.586181640625, 334.9423522949219, 85.01400756835938, 1369.0487060546875, 499.0115051269531, 278.2427673339844, 263.50347900390625, 850.9495239257812, 544.6619262695312, 345.49774169921875, 182.2862091064453, 152.6997528076172, 131.81312561035156, 112.80146026611328, 111.41846466064453, 106.94236755371094, 106.14674377441406, 98.18881225585938, 97.55247497558594, 94.32463073730469, 85.98145294189453, 81.40418243408203, 75.35843658447266, 73.01020812988281, 68.33092498779297, 68.11139678955078, 67.73600006103516, 64.52788543701172, 63.54644012451172, 61.05229949951172, 60.8792839050293, 60.636131286621094, 57.72615051269531, 57.39842987060547, 55.064735412597656, 53.02174758911133, 48.403160095214844, 89.503173828125, 239.04600524902344, 104.66246032714844, 185.3911895751953, 499.0115051269531, 957.1930541992188, 2809.586181640625, 122.33543395996094, 321.08746337890625, 1369.0487060546875, 230.38319396972656, 94.44963836669922, 247.61973571777344, 195.54798889160156, 171.46322631835938, 142.13876342773438, 118.94974517822266, 113.88729095458984, 102.74908447265625, 100.1288070678711, 89.99522399902344, 82.77603912353516, 78.30681610107422, 76.07709503173828, 69.2171401977539, 68.85040283203125, 68.60181427001953, 60.24515914916992, 58.64577102661133, 58.01023483276367, 56.709381103515625, 55.15358352661133, 53.58594512939453, 51.82944107055664, 51.1304817199707, 49.870872497558594, 49.18768310546875, 48.49641799926758, 47.70216369628906, 46.389007568359375, 45.78947067260742, 44.881317138671875, 41.96976852416992, 76.7213134765625, 359.5821838378906, 199.44703674316406, 67.31072235107422, 108.78788757324219, 321.08746337890625, 1369.0487060546875, 97.65608215332031, 160.61477661132812, 81.56156158447266, 247.61973571777344, 263.50347900390625, 113.20697021484375, 957.1930541992188, 102.48448944091797, 183.5510711669922, 230.9069366455078, 467.52044677734375, 177.5364227294922, 165.31822204589844, 158.01852416992188, 133.05348205566406, 123.20803833007812, 120.86927032470703, 111.86418914794922, 101.94448852539062, 100.86571502685547, 97.79965209960938, 96.99040985107422, 96.9200668334961, 93.53102111816406, 92.47083282470703, 79.53728485107422, 75.4742431640625, 74.568115234375, 74.02178192138672, 65.63117980957031, 62.58061599731445, 62.54848861694336, 61.11012268066406, 60.96798324584961, 58.22515869140625, 57.925418853759766, 53.52175521850586, 52.74092102050781, 52.25007247924805, 51.21105194091797, 50.903377532958984, 201.06016540527344, 2809.586181640625, 211.89016723632812, 170.2148895263672, 222.2681427001953, 278.2427673339844, 248.104736328125, 108.8548812866211, 957.1930541992188, 415.2919006347656, 499.0115051269531, 446.99310302734375, 149.14952087402344, 148.8610382080078, 135.0991973876953, 111.14325714111328, 107.9338150024414, 105.71813201904297, 101.45175170898438, 92.92105102539062, 86.26988983154297, 86.09281921386719, 82.29829406738281, 74.95915985107422, 73.27705383300781, 72.14436340332031, 71.408447265625, 71.047119140625, 67.55789184570312, 64.05110931396484, 63.15058135986328, 58.10911178588867, 56.44677734375, 55.11896514892578, 54.35984802246094, 53.7625617980957, 53.5692253112793, 51.00306701660156, 50.72964859008789, 50.53694152832031, 48.225135803222656, 45.21295928955078, 108.8218765258789, 89.78801727294922, 142.0408935546875, 275.776611328125, 249.65933227539062, 178.43649291992188, 191.0847930908203, 148.92376708984375, 80.56202697753906, 467.52044677734375, 2809.586181640625, 957.1930541992188, 120.36443328857422, 106.2842025756836, 147.95167541503906, 188.67788696289062, 359.5821838378906, 849.0366821289062, 237.31544494628906, 195.88258361816406, 194.10986328125, 180.5030059814453, 173.10723876953125, 112.23700714111328, 109.33275604248047, 102.41897583007812, 100.18849182128906, 98.74510955810547, 84.82652282714844, 74.3717269897461, 70.99768829345703, 70.50028228759766, 69.54867553710938, 68.62676239013672, 66.63040161132812, 65.7844009399414, 63.26211166381836, 57.28068161010742, 56.55665969848633, 55.49760055541992, 50.587215423583984, 49.50239562988281, 49.089576721191406, 48.95246505737305, 48.274757385253906, 47.5034294128418, 46.434043884277344, 46.39914321899414, 206.30751037597656, 206.580078125, 143.81198120117188, 165.9342803955078, 128.64431762695312, 99.01421356201172, 203.2801513671875, 2809.586181640625, 364.43756103515625, 499.0115051269531, 164.73098754882812, 115.06803894042969, 93.52144622802734, 93.45905303955078, 88.97773742675781, 77.70951080322266, 76.81603240966797, 74.43067932128906, 71.313720703125, 66.9010238647461, 65.53791046142578, 64.8675765991211, 61.428802490234375, 60.49031066894531, 58.482418060302734, 57.98607635498047, 57.738155364990234, 57.40143585205078, 55.98515319824219, 55.13221740722656, 54.3653564453125, 54.33414840698242, 53.78643798828125, 49.03230667114258, 48.99799728393555, 46.36341857910156, 44.664432525634766, 42.243656158447266, 41.40534591674805, 40.01356887817383, 105.91487884521484, 364.43756103515625, 129.42660522460938, 128.82461547851562, 98.39013671875, 188.67788696289062, 130.10914611816406, 154.9205780029297, 147.67739868164062, 2809.586181640625, 106.18843841552734, 81.0091323852539, 269.02880859375, 207.3974151611328, 165.00830078125, 139.7052001953125, 127.29947662353516, 122.59545135498047, 106.87569427490234, 105.88418579101562, 105.3644027709961, 101.13385009765625, 99.40239715576172, 88.8675308227539, 85.3069839477539, 82.28395080566406, 71.81324005126953, 69.85507202148438, 68.28115844726562, 67.79704284667969, 67.00179290771484, 63.467227935791016, 61.498355865478516, 60.791011810302734, 58.573265075683594, 57.597530364990234, 56.026023864746094, 54.612178802490234, 53.80635452270508, 53.80032730102539, 45.68148422241211, 42.25756072998047, 487.903076171875, 334.9423522949219, 151.9093780517578, 239.7364044189453, 97.94546508789062, 151.49681091308594, 274.7608947753906, 467.52044677734375, 957.1930541992188, 315.3818359375, 101.30094909667969, 97.43791961669922, 97.1649169921875, 78.2208480834961, 75.62406158447266, 72.75169372558594, 68.55237579345703, 67.91283416748047, 63.873287200927734, 61.35642623901367, 60.53850173950195, 57.43230056762695, 56.346168518066406, 55.98388671875, 55.88564682006836, 54.2757453918457, 53.68402099609375, 51.2014045715332, 50.367958068847656, 49.00044250488281, 48.14038848876953, 43.896629333496094, 43.642826080322266, 43.62604522705078, 43.04598617553711, 42.788002014160156, 41.37831497192383, 41.17241287231445, 41.16561508178711, 230.9069366455078, 141.4169464111328, 66.02565002441406, 120.00410461425781, 75.95266723632812, 96.11572265625, 144.43641662597656, 487.903076171875, 219.04135131835938], \"loglift\": [30.0, 29.0, 28.0, 27.0, 26.0, 25.0, 24.0, 23.0, 22.0, 21.0, 20.0, 19.0, 18.0, 17.0, 16.0, 15.0, 14.0, 13.0, 12.0, 11.0, 10.0, 9.0, 8.0, 7.0, 6.0, 5.0, 4.0, 3.0, 2.0, 1.0, 2.043800115585327, 2.0434999465942383, 2.0425000190734863, 2.0408999919891357, 2.0404999256134033, 2.0390000343322754, 2.0385000705718994, 2.0369999408721924, 2.034899950027466, 2.0334999561309814, 2.0322999954223633, 2.0322999954223633, 2.0322000980377197, 2.031100034713745, 2.031100034713745, 2.030900001525879, 2.030600070953369, 2.030100107192993, 2.0297000408172607, 2.029599905014038, 2.0285000801086426, 2.02839994430542, 2.0274999141693115, 2.0272998809814453, 2.027100086212158, 2.026900053024292, 2.026599884033203, 2.0264999866485596, 2.0264999866485596, 2.0250000953674316, 1.9502999782562256, 1.8073999881744385, 1.7731000185012817, 1.728600025177002, 1.677899956703186, 0.9071999788284302, 1.6963000297546387, 1.345900058746338, 1.7378000020980835, 0.22370000183582306, -0.5266000032424927, 1.0534000396728516, 2.062700033187866, 2.061000108718872, 2.0596001148223877, 2.059299945831299, 2.0590999126434326, 2.058799982070923, 2.058300018310547, 2.0580999851226807, 2.0576000213623047, 2.0571000576019287, 2.0566999912261963, 2.0552000999450684, 2.05430006980896, 2.0534000396728516, 2.0532000064849854, 2.052799940109253, 2.051800012588501, 2.051800012588501, 2.0504000186920166, 2.0499000549316406, 2.0492000579833984, 2.049099922180176, 2.048799991607666, 2.0487000942230225, 2.048099994659424, 2.0462000370025635, 2.0453999042510986, 2.044300079345703, 2.044100046157837, 2.0420000553131104, 1.9557000398635864, 1.8478000164031982, 1.8550000190734863, 1.732800006866455, 1.6914000511169434, 1.7246999740600586, 1.4702999591827393, 0.26820001006126404, 1.104599952697754, 1.8568999767303467, 0.042899999767541885, 0.6083999872207642, 0.9318000078201294, 0.7919999957084656, 2.1043999195098877, 2.1036999225616455, 2.1026999950408936, 2.1003000736236572, 2.099299907684326, 2.098299980163574, 2.097100019454956, 2.09689998626709, 2.09660005569458, 2.0964999198913574, 2.0957999229431152, 2.0957000255584717, 2.095400094985962, 2.094399929046631, 2.0938000679016113, 2.0927999019622803, 2.092400074005127, 2.0915000438690186, 2.0915000438690186, 2.091399908065796, 2.0906999111175537, 2.0905001163482666, 2.0897998809814453, 2.0897998809814453, 2.0896999835968018, 2.088900089263916, 2.0887999534606934, 2.088099956512451, 2.0875000953674316, 2.085700035095215, 2.038100004196167, 1.9575999975204468, 1.929800033569336, 1.7827999591827393, 1.1502000093460083, 0.7258999943733215, 0.1128000020980835, 1.669700026512146, 1.0723999738693237, -0.21240000426769257, 1.0369999408721924, 1.7890000343322754, 0.8611000180244446, 2.199700117111206, 2.1989998817443848, 2.1979000568389893, 2.1965999603271484, 2.1963000297546387, 2.1953999996185303, 2.1951000690460205, 2.1940999031066895, 2.19320011138916, 2.192500114440918, 2.1921000480651855, 2.1909000873565674, 2.1907999515533447, 2.1907999515533447, 2.1888999938964844, 2.188499927520752, 2.1882998943328857, 2.1879000663757324, 2.1874001026153564, 2.1868999004364014, 2.186300039291382, 2.1861000061035156, 2.1856000423431396, 2.1854000091552734, 2.1851000785827637, 2.184799909591675, 2.1842000484466553, 2.1839001178741455, 2.183500051498413, 2.181999921798706, 2.132499933242798, 1.955899953842163, 1.9722000360488892, 2.123500108718872, 2.0111000537872314, 1.7604999542236328, 1.4016000032424927, 2.0013999938964844, 1.8243999481201172, 1.9860999584197998, 1.386299967765808, 1.3167999982833862, 1.787600040435791, 0.3312000036239624, 1.7930999994277954, 1.3384000062942505, 1.0867999792099, 0.45899999141693115, 2.2887001037597656, 2.288300037384033, 2.2880001068115234, 2.286900043487549, 2.28629994392395, 2.2862000465393066, 2.2855000495910645, 2.2846999168395996, 2.284600019454956, 2.2843000888824463, 2.2841999530792236, 2.2841999530792236, 2.283900022506714, 2.283799886703491, 2.282099962234497, 2.2815001010894775, 2.2813000679016113, 2.2811999320983887, 2.279599905014038, 2.2788000106811523, 2.2788000106811523, 2.2785000801086426, 2.27839994430542, 2.2776999473571777, 2.277600049972534, 2.2762999534606934, 2.2760000228881836, 2.2757999897003174, 2.2755000591278076, 2.2753000259399414, 2.0035998821258545, 1.0223000049591064, 1.8113000392913818, 1.8725999593734741, 1.7376999855041504, 1.5765999555587769, 1.62090003490448, 1.9950000047683716, 0.5519999861717224, 1.0220999717712402, 0.6891999840736389, 0.6488000154495239, 2.325700044631958, 2.325700044631958, 2.325000047683716, 2.323499917984009, 2.3232998847961426, 2.3231000900268555, 2.322700023651123, 2.3217999935150146, 2.321000099182129, 2.321000099182129, 2.320499897003174, 2.3194000720977783, 2.3190999031066895, 2.3189001083374023, 2.318700075149536, 2.318700075149536, 2.318000078201294, 2.317199945449829, 2.316999912261963, 2.315700054168701, 2.315200090408325, 2.3148000240325928, 2.314500093460083, 2.314300060272217, 2.314300060272217, 2.3134000301361084, 2.3132998943328857, 2.313199996948242, 2.312299966812134, 2.311000108718872, 2.2218000888824463, 2.174499988555908, 2.017400026321411, 1.818600058555603, 1.8466999530792236, 1.9345999956130981, 1.8287999629974365, 1.9225000143051147, 2.1475000381469727, 1.3260999917984009, 0.38850000500679016, 0.5430999994277954, 1.88919997215271, 1.958799958229065, 1.7146999835968018, 1.4493000507354736, 0.8077999949455261, -0.08449999988079071, 2.391900062561035, 2.3910999298095703, 2.3910000324249268, 2.390700101852417, 2.390500068664551, 2.387500047683716, 2.3873000144958496, 2.386699914932251, 2.3864998817443848, 2.386399984359741, 2.3847999572753906, 2.38319993019104, 2.3826000690460205, 2.3826000690460205, 2.3824000358581543, 2.382200002670288, 2.3817999362945557, 2.3815999031066895, 2.38100004196167, 2.379499912261963, 2.379199981689453, 2.3789000511169434, 2.3773000240325928, 2.3768999576568604, 2.376699924468994, 2.3766000270843506, 2.3763999938964844, 2.3761000633239746, 2.3756000995635986, 2.3756000995635986, 2.242799997329712, 2.164799928665161, 2.1803998947143555, 2.146899938583374, 2.161799907684326, 2.171999931335449, 1.8865000009536743, 0.22100000083446503, 1.0282000303268433, 0.680899977684021, 2.56469988822937, 2.5622000694274902, 2.56030011177063, 2.56030011177063, 2.559799909591675, 2.558199882507324, 2.5580999851226807, 2.5576999187469482, 2.5571000576019287, 2.556299924850464, 2.555999994277954, 2.555799961090088, 2.555000066757202, 2.5546998977661133, 2.5541999340057373, 2.5541000366210938, 2.553999900817871, 2.5539000034332275, 2.553499937057495, 2.5532000064849854, 2.552999973297119, 2.552999973297119, 2.552799940109253, 2.5510001182556152, 2.5510001182556152, 2.5499000549316406, 2.549099922180176, 2.5478999614715576, 2.5473999977111816, 2.546600103378296, 2.449700117111206, 2.273400068283081, 2.3334999084472656, 2.2551000118255615, 2.3189001083374023, 2.0290000438690186, 2.096299886703491, 2.000200033187866, 1.9808000326156616, 0.09399999678134918, 2.0385000705718994, 2.2293999195098877, 2.5910000801086426, 2.589900016784668, 2.58870005607605, 2.5876998901367188, 2.5869998931884766, 2.586699962615967, 2.5855000019073486, 2.5855000019073486, 2.585400104522705, 2.5850000381469727, 2.58489990234375, 2.583699941635132, 2.5833001136779785, 2.5827999114990234, 2.5810999870300293, 2.580699920654297, 2.580399990081787, 2.5803000926971436, 2.5801000595092773, 2.5792999267578125, 2.5787999629974365, 2.578700065612793, 2.5780999660491943, 2.5778000354766846, 2.5773000717163086, 2.5768001079559326, 2.5766000747680664, 2.5766000747680664, 2.5732998847961426, 2.5715999603271484, 2.312299966812134, 1.8550000190734863, 2.1342999935150146, 1.9119000434875488, 2.2535998821258545, 1.8986999988555908, 1.4180999994277954, 0.7569000124931335, 0.001500000013038516, 2.6368000507354736, 2.6305999755859375, 2.630199909210205, 2.630199909210205, 2.6278998851776123, 2.627500057220459, 2.627000093460083, 2.626199960708618, 2.6261000633239746, 2.625200033187866, 2.6245999336242676, 2.6243999004364014, 2.6236000061035156, 2.623199939727783, 2.6231000423431396, 2.6231000423431396, 2.6226000785827637, 2.6224000453948975, 2.6215999126434326, 2.621299982070923, 2.620800018310547, 2.6203999519348145, 2.618499994277954, 2.6184000968933105, 2.6184000968933105, 2.6180999279022217, 2.618000030517578, 2.6171998977661133, 2.6171000003814697, 2.6171000003814697, 2.2383999824523926, 2.2662999629974365, 2.4830000400543213, 2.147200107574463, 2.343600034713745, 2.211899995803833, 1.9565999507904053, 1.2301000356674194, 1.3903000354766846], \"logprob\": [30.0, 29.0, 28.0, 27.0, 26.0, 25.0, 24.0, 23.0, 22.0, 21.0, 20.0, 19.0, 18.0, 17.0, 16.0, 15.0, 14.0, 13.0, 12.0, 11.0, 10.0, 9.0, 8.0, 7.0, 6.0, 5.0, 4.0, 3.0, 2.0, 1.0, -2.2718000411987305, -2.536900043487549, -3.154099941253662, -3.664599895477295, -3.7546000480651855, -4.065899848937988, -4.14870023727417, -4.358099937438965, -4.594600200653076, -4.728799819946289, -4.832699775695801, -4.835299968719482, -4.841000080108643, -4.926599979400635, -4.927199840545654, -4.940199851989746, -4.9608001708984375, -4.993199825286865, -5.020999908447266, -5.026800155639648, -5.097300052642822, -5.107600212097168, -5.157899856567383, -5.172999858856201, -5.181600093841553, -5.191100120544434, -5.21150016784668, -5.21619987487793, -5.21750020980835, -5.297100067138672, -2.483299970626831, -4.2322001457214355, -4.307600021362305, -4.232699871063232, -4.410200119018555, -3.0485999584198, -4.605199813842773, -4.565400123596191, -4.936100006103516, -4.090000152587891, -3.7634999752044678, -4.735099792480469, -2.8958001136779785, -3.539900064468384, -3.8698999881744385, -3.9242000579833984, -3.9742000102996826, -4.02370023727417, -4.111999988555908, -4.143199920654297, -4.210999965667725, -4.283999919891357, -4.332399845123291, -4.512199878692627, -4.6072998046875, -4.690000057220459, -4.706500053405762, -4.743500232696533, -4.821800231933594, -4.822800159454346, -4.929599761962891, -4.96560001373291, -5.0106000900268555, -5.01800012588501, -5.037499904632568, -5.044600009918213, -5.082200050354004, -5.192599773406982, -5.235799789428711, -5.2947998046875, -5.303299903869629, -5.401400089263916, -2.855600118637085, -3.227400064468384, -3.5171000957489014, -3.4158999919891357, -3.870500087738037, -4.285200119018555, -4.2677001953125, -2.9686999320983887, -4.259200096130371, -4.877999782562256, -3.9130001068115234, -4.3566999435424805, -4.617400169372559, -4.811600208282471, -2.3269999027252197, -2.7737998962402344, -3.2300000190734863, -3.8719000816345215, -4.050000190734863, -4.1981000900268555, -4.355000019073486, -4.367499828338623, -4.40880012512207, -4.416399955749512, -4.494999885559082, -4.5015997886657715, -4.535600185394287, -4.629199981689453, -4.684500217437744, -4.762599945068359, -4.7947001457214355, -4.861800193786621, -4.865099906921387, -4.870699882507324, -4.919899940490723, -4.935500144958496, -4.976099967956543, -4.979000091552734, -4.983099937438965, -5.033100128173828, -5.038899898529053, -5.081099987030029, -5.11959981918335, -5.212399959564209, -4.645299911499023, -3.7434000968933105, -4.5971999168396, -4.172500133514404, -3.8148999214172363, -3.5878000259399414, -3.1240999698638916, -4.701300144195557, -4.333600044250488, -4.168300151824951, -4.701000213623047, -4.840700149536133, -4.804699897766113, -3.702199935913086, -3.8343000411987305, -4.0229997634887695, -4.202400207519531, -4.246300220489502, -4.350100040435791, -4.376100063323975, -4.48390007019043, -4.568399906158447, -4.624599933624268, -4.653800010681152, -4.749599933624268, -4.754899978637695, -4.758600234985352, -4.890399932861328, -4.917699813842773, -4.928800106048584, -4.951900005340576, -4.980199813842773, -5.009500026702881, -5.043399810791016, -5.057300090789795, -5.082699775695801, -5.096700191497803, -5.111199855804443, -5.127999782562256, -5.156499862670898, -5.1697001457214355, -5.190199851989746, -5.258699893951416, -4.704999923706055, -3.336899995803833, -3.9100000858306885, -4.844900131225586, -4.477200031280518, -3.6454999446868896, -2.55430006980896, -4.594900131225586, -4.274400234222412, -4.790200233459473, -4.2795000076293945, -4.286799907684326, -4.660900115966797, -3.9825000762939453, -4.754899978637695, -4.626800060272217, -4.648900032043457, -4.571199893951416, -3.70989990234375, -3.781599998474121, -3.8269999027252197, -4.000100135803223, -4.077499866485596, -4.096799850463867, -4.174900054931641, -4.268599987030029, -4.279300212860107, -4.310500144958496, -4.318900108337402, -4.3196001052856445, -4.355500221252441, -4.367099761962891, -4.519400119781494, -4.572500228881836, -4.584700107574463, -4.592199802398682, -4.714099884033203, -4.762400150299072, -4.762899875640869, -4.786600112915039, -4.788899898529053, -4.835700035095215, -4.84089994430542, -4.92140007019043, -4.936299800872803, -4.945799827575684, -4.966300010681152, -4.972400188446045, -3.870500087738037, -2.214600086212158, -4.010300159454346, -4.168099880218506, -4.036099910736084, -3.972599983215332, -4.043000221252441, -4.492700099945068, -3.761699914932251, -4.1265997886657715, -4.275899887084961, -4.426400184631348, -3.847100019454956, -3.8489999771118164, -3.946700096130371, -4.143400192260742, -4.172900199890137, -4.193900108337402, -4.235400199890137, -4.324100017547607, -4.399199962615967, -4.401299953460693, -4.446899890899658, -4.541399955749512, -4.5644001960754395, -4.5802001953125, -4.59060001373291, -4.595699787139893, -4.6468000411987305, -4.700799942016602, -4.715199947357178, -4.799699783325195, -4.82919979095459, -4.853400230407715, -4.867599964141846, -4.878799915313721, -4.882500171661377, -4.932499885559082, -4.937900066375732, -4.941800117492676, -4.989500045776367, -5.0553998947143555, -4.266300201416016, -4.505799770355225, -4.20419979095459, -3.739500045776367, -3.8108999729156494, -4.058899879455566, -4.096199989318848, -4.251800060272217, -4.641200065612793, -3.704200029373169, -2.8485000133514404, -3.7706000804901123, -4.498000144958496, -4.552800178527832, -4.46619987487793, -4.488399982452393, -4.484899997711182, -4.518099784851074, -3.3164000511169434, -3.5090999603271484, -3.5183000564575195, -3.5913000106811523, -3.6333999633789062, -4.0696001052856445, -4.0960001945495605, -4.161900043487549, -4.184199810028076, -4.198800086975098, -4.35230016708374, -4.485400199890137, -4.532400131225586, -4.539599895477295, -4.553299903869629, -4.566800117492676, -4.596799850463867, -4.6097002029418945, -4.649400234222412, -4.75029993057251, -4.763199806213379, -4.78249979019165, -4.876800060272217, -4.898799896240234, -4.907400131225586, -4.910200119018555, -4.9243998527526855, -4.940899848937988, -4.964099884033203, -4.964900016784668, -3.6054999828338623, -3.6821999549865723, -4.028800010681152, -3.9191999435424805, -4.15880012512207, -4.410399913787842, -3.976599931716919, -3.015899896621704, -4.251100063323975, -4.284200191497803, -3.508699893951416, -3.869999885559082, -4.07919979095459, -4.079899787902832, -4.129499912261963, -4.266499996185303, -4.278200149536133, -4.310100078582764, -4.353499889373779, -4.4182000160217285, -4.4390997886657715, -4.4496002197265625, -4.504899978637695, -4.520500183105469, -4.554800033569336, -4.563499927520752, -4.567800045013428, -4.573800086975098, -4.5991997718811035, -4.614799976348877, -4.629000186920166, -4.6296000480651855, -4.639900207519531, -4.7342000007629395, -4.734899997711182, -4.791299819946289, -4.829400062561035, -4.88640022277832, -4.906899929046631, -4.94189977645874, -4.065400123596191, -3.00600004196167, -3.981100082397461, -4.0640997886657715, -4.269899845123291, -3.9086999893188477, -4.213099956512451, -4.1346001625061035, -4.201900005340576, -3.1429998874664307, -4.473999977111816, -4.553699970245361, -2.9918999671936035, -3.253200054168701, -3.4830000400543213, -3.6505000591278076, -3.7441999912261963, -3.782099962234497, -3.9205000400543213, -3.9298999309539795, -3.9349000453948975, -3.9762001037597656, -3.9937000274658203, -4.106900215148926, -4.148200035095215, -4.184700012207031, -4.322500228881836, -4.350599765777588, -4.373700141906738, -4.380899906158447, -4.392899990081787, -4.44789981842041, -4.479899883270264, -4.491600036621094, -4.529399871826172, -4.546500205993652, -4.5746002197265625, -4.600599765777588, -4.615799903869629, -4.615900039672852, -4.782700061798096, -4.862299919128418, -2.675299882888794, -3.5088000297546387, -4.020100116729736, -3.7862000465393066, -4.339700222015381, -4.258399963378906, -4.143799781799316, -4.273399829864502, -4.31220006942749, -2.787100076675415, -3.928999900817871, -3.9683001041412354, -3.971100091934204, -4.190299987792969, -4.2245001792907715, -4.263700008392334, -4.32390022277832, -4.333399772644043, -4.395599842071533, -4.436399936676025, -4.449999809265137, -4.503600120544434, -4.5229997634887695, -4.5295000076293945, -4.531300067901611, -4.560999870300293, -4.572199821472168, -4.6203999519348145, -4.6371002197265625, -4.66510009765625, -4.683199882507324, -4.777400016784668, -4.783299922943115, -4.783699989318848, -4.797399997711182, -4.803500175476074, -4.837699890136719, -4.842800140380859, -4.8429999351501465, -3.497299909591675, -3.959700107574463, -4.504700183868408, -4.243000030517578, -4.504000186920166, -4.400199890136719, -4.248199939727783, -3.757499933242798, -4.398200035095215]}, \"token.table\": {\"Topic\": [7, 4, 6, 9, 3, 8, 9, 4, 8, 4, 6, 10, 6, 1, 2, 3, 4, 6, 2, 5, 4, 5, 1, 4, 4, 4, 6, 10, 3, 6, 6, 3, 10, 9, 2, 3, 5, 7, 1, 5, 6, 8, 4, 2, 7, 8, 10, 2, 7, 2, 3, 6, 1, 4, 4, 5, 5, 3, 3, 7, 8, 2, 3, 6, 8, 10, 9, 4, 2, 2, 5, 9, 10, 7, 5, 10, 1, 3, 4, 6, 9, 10, 4, 2, 8, 6, 7, 2, 8, 6, 3, 6, 8, 5, 2, 5, 8, 10, 7, 1, 9, 9, 7, 10, 9, 7, 5, 5, 10, 8, 10, 4, 7, 2, 9, 2, 5, 1, 7, 1, 2, 4, 9, 2, 7, 2, 1, 1, 4, 1, 10, 8, 10, 7, 1, 10, 2, 7, 9, 5, 5, 7, 5, 4, 10, 2, 3, 5, 7, 9, 1, 4, 4, 10, 5, 9, 8, 6, 3, 9, 6, 8, 4, 1, 3, 5, 6, 5, 1, 6, 3, 6, 4, 8, 5, 7, 9, 3, 3, 9, 4, 8, 2, 1, 8, 8, 10, 1, 3, 4, 2, 3, 8, 8, 7, 4, 6, 3, 10, 5, 10, 10, 1, 3, 10, 1, 6, 8, 1, 1, 5, 4, 1, 3, 4, 6, 7, 8, 10, 2, 6, 9, 1, 10, 2, 3, 8, 7, 9, 2, 3, 4, 4, 8, 5, 9, 7, 10, 2, 8, 2, 3, 5, 6, 2, 10, 6, 2, 7, 2, 8, 4, 8, 2, 8, 6, 7, 2, 9, 2, 6, 1, 4, 1, 2, 5, 6, 1, 4, 6, 8, 8, 4, 5, 6, 5, 8, 3, 8, 6, 10, 4, 3, 1, 7, 1, 8, 4, 4, 9, 6, 3, 8, 6, 2, 7, 9, 2, 3, 4, 2, 6, 1, 2, 3, 5, 6, 7, 8, 1, 6, 7, 7, 6, 2, 6, 9, 5, 6, 7, 7, 7, 1, 3, 5, 3, 9, 2, 8, 1, 2, 3, 4, 5, 6, 9, 1, 3, 4, 6, 8, 9, 1, 4, 6, 1, 6, 3, 9, 1, 4, 8, 9, 6, 8, 9, 5, 2, 4, 8, 9, 5, 5, 4, 1, 3, 10, 10, 9, 5, 8, 3, 2, 8, 1, 2, 5, 1, 7, 5, 6, 6, 9, 4, 1, 4, 3, 6, 7, 6, 3, 1, 9, 1, 10, 6, 1, 1, 3, 4, 5, 2, 5, 8, 9, 10, 5, 1, 2, 6, 6, 8, 2, 1, 7, 8, 10, 1, 9, 6, 2, 4, 2, 3, 10, 7, 9, 1, 2, 2, 5, 2, 7, 6, 6, 2, 9, 7, 5, 1, 5, 8, 9, 10, 4, 9, 8, 2, 7, 4, 4, 4, 3, 3, 7, 10, 5, 3, 1, 5, 1, 1, 3, 8, 9, 6, 2, 3, 5, 9, 10, 9, 5, 8, 7, 8, 8, 2, 5, 1, 3, 6, 9, 10, 8, 10, 2, 6, 2, 7, 4, 2, 9, 10, 2, 4, 5, 10, 4, 10, 3, 5, 3, 9, 10, 3, 3, 3, 6, 8, 8, 10, 3, 1, 8, 3, 6, 10, 9, 10, 2, 8, 1, 4, 4, 10, 3, 8, 3, 9, 1, 6, 8, 3, 4, 1, 2, 1, 4, 6, 7], \"Freq\": [0.9698454737663269, 0.20406903326511383, 0.15798893570899963, 0.6319557428359985, 0.9987847208976746, 0.9893767833709717, 0.9869880080223083, 0.8092046976089478, 0.18391016125679016, 0.7786815166473389, 0.21691842377185822, 0.976108968257904, 0.9802761673927307, 0.32066062092781067, 0.13220858573913574, 0.09860862046480179, 0.44775617122650146, 0.9955471158027649, 0.9880782961845398, 0.9818340539932251, 0.9919883608818054, 0.9901951551437378, 0.3356683850288391, 0.6625033617019653, 0.997197687625885, 0.8272979855537415, 0.16545960307121277, 0.9843922853469849, 0.34894028306007385, 0.6397238373756409, 0.989374041557312, 0.30406540632247925, 0.6859149932861328, 0.9850818514823914, 0.9762725234031677, 0.9756364226341248, 0.9918235540390015, 0.9910338521003723, 0.9888193607330322, 0.5713819265365601, 0.2564470171928406, 0.16646559536457062, 0.9758540391921997, 0.7121349573135376, 0.2848539650440216, 0.9866254329681396, 0.9815835952758789, 0.9961509108543396, 0.9972133040428162, 0.9846640229225159, 0.8407981395721436, 0.15287238359451294, 0.7304044365882874, 0.25453490018844604, 0.9852802753448486, 0.9943225383758545, 0.9902515411376953, 0.993831217288971, 0.1426602602005005, 0.6001569628715515, 0.2508852779865265, 0.9948482513427734, 0.982763946056366, 0.9900878071784973, 0.9824033379554749, 0.9856497645378113, 0.9938893914222717, 0.9824156165122986, 0.9874599575996399, 0.38215532898902893, 0.13733705878257751, 0.47769415378570557, 0.9863278269767761, 0.9929038286209106, 0.9861962199211121, 0.9841524958610535, 0.4955783188343048, 0.180679589509964, 0.11357003450393677, 0.07227183878421783, 0.0619472898542881, 0.07227183878421783, 0.9827587008476257, 0.99003666639328, 0.9815782904624939, 0.9918637871742249, 0.9880762100219727, 0.10385698825120926, 0.8875051736831665, 0.9917420148849487, 0.991400957107544, 0.9825722575187683, 0.9755853414535522, 0.993554413318634, 0.32345855236053467, 0.48878180980682373, 0.14016537368297577, 0.04672178998589516, 0.9878100752830505, 0.9939626455307007, 0.9887886047363281, 0.9916495084762573, 0.9859476089477539, 0.9716847538948059, 0.9877593517303467, 0.9908670783042908, 0.9912309646606445, 0.25015580654144287, 0.7373012900352478, 0.9853785037994385, 0.966689944267273, 0.9839967489242554, 0.9902563095092773, 0.9749782085418701, 0.9886756539344788, 0.8053815364837646, 0.19239670038223267, 0.9915497899055481, 0.9954943060874939, 0.9961071610450745, 0.9766091108322144, 0.9211013913154602, 0.059425897896289825, 0.13571973145008087, 0.8579425811767578, 0.9888036251068115, 0.9781911373138428, 0.31130385398864746, 0.6848685145378113, 0.988124668598175, 0.9728407263755798, 0.1363106667995453, 0.8481552004814148, 0.9778043031692505, 0.9847636818885803, 0.976495087146759, 0.9794455766677856, 0.9924542307853699, 0.9902379512786865, 0.9905069470405579, 0.9920822381973267, 0.9898510575294495, 0.990722119808197, 0.9793317914009094, 0.976311206817627, 0.23245957493782043, 0.38476067781448364, 0.20039618015289307, 0.18035656213760376, 0.9858916997909546, 0.331757515668869, 0.663515031337738, 0.3291369378566742, 0.6712660789489746, 0.9969785213470459, 0.995142936706543, 0.9746693968772888, 0.9817803502082825, 0.9859566688537598, 0.9932621121406555, 0.4134029746055603, 0.5830041766166687, 0.9920156002044678, 0.9895986914634705, 0.9805223345756531, 0.9923812747001648, 0.9932070970535278, 0.9914171695709229, 0.9984891414642334, 0.9852616190910339, 0.3290274143218994, 0.6647696495056152, 0.9833115935325623, 0.9705927968025208, 0.9903829097747803, 0.988137423992157, 0.9949522018432617, 0.9885852932929993, 0.9836826324462891, 0.9843961000442505, 0.9790841341018677, 0.9955625534057617, 0.9782024621963501, 0.9860535860061646, 0.9807783365249634, 0.3433361351490021, 0.6554598808288574, 0.2646913230419159, 0.730548083782196, 0.9897637963294983, 0.055863939225673676, 0.938514232635498, 0.9829946160316467, 0.9794635772705078, 0.9800494909286499, 0.3250456154346466, 0.672508180141449, 0.9929440021514893, 0.9795829653739929, 0.9859516620635986, 0.9872583746910095, 0.9880109429359436, 0.6899288296699524, 0.21560275554656982, 0.08624110370874405, 0.9092657566070557, 0.08951321244239807, 0.9754455089569092, 0.9784807562828064, 0.7644098401069641, 0.23238059878349304, 0.9922090172767639, 0.9840210676193237, 0.2139412760734558, 0.18493229150772095, 0.5983103513717651, 0.9894022345542908, 0.9908697009086609, 0.9757007360458374, 0.9935166835784912, 0.6868377327919006, 0.30107954144477844, 0.9880900382995605, 0.9924728870391846, 0.8969166874885559, 0.10137564688920975, 0.9917923808097839, 0.7978652715682983, 0.1918916404247284, 0.9905436038970947, 0.9891343116760254, 0.9889413714408875, 0.40494051575660706, 0.5838677287101746, 0.2756636142730713, 0.7146834135055542, 0.9889786243438721, 0.9917478561401367, 0.9838377833366394, 0.9890114665031433, 0.14158278703689575, 0.15574106574058533, 0.6182448267936707, 0.0802302435040474, 0.9964814186096191, 0.9715242981910706, 0.9809132814407349, 0.20210763812065125, 0.7928838133811951, 0.8116309642791748, 0.1764415055513382, 0.9874909520149231, 0.9796319007873535, 0.2639247179031372, 0.729674220085144, 0.9796990752220154, 0.9815558195114136, 0.9767215847969055, 0.9961758255958557, 0.16136634349822998, 0.831657350063324, 0.2055683583021164, 0.7921902537345886, 0.9727776050567627, 0.9972367882728577, 0.9922746419906616, 0.9873064756393433, 0.12016374617815018, 0.26035478711128235, 0.6168405413627625, 0.9660588502883911, 0.9705599546432495, 0.9889886379241943, 0.9932448863983154, 0.9841378927230835, 0.9760751724243164, 0.9748855233192444, 0.9861634969711304, 0.9944243431091309, 0.3833202123641968, 0.6083125472068787, 0.9803633689880371, 0.9928949475288391, 0.9958415031433105, 0.9906524419784546, 0.9912328720092773, 0.985123872756958, 0.9825852513313293, 0.9876485466957092, 0.9887904524803162, 0.9872042536735535, 0.7227959632873535, 0.26969999074935913, 0.98561692237854, 0.2033109962940216, 0.7938809990882874, 0.989791989326477, 0.9973770380020142, 0.3550434410572052, 0.6415697336196899, 0.9947158098220825, 0.9920849800109863, 0.07652372121810913, 0.16586072742938995, 0.13631901144981384, 0.2804683446884155, 0.14308157563209534, 0.11353985220193863, 0.08399813622236252, 0.26752859354019165, 0.7321835160255432, 0.9776419997215271, 0.9936037659645081, 0.9942158460617065, 0.10108261555433273, 0.8913648724555969, 0.970240592956543, 0.994908332824707, 0.9835895299911499, 0.9944570064544678, 0.9921109080314636, 0.9883919954299927, 0.2452273964881897, 0.645765483379364, 0.10626520216464996, 0.9943366646766663, 0.9816866517066956, 0.2008860558271408, 0.7880914211273193, 0.1619318127632141, 0.015670819208025932, 0.2517778277397156, 0.15357403457164764, 0.17551317811012268, 0.1671554148197174, 0.07521993666887283, 0.1261976957321167, 0.11978086084127426, 0.17539340257644653, 0.36575940251350403, 0.05347359552979469, 0.1582818478345871, 0.7271583676338196, 0.08682487905025482, 0.18450286984443665, 0.9831992983818054, 0.9893752932548523, 0.861758828163147, 0.13386544585227966, 0.997689425945282, 0.26465174555778503, 0.56803297996521, 0.16782793402671814, 0.3102375566959381, 0.1914231777191162, 0.5016607046127319, 0.9822530746459961, 0.993414580821991, 0.9912274479866028, 0.9907181859016418, 0.9850482940673828, 0.992026150226593, 0.978958249092102, 0.9778902530670166, 0.9930437803268433, 0.9827504754066467, 0.9956185221672058, 0.9765357375144958, 0.9896257519721985, 0.9840239882469177, 0.9789463877677917, 0.9872690439224243, 0.36892104148864746, 0.6225542426109314, 0.9913740754127502, 0.9924211502075195, 0.9937164783477783, 0.983680009841919, 0.9905388355255127, 0.9897885918617249, 0.9842245578765869, 0.9745954871177673, 0.9882436990737915, 0.9768936634063721, 0.9824300408363342, 0.9858420491218567, 0.9855569005012512, 0.1877451390028, 0.8066087365150452, 0.9922928214073181, 0.9891965985298157, 0.7864344120025635, 0.20541198551654816, 0.9741010069847107, 0.9852707386016846, 0.9731723070144653, 0.9733222723007202, 0.20999941229820251, 0.28672996163368225, 0.4401910901069641, 0.056538306176662445, 0.2776322066783905, 0.16251640021800995, 0.555264413356781, 0.98123699426651, 0.9896676540374756, 0.9841231107711792, 0.9852977395057678, 0.9862057566642761, 0.9852800369262695, 0.2839186191558838, 0.715968668460846, 0.9864597320556641, 0.1315457671880722, 0.23539769649505615, 0.12462230771780014, 0.5054126977920532, 0.9951344728469849, 0.9918964505195618, 0.9858161211013794, 0.9811393022537231, 0.9825374484062195, 0.551255464553833, 0.3429069519042969, 0.09983367472887039, 0.9901574850082397, 0.9902128577232361, 0.9772887229919434, 0.9931999444961548, 0.7175675630569458, 0.2793216109275818, 0.2169533669948578, 0.7774162292480469, 0.9897136688232422, 0.974984347820282, 0.6878708004951477, 0.3093598783016205, 0.9735937118530273, 0.9907352924346924, 0.2584967613220215, 0.6579917669296265, 0.08224897086620331, 0.9850137829780579, 0.9795740842819214, 0.9887264370918274, 0.9846790432929993, 0.9865319728851318, 0.991698682308197, 0.9861453771591187, 0.9906248450279236, 0.9890653491020203, 0.9927095770835876, 0.9710109829902649, 0.9806639552116394, 0.9942823052406311, 0.9778926968574524, 0.9928081631660461, 0.9874207973480225, 0.24803665280342102, 0.7441099286079407, 0.9914001822471619, 0.1084524467587471, 0.20856240391731262, 0.17519241571426392, 0.5047209858894348, 0.9913482666015625, 0.2660166919231415, 0.12897779047489166, 0.5118805766105652, 0.09270278364419937, 0.9955056309700012, 0.9926382899284363, 0.7460453510284424, 0.24868178367614746, 0.2551877498626709, 0.7436116337776184, 0.9872154593467712, 0.8098582029342651, 0.18665876984596252, 0.369793176651001, 0.0867416113615036, 0.12326439470052719, 0.13239508867263794, 0.28761693835258484, 0.9767405390739441, 0.986558735370636, 0.1336481273174286, 0.8575754761695862, 0.9953107833862305, 0.9805430769920349, 0.9972984194755554, 0.991936445236206, 0.9851241111755371, 0.9871575832366943, 0.2808312177658081, 0.4098617732524872, 0.14421062171459198, 0.15939068794250488, 0.8192014098167419, 0.17408029735088348, 0.9895090460777283, 0.9763517379760742, 0.9985593557357788, 0.7542481422424316, 0.24390089511871338, 0.9954174757003784, 0.991188108921051, 0.3244302570819855, 0.5407170653343201, 0.12842030823230743, 0.9950882196426392, 0.9824255108833313, 0.9819736480712891, 0.9972877502441406, 0.9917510747909546, 0.9807296395301819, 0.9803332090377808, 0.991104781627655, 0.9918064475059509, 0.991942286491394, 0.21343602240085602, 0.7825987935066223, 0.709187388420105, 0.2897754907608032, 0.9254273176193237, 0.06517093628644943, 0.9988841414451599, 0.9918943643569946, 0.9878925681114197, 0.9870506525039673, 0.22503098845481873, 0.6070603132247925, 0.16746492683887482, 0.9918192625045776, 0.9700574278831482, 0.9985805153846741, 0.9734675884246826, 0.2015787810087204, 0.41950178146362305, 0.1961306929588318, 0.17978647351264954], \"Term\": [\"0\", \"1\", \"1\", \"1\", \"10\", \"15\", \"17\", \"19\", \"19\", \"2\", \"2\", \"20\", \"2016\", \"2019\", \"2019\", \"2019\", \"2019\", \"2020\", \"2025\", \"2077\", \"3\", \"365\", \"4\", \"4\", \"5\", \"6\", \"6\", \"64\", \"7\", \"7\", \"70\", \"access\", \"access\", \"account\", \"accounting\", \"administrative\", \"administrator\", \"advanced\", \"ahead\", \"ai\", \"ai\", \"ai\", \"alert\", \"amazon\", \"amazon\", \"amd\", \"america\", \"analysis\", \"analyst\", \"analytics\", \"android\", \"android\", \"announced\", \"announced\", \"announcement\", \"announces\", \"another\", \"app\", \"apple\", \"apple\", \"apple\", \"application\", \"apps\", \"ar\", \"architect\", \"artificial\", \"assistant\", \"award\", \"aws\", \"azure\", \"azure\", \"azure\", \"back\", \"ban\", \"based\", \"beach\", \"best\", \"best\", \"best\", \"best\", \"best\", \"best\", \"biggest\", \"bill\", \"bit\", \"bitcoin\", \"bitnami\", \"blockchain\", \"blockchain\", \"blog\", \"bluekeep\", \"book\", \"brand\", \"build\", \"business\", \"business\", \"business\", \"business\", \"buy\", \"c\", \"ca\", \"call\", \"capital\", \"card\", \"care\", \"case\", \"center\", \"ceo\", \"ceo\", \"certification\", \"chicago\", \"chief\", \"china\", \"cisco\", \"city\", \"cloud\", \"cloud\", \"cnet\", \"co\", \"coming\", \"communication\", \"community\", \"community\", \"company\", \"company\", \"computing\", \"con\", \"conference\", \"conference\", \"console\", \"consultant\", \"content\", \"content\", \"continues\", \"controller\", \"coordinator\", \"corporation\", \"could\", \"create\", \"crm\", \"customer\", \"cut\", \"cyberpunk\", \"daily\", \"dark\", \"data\", \"data\", \"data\", \"data\", \"database\", \"date\", \"date\", \"day\", \"day\", \"de\", \"deal\", \"demand\", \"demo\", \"desktop\", \"developer\", \"digital\", \"digital\", \"director\", \"double\", \"download\", \"drive\", \"driver\", \"dynamic\", \"e3\", \"earth\", \"edge\", \"edge\", \"edition\", \"el\", \"en\", \"end\", \"engineer\", \"entry\", \"error\", \"event\", \"everything\", \"excel\", \"exchange\", \"executive\", \"expert\", \"facebook\", \"facebook\", \"feature\", \"feature\", \"field\", \"file\", \"file\", \"finance\", \"financial\", \"firm\", \"first\", \"first\", \"fix\", \"fl\", \"focus\", \"food\", \"fox40\", \"free\", \"free\", \"free\", \"game\", \"game\", \"gameplay\", \"gamesradar\", \"gaming\", \"gaming\", \"gear\", \"gen\", \"get\", \"get\", \"get\", \"getting\", \"giant\", \"give\", \"global\", \"go\", \"go\", \"gold\", \"good\", \"google\", \"google\", \"graphic\", \"group\", \"group\", \"growth\", \"guide\", \"halo\", \"health\", \"health\", \"help\", \"help\", \"holding\", \"home\", \"house\", \"hp\", \"huawei\", \"huawei\", \"huawei\", \"huawei\", \"ibm\", \"idea\", \"identity\", \"inc\", \"inc\", \"industry\", \"industry\", \"infinite\", \"insider\", \"intel\", \"intel\", \"interview\", \"investment\", \"iot\", \"job\", \"join\", \"join\", \"june\", \"june\", \"keanu\", \"key\", \"la\", \"laptop\", \"launch\", \"launch\", \"launch\", \"lead\", \"leader\", \"leak\", \"learn\", \"learning\", \"legal\", \"lenovo\", \"let\", \"level\", \"life\", \"life\", \"light\", \"linux\", \"live\", \"llc\", \"local\", \"london\", \"long\", \"look\", \"m\", \"machine\", \"make\", \"make\", \"making\", \"management\", \"management\", \"manager\", \"market\", \"may\", \"may\", \"medium\", \"meet\", \"microsoft\", \"microsoft\", \"microsoft\", \"microsoft\", \"microsoft\", \"microsoft\", \"microsoft\", \"microsofts\", \"microsofts\", \"might\", \"million\", \"minecraft\", \"mobile\", \"mobile\", \"money\", \"month\", \"move\", \"msft\", \"multilingual\", \"nbo\", \"need\", \"need\", \"need\", \"needed\", \"net\", \"network\", \"network\", \"new\", \"new\", \"new\", \"new\", \"new\", \"new\", \"new\", \"news\", \"news\", \"news\", \"news\", \"news\", \"news\", \"next\", \"next\", \"next\", \"nintendo\", \"o\", \"office\", \"office\", \"one\", \"online\", \"online\", \"online\", \"open\", \"open\", \"open\", \"opinion\", \"oracle\", \"order\", \"outlook\", \"part\", \"partner\", \"partnership\", \"party\", \"pas\", \"patch\", \"pc\", \"pdf\", \"people\", \"per\", \"personal\", \"phone\", \"platform\", \"platform\", \"play\", \"player\", \"playstation\", \"podcast\", \"police\", \"position\", \"post\", \"potential\", \"power\", \"pre\", \"prediction\", \"press\", \"preview\", \"price\", \"price\", \"pro\", \"professional\", \"project\", \"project\", \"ps4\", \"public\", \"ready\", \"reef\", \"release\", \"release\", \"release\", \"release\", \"report\", \"report\", \"report\", \"representative\", \"return\", \"revealed\", \"reveals\", \"revenue\", \"rose\", \"samsung\", \"samsung\", \"sap\", \"say\", \"say\", \"say\", \"say\", \"scarlett\", \"school\", \"screen\", \"search\", \"secure\", \"security\", \"security\", \"security\", \"selling\", \"senior\", \"series\", \"server\", \"service\", \"service\", \"share\", \"share\", \"show\", \"skill\", \"software\", \"software\", \"sold\", \"solution\", \"sony\", \"sony\", \"sony\", \"source\", \"south\", \"specialist\", \"sql\", \"stack\", \"stadium\", \"stake\", \"star\", \"start\", \"state\", \"step\", \"still\", \"stock\", \"stop\", \"store\", \"streaming\", \"studio\", \"studio\", \"summer\", \"support\", \"support\", \"support\", \"support\", \"surface\", \"system\", \"system\", \"system\", \"system\", \"take\", \"tea\", \"team\", \"team\", \"tech\", \"tech\", \"technical\", \"technology\", \"technology\", \"time\", \"time\", \"time\", \"time\", \"time\", \"tip\", \"title\", \"tool\", \"tool\", \"top\", \"trade\", \"trailer\", \"trend\", \"trial\", \"trump\", \"u\", \"u\", \"u\", \"u\", \"uk\", \"uk\", \"un\", \"university\", \"update\", \"usa\", \"usa\", \"use\", \"user\", \"using\", \"using\", \"using\", \"v\", \"value\", \"version\", \"video\", \"virtual\", \"vulnerability\", \"w\", \"wall\", \"want\", \"washington\", \"web\", \"web\", \"week\", \"week\", \"win\", \"win\", \"window\", \"woman\", \"word\", \"work\", \"world\", \"world\", \"world\", \"x\", \"x64\", \"xbox\", \"xcloud\", \"year\", \"year\", \"year\", \"year\"]}, \"R\": 30, \"lambda.step\": 0.01, \"plot.opts\": {\"xlab\": \"PC1\", \"ylab\": \"PC2\"}, \"topic.order\": [6, 1, 3, 4, 9, 7, 2, 10, 8, 5]};\n",
       "\n",
       "function LDAvis_load_lib(url, callback){\n",
       "  var s = document.createElement('script');\n",
       "  s.src = url;\n",
       "  s.async = true;\n",
       "  s.onreadystatechange = s.onload = callback;\n",
       "  s.onerror = function(){console.warn(\"failed to load library \" + url);};\n",
       "  document.getElementsByTagName(\"head\")[0].appendChild(s);\n",
       "}\n",
       "\n",
       "if(typeof(LDAvis) !== \"undefined\"){\n",
       "   // already loaded: just create the visualization\n",
       "   !function(LDAvis){\n",
       "       new LDAvis(\"#\" + \"ldavis_el101361402802453401047931797873\", ldavis_el101361402802453401047931797873_data);\n",
       "   }(LDAvis);\n",
       "}else if(typeof define === \"function\" && define.amd){\n",
       "   // require.js is available: use it to load d3/LDAvis\n",
       "   require.config({paths: {d3: \"https://cdnjs.cloudflare.com/ajax/libs/d3/3.5.5/d3.min\"}});\n",
       "   require([\"d3\"], function(d3){\n",
       "      window.d3 = d3;\n",
       "      LDAvis_load_lib(\"https://cdn.rawgit.com/bmabey/pyLDAvis/files/ldavis.v1.0.0.js\", function(){\n",
       "        new LDAvis(\"#\" + \"ldavis_el101361402802453401047931797873\", ldavis_el101361402802453401047931797873_data);\n",
       "      });\n",
       "    });\n",
       "}else{\n",
       "    // require.js not available: dynamically load d3 & LDAvis\n",
       "    LDAvis_load_lib(\"https://cdnjs.cloudflare.com/ajax/libs/d3/3.5.5/d3.min.js\", function(){\n",
       "         LDAvis_load_lib(\"https://cdn.rawgit.com/bmabey/pyLDAvis/files/ldavis.v1.0.0.js\", function(){\n",
       "                 new LDAvis(\"#\" + \"ldavis_el101361402802453401047931797873\", ldavis_el101361402802453401047931797873_data);\n",
       "            })\n",
       "         });\n",
       "}\n",
       "</script>"
      ],
      "text/plain": [
       "PreparedData(topic_coordinates=            Freq  cluster  topics         x         y\n",
       "topic                                                \n",
       "5      12.940404        1       1 -0.150099 -0.201855\n",
       "0      12.687929        1       2  0.201456  0.034003\n",
       "2      12.178607        1       3  0.013469 -0.134654\n",
       "3      11.031043        1       4 -0.227538 -0.133417\n",
       "8      10.086316        1       5  0.207072 -0.031974\n",
       "6       9.709966        1       6 -0.040918 -0.153292\n",
       "1       9.109535        1       7  0.187071  0.074294\n",
       "9       7.650187        1       8  0.144477  0.047019\n",
       "7       7.467875        1       9 -0.147352  0.192626\n",
       "4       7.138146        1      10 -0.187637  0.307250, topic_info=     Category         Freq         Term        Total  loglift  logprob\n",
       "term                                                                  \n",
       "85    Default   955.000000         xbox   955.000000  30.0000  30.0000\n",
       "26    Default   850.000000       window   850.000000  29.0000  29.0000\n",
       "828   Default   733.000000           e3   733.000000  28.0000  28.0000\n",
       "31    Default   849.000000         game   849.000000  27.0000  27.0000\n",
       "38    Default  1369.000000         2019  1369.000000  26.0000  26.0000\n",
       "3     Default  2809.000000    microsoft  2809.000000  25.0000  25.0000\n",
       "21    Default   544.000000           10   544.000000  24.0000  24.0000\n",
       "110   Default   502.000000       market   502.000000  23.0000  23.0000\n",
       "40    Default   581.000000       google   581.000000  22.0000  22.0000\n",
       "839   Default   487.000000          usa   487.000000  21.0000  21.0000\n",
       "732   Default   315.000000           pc   315.000000  20.0000  20.0000\n",
       "154   Default   395.000000          one   395.000000  19.0000  19.0000\n",
       "14    Default   364.000000         tech   364.000000  18.0000  18.0000\n",
       "24    Default   345.000000       update   345.000000  17.0000  17.0000\n",
       "59    Default   446.000000        cloud   446.000000  16.0000  16.0000\n",
       "2     Default   269.000000          job   269.000000  15.0000  15.0000\n",
       "20    Default   415.000000      service   415.000000  14.0000  14.0000\n",
       "214   Default   359.000000            2   359.000000  13.0000  13.0000\n",
       "118   Default   237.000000         msft   237.000000  12.0000  12.0000\n",
       "160   Default   264.000000          top   264.000000  11.0000  11.0000\n",
       "86    Default   207.000000    developer   207.000000  10.0000  10.0000\n",
       "330   Default   332.000000   technology   332.000000   9.0000   9.0000\n",
       "16    Default   334.000000        azure   334.000000   8.0000   8.0000\n",
       "37    Default   321.000000          may   321.000000   7.0000   7.0000\n",
       "51    Default   237.000000         live   237.000000   6.0000   6.0000\n",
       "115   Default   195.000000           co   195.000000   5.0000   5.0000\n",
       "66    Default   194.000000        stock   194.000000   4.0000   4.0000\n",
       "281   Default   230.000000          day   230.000000   3.0000   3.0000\n",
       "104   Default   274.000000     software   274.000000   2.0000   2.0000\n",
       "98    Default   217.000000        video   217.000000   1.0000   1.0000\n",
       "...       ...          ...          ...          ...      ...      ...\n",
       "685   Topic10    62.952667         back    63.873287   2.6252  -4.3956\n",
       "804   Topic10    60.435814         stop    61.356426   2.6246  -4.4364\n",
       "530   Topic10    59.617893         wall    60.538502   2.6244  -4.4500\n",
       "830   Topic10    56.511665         good    57.432301   2.6236  -4.5036\n",
       "924   Topic10    55.425529           20    56.346169   2.6232  -4.5230\n",
       "344   Topic10    55.063015        value    55.983887   2.6231  -4.5295\n",
       "857   Topic10    54.965015        beach    55.885647   2.6231  -4.5313\n",
       "1058  Topic10    53.355148  coordinator    54.275745   2.6226  -4.5610\n",
       "438   Topic10    52.763432         food    53.684021   2.6224  -4.5722\n",
       "990   Topic10    50.280758          pdf    51.201405   2.6216  -4.6204\n",
       "895   Topic10    49.447350   consultant    50.367958   2.6213  -4.6371\n",
       "1037  Topic10    48.079838           fl    49.000443   2.6208  -4.6651\n",
       "760   Topic10    47.219723         dark    48.140388   2.6204  -4.6832\n",
       "74    Topic10    42.976013        south    43.896629   2.6185  -4.7774\n",
       "194   Topic10    42.722206       public    43.642826   2.6184  -4.7833\n",
       "311   Topic10    42.705414   artificial    43.626045   2.6184  -4.7837\n",
       "225   Topic10    42.125374         give    43.045986   2.6181  -4.7974\n",
       "943   Topic10    41.867355      america    42.788002   2.6180  -4.8035\n",
       "243   Topic10    40.457710      chicago    41.378315   2.6172  -4.8377\n",
       "440   Topic10    40.251812         idea    41.172413   2.6171  -4.8428\n",
       "280   Topic10    40.244968         card    41.165615   2.6171  -4.8430\n",
       "281   Topic10   154.579987          day   230.906937   2.2384  -3.4973\n",
       "617   Topic10    97.352776       access   141.416946   2.2663  -3.9597\n",
       "466   Topic10    56.448147      content    66.025650   2.4830  -4.5047\n",
       "525   Topic10    73.333260         life   120.004105   2.1472  -4.2430\n",
       "0     Topic10    56.484852          ceo    75.952667   2.3436  -4.5040\n",
       "208   Topic10    62.663841     facebook    96.115723   2.2119  -4.4002\n",
       "199   Topic10    72.949768          say   144.436417   1.9566  -4.2482\n",
       "839   Topic10   119.160835          usa   487.903076   1.2301  -3.7575\n",
       "75    Topic10    62.790813         time   219.041351   1.3903  -4.3982\n",
       "\n",
       "[457 rows x 6 columns], token_table=      Topic      Freq           Term\n",
       "term                                \n",
       "908       7  0.969845              0\n",
       "163       4  0.204069              1\n",
       "163       6  0.157989              1\n",
       "163       9  0.631956              1\n",
       "21        3  0.998785             10\n",
       "773       8  0.989377             15\n",
       "543       9  0.986988             17\n",
       "121       4  0.809205             19\n",
       "121       8  0.183910             19\n",
       "214       4  0.778682              2\n",
       "214       6  0.216918              2\n",
       "924      10  0.976109             20\n",
       "660       6  0.980276           2016\n",
       "38        1  0.320661           2019\n",
       "38        2  0.132209           2019\n",
       "38        3  0.098609           2019\n",
       "38        4  0.447756           2019\n",
       "398       6  0.995547           2020\n",
       "365       2  0.988078           2025\n",
       "826       5  0.981834           2077\n",
       "294       4  0.991988              3\n",
       "339       5  0.990195            365\n",
       "168       1  0.335668              4\n",
       "168       4  0.662503              4\n",
       "142       4  0.997198              5\n",
       "88        4  0.827298              6\n",
       "88        6  0.165460              6\n",
       "821      10  0.984392             64\n",
       "139       3  0.348940              7\n",
       "139       6  0.639724              7\n",
       "...     ...       ...            ...\n",
       "344      10  0.982426          value\n",
       "569       3  0.981974        version\n",
       "98        1  0.997288          video\n",
       "435       8  0.991751        virtual\n",
       "801       3  0.980730  vulnerability\n",
       "535       6  0.980333              w\n",
       "530      10  0.991105           wall\n",
       "396       9  0.991806           want\n",
       "162      10  0.991942     washington\n",
       "318       2  0.213436            web\n",
       "318       8  0.782599            web\n",
       "205       1  0.709187           week\n",
       "205       4  0.289775           week\n",
       "78        4  0.925427            win\n",
       "78       10  0.065171            win\n",
       "26        3  0.998884         window\n",
       "150       8  0.991894          woman\n",
       "542       3  0.987893           word\n",
       "409       9  0.987051           work\n",
       "99        1  0.225031          world\n",
       "99        6  0.607060          world\n",
       "99        8  0.167465          world\n",
       "665       3  0.991819              x\n",
       "1060      4  0.970057            x64\n",
       "85        1  0.998581           xbox\n",
       "612       2  0.973468         xcloud\n",
       "79        1  0.201579           year\n",
       "79        4  0.419502           year\n",
       "79        6  0.196131           year\n",
       "79        7  0.179786           year\n",
       "\n",
       "[541 rows x 3 columns], R=30, lambda_step=0.01, plot_opts={'xlab': 'PC1', 'ylab': 'PC2'}, topic_order=[6, 1, 3, 4, 9, 7, 2, 10, 8, 5])"
      ]
     },
     "execution_count": 81,
     "metadata": {},
     "output_type": "execute_result"
    }
   ],
   "source": [
    "pyLDAvis.enable_notebook()\n",
    "vis = pyLDAvis.gensim.prepare(lda_model, corpora, dictionary)\n",
    "vis"
   ]
  },
  {
   "cell_type": "code",
   "execution_count": 84,
   "metadata": {},
   "outputs": [
    {
     "name": "stdout",
     "output_type": "stream",
     "text": [
      "Main term in topic 0\n",
      " google\n",
      " market\n",
      " microsoft\n",
      " cloud\n",
      " service\n",
      " technology\n",
      " top\n",
      " global\n",
      " software\n",
      " 2019\n",
      "\n",
      "Main term in topic 1\n",
      " microsoft\n",
      " msft\n",
      " co\n",
      " stock\n",
      " analyst\n",
      " company\n",
      " million\n",
      " management\n",
      " share\n",
      " apple\n",
      "\n",
      "Main term in topic 2\n",
      " window\n",
      " 10\n",
      " microsoft\n",
      " update\n",
      " new\n",
      " office\n",
      " data\n",
      " fix\n",
      " use\n",
      " 2019\n",
      "\n",
      "Main term in topic 3\n",
      " 2019\n",
      " may\n",
      " trailer\n",
      " june\n",
      " new\n",
      " director\n",
      " gear\n",
      " conference\n",
      " release\n",
      " state\n",
      "\n",
      "Main term in topic 4\n",
      " pc\n",
      " day\n",
      " usa\n",
      " trump\n",
      " access\n",
      " take\n",
      " fox40\n",
      " 64\n",
      " home\n",
      " life\n",
      "\n",
      "Main term in topic 5\n",
      " xbox\n",
      " game\n",
      " e3\n",
      " 2019\n",
      " one\n",
      " live\n",
      " video\n",
      " microsoft\n",
      " coming\n",
      " new\n",
      "\n",
      "Main term in topic 6\n",
      " microsoft\n",
      " news\n",
      " get\n",
      " new\n",
      " launch\n",
      " pro\n",
      " minecraft\n",
      " bitcoin\n",
      " first\n",
      " world\n",
      "\n",
      "Main term in topic 7\n",
      " usa\n",
      " job\n",
      " developer\n",
      " assistant\n",
      " azure\n",
      " engineer\n",
      " manager\n",
      " deal\n",
      " support\n",
      " want\n",
      "\n",
      "Main term in topic 8\n",
      " microsoft\n",
      " de\n",
      " new\n",
      " partner\n",
      " build\n",
      " team\n",
      " business\n",
      " customer\n",
      " huawei\n",
      " ai\n",
      "\n",
      "Main term in topic 9\n",
      " tech\n",
      " microsoft\n",
      " excel\n",
      " outlook\n",
      " digital\n",
      " network\n",
      " intel\n",
      " blockchain\n",
      " level\n",
      " hp\n",
      "\n"
     ]
    }
   ],
   "source": [
    "def get_term_by_topic(lda_model, dictionary, topic_id):\n",
    "    count = 0\n",
    "    for item in lda_model.get_topic_terms(topic_id, topn=20): \n",
    "        term = dictionary[item[0]]\n",
    "        if len(term) == 1:\n",
    "            continue\n",
    "        print(\" \" + term)\n",
    "        count += 1\n",
    "        if count == 10: \n",
    "            break\n",
    "    return \n",
    "\n",
    "for i in range(10):\n",
    "    print('Main term in topic {}'.format(i))\n",
    "    get_term_by_topic(lda_model, dictionary, i)\n",
    "    print()"
   ]
  },
  {
   "cell_type": "markdown",
   "metadata": {},
   "source": [
    "# Topic cluster"
   ]
  },
  {
   "cell_type": "code",
   "execution_count": 48,
   "metadata": {},
   "outputs": [],
   "source": [
    "import gensim, operator\n",
    "from scipy import spatial"
   ]
  },
  {
   "cell_type": "code",
   "execution_count": 49,
   "metadata": {},
   "outputs": [],
   "source": [
    "topic_taxonomy = {\n",
    "    \"Business Operations\" : \n",
    "    {\n",
    "        \"Business\" : \"apple ceo business global trend finance\",\n",
    "    },\n",
    "    \n",
    "    \"Stock\" :\n",
    "    {\n",
    "        \"Market\" : \"data software business technology growth msft share price future deal\",\n",
    "        \"Competition\" : \"google facebook ceo ibm oracle huawei apple\"\n",
    "    },\n",
    "    \n",
    "    \"Gaming\" :\n",
    "    {\n",
    "        \"Product-gaming\" : \"announce trailer event video release\",\n",
    "        \"Game\" : \"game e3 xbox playstation console minecraft\",\n",
    "        \n",
    "    },\n",
    "    \n",
    "    \"Technology\" : \n",
    "    {\n",
    "        \"Windows\" : \"fix 10 server build google\",\n",
    "        \"Security\" : \"upgrade cyber punk hack avast system update\",\n",
    "        \"AI\" : \"artificial intelligence future technology\",\n",
    "        \"Data\": \"data cloud computing blockchain amd bitcoin\",\n",
    "        \"Product-technology\" : \"team azure 365 office pro launch excel pc edge outlook\",\n",
    "    },\n",
    "    \n",
    "    \"Gates\":\n",
    "    {\n",
    "        \"People\": \"bill melinda ellen show bezos\",\n",
    "        \"Charity\": \"donation unicef un foundation\"\n",
    "    },\n",
    "    \n",
    "    \"Employment\":\n",
    "    {\n",
    "        \"Location\" : \"palo alto bangalore new york africa\",\n",
    "        \"Visa\" : \"h1b trump immigration china india\",\n",
    "        \"Jobs\": \"engineer machine learning ai analyst management developer\"\n",
    "    },\n",
    "    \n",
    "    \"Clients\":\n",
    "    {\n",
    "        \"Customer\": \"platform service\"\n",
    "    }\n",
    "}"
   ]
  },
  {
   "cell_type": "code",
   "execution_count": 50,
   "metadata": {},
   "outputs": [],
   "source": [
    "def classify_topics(input, vectors):\n",
    "    feed_score = dict()\n",
    "    for key, value in topic_taxonomy.items():\n",
    "        max_value_score = dict()\n",
    "        for label, keywords in value.items():\n",
    "            max_value_score[label] = 0\n",
    "            topic = (keywords).strip()\n",
    "            max_value_score[label] += float(calc_similarity(input, topic, vectors))\n",
    "            \n",
    "        sorted_max_score = sorted(max_value_score.items(), key=operator.itemgetter(1), reverse=True)[0]\n",
    "        feed_score[sorted_max_score[0]] = sorted_max_score[1]\n",
    "    result = sorted(feed_score.items(), key=operator.itemgetter(1), reverse=True)[:3]\n",
    "    if result[0][1] < 0.4:\n",
    "        return []\n",
    "    return result"
   ]
  },
  {
   "cell_type": "code",
   "execution_count": 51,
   "metadata": {},
   "outputs": [],
   "source": [
    "data = load_data('microsoft_clean.json')\n",
    "tot_title = len(data)\n",
    "title_list = [(' '.join(cleanup_text(str(data[i]['title']))), data[i]['published'][:10]) for i in range(tot_title)]"
   ]
  },
  {
   "cell_type": "code",
   "execution_count": 53,
   "metadata": {},
   "outputs": [
    {
     "name": "stdout",
     "output_type": "stream",
     "text": [
      "Title classified: Windows 10 1903 Cumulative Update KB4497935 Takes Care of High-Priority Bugs and Software Issues\n",
      "[('Security', 0.5159127116203308), ('Market', 0.4831184446811676), ('Product-gaming', 0.3456571102142334)]\n"
     ]
    }
   ],
   "source": [
    "title_id = 10892\n",
    "print(\"Title classified: {}\".format(data[title_id]['title']))\n",
    "classification = classify_topics(title_list[title_id][0], model_w2v_AP)\n",
    "print(classification)"
   ]
  },
  {
   "cell_type": "markdown",
   "metadata": {},
   "source": [
    "### Main topic day by day "
   ]
  },
  {
   "cell_type": "code",
   "execution_count": 75,
   "metadata": {},
   "outputs": [],
   "source": [
    "topics_by_date = dict()\n",
    "for date in set([date[1] for date in title_list]):\n",
    "    topics_by_date[date] = dict() \n",
    "\n",
    "for title in title_list: \n",
    "    try:\n",
    "        topics = classify_topics(title[0], model_w2v_AP)\n",
    "        if len(topics) == 0:\n",
    "            continue\n",
    "    except Exception: \n",
    "        continue\n",
    "    \n",
    "    date = title[1]\n",
    "    for topic in topics:\n",
    "        if topic[0] not in topics_by_date[date].keys(): \n",
    "            topics_by_date[date][topic[0]] = 1 \n",
    "            break\n",
    "        else: \n",
    "            topics_by_date[date][topic[0]] += 1"
   ]
  },
  {
   "cell_type": "code",
   "execution_count": 79,
   "metadata": {},
   "outputs": [
    {
     "name": "stdout",
     "output_type": "stream",
     "text": [
      "On 2019-05-04 the main topics are: Competition, Market, Windows\n",
      "On 2019-05-05 the main topics are: Competition, Game, Windows\n",
      "On 2019-05-06 the main topics are: Competition, Market, Game\n",
      "On 2019-05-07 the main topics are: Competition, Game, Market\n",
      "On 2019-05-08 the main topics are: Competition, Market, Game\n",
      "On 2019-05-09 the main topics are: Competition, Market, Windows\n",
      "On 2019-05-10 the main topics are: Competition, Market, Location\n",
      "On 2019-05-11 the main topics are: Competition, Market, Windows\n",
      "On 2019-05-12 the main topics are: Competition, Game, Product-technology\n",
      "On 2019-05-13 the main topics are: Competition, Market, Game\n",
      "On 2019-05-14 the main topics are: Market, Competition, Location\n",
      "On 2019-05-15 the main topics are: Competition, Market, Game\n",
      "On 2019-05-16 the main topics are: Market, Competition, Product-technology\n",
      "On 2019-05-17 the main topics are: Competition, Game, Market\n",
      "On 2019-05-18 the main topics are: Competition, Game, Windows\n",
      "On 2019-05-19 the main topics are: Market, Competition, Game\n",
      "On 2019-05-20 the main topics are: Competition, Market, Game\n",
      "On 2019-05-21 the main topics are: Market, Competition, Game\n",
      "On 2019-05-22 the main topics are: Competition, Market, Game\n",
      "On 2019-05-23 the main topics are: Market, Competition, Location\n",
      "On 2019-05-24 the main topics are: Competition, Market, Game\n",
      "On 2019-05-25 the main topics are: Competition, Game, Market\n",
      "On 2019-05-26 the main topics are: Competition, Location, Market\n",
      "On 2019-05-27 the main topics are: Competition, Game, Market\n",
      "On 2019-05-28 the main topics are: Competition, Market, Game\n",
      "On 2019-05-29 the main topics are: Competition, Market, Location\n",
      "On 2019-05-30 the main topics are: Competition, Market, Game\n",
      "On 2019-05-31 the main topics are: Competition, Game, Market\n",
      "On 2019-06-01 the main topics are: Competition, Game, Market\n",
      "On 2019-06-02 the main topics are: Competition, Location, Product-technology\n",
      "On 2019-06-03 the main topics are: Competition, Game, Market\n",
      "On 2019-06-04 the main topics are: Market, Competition, Game\n",
      "On 2019-06-05 the main topics are: Competition, Market, Game\n",
      "On 2019-06-06 the main topics are: Competition, Market, Location\n",
      "On 2019-06-07 the main topics are: Competition, Market, Game\n",
      "On 2019-06-08 the main topics are: Competition, Game, Location\n",
      "On 2019-06-09 the main topics are: Game, Competition, Location\n",
      "On 2019-06-10 the main topics are: Game, Competition, Location\n",
      "On 2019-06-11 the main topics are: Game, Competition, Market\n",
      "On 2019-06-12 the main topics are: Competition, Game, Market\n"
     ]
    }
   ],
   "source": [
    "def get_main_topics(topics_by_date, date):\n",
    "    topics = topics_by_date[date]\n",
    "    return sorted(topics.items(), key=operator.itemgetter(1), reverse=True)[:3]\n",
    "\n",
    "for date in sorted(set([date[1] for date in title_list])):\n",
    "    topics = get_main_topics(topics_by_date, date)\n",
    "    print('On {} the main topics are: {}'.format(date, ', '.join([topic[0] for topic in topics])))"
   ]
  },
  {
   "cell_type": "markdown",
   "metadata": {},
   "source": [
    "# Microsoft stock prices"
   ]
  },
  {
   "cell_type": "code",
   "execution_count": 9,
   "metadata": {},
   "outputs": [],
   "source": [
    "import datetime\n",
    "import matplotlib.pyplot as plt\n",
    "import pandas as pd\n",
    "import numpy as np\n",
    "\n",
    "from iexfinance.stocks import Stock\n",
    "from iexfinance.stocks import get_historical_data"
   ]
  },
  {
   "cell_type": "code",
   "execution_count": 12,
   "metadata": {},
   "outputs": [],
   "source": [
    "def get_prices(stock_name, t1, t2): \n",
    "    start = t1\n",
    "    end = t2 \n",
    "    stock = Stock(stock_name)\n",
    "    return get_historical_data(stock_name, start=start, end=end, output_format='pandas')\n",
    "\n",
    "def plot_candlestick(df):\n",
    "    df[\"color\"] = (df.close > df.open).map({True:\"green\",False:\"red\"})\n",
    "    fig, ax = plt.subplots()\n",
    "    for date in df.index:\n",
    "        ax.plot([date]*2, df.loc[date, [\"high\",\"low\"]].values, color = \"black\")\n",
    "        ax.plot([date]*2, df.loc[date, [\"open\",\"close\"]].values, color = df.loc[date, \"color\"], linewidth = 10)\n",
    "\n",
    "    ax.set_ylabel(\"Price [$]\")\n",
    "    ax.set_xlabel(\"Day\")\n",
    "    ax.set_title(\"OHLC of Stock Value During Trading Day\")\n",
    "    plt.show()"
   ]
  },
  {
   "cell_type": "code",
   "execution_count": 13,
   "metadata": {},
   "outputs": [
    {
     "data": {
      "image/png": "[encoded data removed]",
      "text/plain": [
       "<matplotlib.figure.Figure at 0x7f08a0b29160>"
      ]
     },
     "metadata": {},
     "output_type": "display_data"
    }
   ],
   "source": [
    "df = get_prices('MSFT', datetime.date(2019,5,4), datetime.date(2019,6,4))\n",
    "plot_candlestick(df)"
   ]
  },
  {
   "cell_type": "code",
   "execution_count": null,
   "metadata": {},
   "outputs": [],
   "source": []
  }
 ],
 "metadata": {
  "kernelspec": {
   "display_name": "Python 3",
   "language": "python",
   "name": "python3"
  },
  "language_info": {
   "codemirror_mode": {
    "name": "ipython",
    "version": 3
   },
   "file_extension": ".py",
   "mimetype": "text/x-python",
   "name": "python",
   "nbconvert_exporter": "python",
   "pygments_lexer": "ipython3",
   "version": "3.6.7"
  }
 },
 "nbformat": 4,
 "nbformat_minor": 2
}
