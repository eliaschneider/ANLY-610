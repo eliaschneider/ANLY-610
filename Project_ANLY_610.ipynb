{
 "cells": [
  {
   "cell_type": "markdown",
   "metadata": {},
   "source": [
    "# Import data from webhose.io"
   ]
  },
  {
   "cell_type": "code",
   "execution_count": 1,
   "metadata": {},
   "outputs": [],
   "source": [
    "import os\n",
    "import json\n",
    "import webhoseio\n",
    "\n",
    "data_path = './data'\n",
    "model_path = './model'"
   ]
  },
  {
   "cell_type": "markdown",
   "metadata": {},
   "source": [
    "### Useful function to write and read json files"
   ]
  },
  {
   "cell_type": "code",
   "execution_count": 2,
   "metadata": {},
   "outputs": [],
   "source": [
    "def store_data(filename, data): \n",
    "    data_file = os.path.join(data_path, filename)\n",
    "    with open(data_file, 'w') as outfile:\n",
    "        json.dump(data, outfile)\n",
    "\n",
    "def load_data(filename): \n",
    "    data_file = os.path.join(data_path, filename)\n",
    "    with open(data_file) as json_data:\n",
    "        data = json.load(json_data)\n",
    "        return data"
   ]
  },
  {
   "cell_type": "markdown",
   "metadata": {},
   "source": [
    "### Query to webhose.io"
   ]
  },
  {
   "cell_type": "code",
   "execution_count": 3,
   "metadata": {},
   "outputs": [],
   "source": [
    "webhoseio.config(token=\"1a815770-8785-4596-a11c-09bdae034336\")\n",
    "query_params = {\n",
    "    \"q\": \"language:english site_type:news site_category:media organization:Microsoft\", \n",
    "    \"ts\": \"1555697996143\",\n",
    "    \"sort\": \"crawled\"\n",
    "}"
   ]
  },
  {
   "cell_type": "code",
   "execution_count": 4,
   "metadata": {},
   "outputs": [],
   "source": [
    "output = webhoseio.query(\"filterWebContent\", query_params)\n",
    "feeds = [ item for item in output['posts']]\n",
    "while output['moreResultsAvailable'] > 0:\n",
    "    output = webhoseio.get_next()\n",
    "    feeds += [ item for item in output['posts']]"
   ]
  },
  {
   "cell_type": "code",
   "execution_count": 8,
   "metadata": {},
   "outputs": [],
   "source": [
    "store_data('microsoft_0504_0604.json', feeds)"
   ]
  },
  {
   "cell_type": "markdown",
   "metadata": {},
   "source": [
    "### We repeate the webhose query two time and here we merge the different files"
   ]
  },
  {
   "cell_type": "code",
   "execution_count": 9,
   "metadata": {},
   "outputs": [],
   "source": [
    "def merge_files(file1, file2, new_file):\n",
    "    data1 = load_data(file1)\n",
    "    data2 = load_data(file2)\n",
    "    data = data1 + data2 \n",
    "    store_data(new_file, data)"
   ]
  },
  {
   "cell_type": "code",
   "execution_count": 10,
   "metadata": {},
   "outputs": [],
   "source": [
    "merge_files('microsoft_0504_0604.json', 'microsoft_0604_0612.json', 'microsoft_webhose.json')"
   ]
  },
  {
   "cell_type": "code",
   "execution_count": 24,
   "metadata": {},
   "outputs": [
    {
     "name": "stdout",
     "output_type": "stream",
     "text": [
      "* Total number of news articles: 17123\n",
      "* Date range: from 2019-05-04T03:00:00.000+03:00 to 2019-06-12T09:49:00.000+03:00\n"
     ]
    }
   ],
   "source": [
    "news_list = load_data('microsoft_webhose.json')\n",
    "print('* Total number of news articles: {}'.format(len(news_list)))\n",
    "print('* Date range: from {} to {}'.format(\n",
    "    min([news_list[x]['published'] for x in range(len(news_list))]), \n",
    "    max([news_list[x]['published'] for x in range(len(news_list))])))"
   ]
  },
  {
   "cell_type": "markdown",
   "metadata": {},
   "source": [
    "\n",
    "# Deduplicate titles "
   ]
  },
  {
   "cell_type": "code",
   "execution_count": 13,
   "metadata": {},
   "outputs": [],
   "source": [
    "import re\n",
    "import time\n",
    "import warnings\n",
    "import numpy as np\n",
    "import pandas as pd \n",
    "\n",
    "warnings.filterwarnings(\"ignore\")\n",
    "\n",
    "import nltk\n",
    "from nltk.stem.wordnet import WordNetLemmatizer\n",
    "stopwords = set(nltk.corpus.stopwords.words('english'))\n",
    "\n",
    "from gensim.models import KeyedVectors\n",
    "from simhash import Simhash, SimhashIndex"
   ]
  },
  {
   "cell_type": "markdown",
   "metadata": {},
   "source": [
    "### Useful function to cleanup text and load word2vec "
   ]
  },
  {
   "cell_type": "code",
   "execution_count": 14,
   "metadata": {},
   "outputs": [],
   "source": [
    "def cleanup_text(text):\n",
    "    text = re.sub(r'http\\S+', '', text)\n",
    "    text = text.replace(\"'s\", \" \")\n",
    "    text = text.replace(\"n't\", \" not \")\n",
    "    text = text.replace(\"'ve\", \" have \")\n",
    "    text = text.replace(\"'re\", \" are \")\n",
    "    text = text.replace(\"I'm\",\" I am \")\n",
    "    text = text.replace(\"you're\",\" you are \")\n",
    "    text = text.replace(\"You're\",\" You are \")\n",
    "    text = text.replace(\"-\",\" \")\n",
    "    text = text.replace(\"/\",\" \")\n",
    "    text = text.replace(\"(\",\" \")\n",
    "    text = text.replace(\")\",\" \")\n",
    "    text = text.replace(\"%\",\" percent \")\n",
    "    text = re.sub(r'[^a-zA-Z0-9 ]', '', text)\n",
    "    text = \" \".join([i for i in text.lower().split() if i not in stopwords])\n",
    "    token = [WordNetLemmatizer().lemmatize(i) for i in text.split()]\n",
    "    return token\n",
    "\n",
    "def load_wordvec_model(modelName, modelFile, flagBin):\n",
    "    model = KeyedVectors.load_word2vec_format(os.path.join(model_path, modelFile), binary=flagBin)\n",
    "    return model"
   ]
  },
  {
   "cell_type": "markdown",
   "metadata": {},
   "source": [
    "### Load word2vec and webhose data"
   ]
  },
  {
   "cell_type": "code",
   "execution_count": 16,
   "metadata": {},
   "outputs": [],
   "source": [
    "model_w2v_AP = load_wordvec_model('Word2Vec Google News', 'GoogleNews-vectors-negative300.bin.gz', True)\n",
    "data = load_data('microsoft_webhose.json')"
   ]
  },
  {
   "cell_type": "markdown",
   "metadata": {},
   "source": [
    "### Get titles, cleanup text, and apply Simhash"
   ]
  },
  {
   "cell_type": "code",
   "execution_count": 25,
   "metadata": {},
   "outputs": [],
   "source": [
    "tot_title = len(data)\n",
    "title_list = [' '.join(cleanup_text(str(data[i]['title']))) for i in range(tot_title)]\n",
    "objs = [(i, Simhash(title_list[i])) for i in range(tot_title)]"
   ]
  },
  {
   "cell_type": "markdown",
   "metadata": {},
   "source": [
    "#### Function checks whether the input words are present in the vocabulary for the model"
   ]
  },
  {
   "cell_type": "code",
   "execution_count": 26,
   "metadata": {},
   "outputs": [],
   "source": [
    "def vocab_check(vectors, words):\n",
    "    output = list()\n",
    "    for word in words:\n",
    "        if word in vectors.vocab:\n",
    "            output.append(word.strip())\n",
    "    return output"
   ]
  },
  {
   "cell_type": "markdown",
   "metadata": {},
   "source": [
    "#### Function calculates similarity between two strings using a particular word vector model"
   ]
  },
  {
   "cell_type": "code",
   "execution_count": 27,
   "metadata": {},
   "outputs": [],
   "source": [
    "def calc_similarity(input1, input2, vectors):\n",
    "    s1words = set(vocab_check(vectors, input1.split()))\n",
    "    s2words = set(vocab_check(vectors, input2.split()))\n",
    "    \n",
    "    output = vectors.n_similarity(s1words, s2words)\n",
    "    return output"
   ]
  },
  {
   "cell_type": "markdown",
   "metadata": {},
   "source": [
    "### Remove duplicate titles"
   ]
  },
  {
   "cell_type": "code",
   "execution_count": 41,
   "metadata": {},
   "outputs": [
    {
     "name": "stdout",
     "output_type": "stream",
     "text": [
      "Title: \n",
      "ArcBlock Joins the Decentralized Identity Foundation to Help Make Blockchain-based ID Systems a Reality\n",
      "\n",
      "Duplicates:\n",
      "ArcBlock Joins the Decentralized Identity Foundation to Help Make Blockchain-based ID Systems a Reality\n"
     ]
    }
   ],
   "source": [
    "def remove_duplicate(index, title_list, index_simahs, model_w2v_AP):\n",
    "    duplicates = set()\n",
    "    title = title_list[index]\n",
    "    \n",
    "    # calculate  hash value\n",
    "    title_hash = Simhash(title)\n",
    "    \n",
    "    # find all duplicate indices\n",
    "    dup_indices = index_simahs.get_near_dups(title_hash)\n",
    "\n",
    "    # apply word2vec \n",
    "    for dupi in dup_indices:\n",
    "        if int(dupi) == index: \n",
    "            continue\n",
    "        try:\n",
    "            score = calc_similarity(title, title_list[int(dupi)], model_w2v_AP)\n",
    "        except:\n",
    "            score = 0\n",
    "        if score > 0.55:\n",
    "            duplicates.add(int(dupi))\n",
    "    return duplicates \n",
    "\n",
    "distance = 15\n",
    "index_simahs = SimhashIndex(objs, k=distance)\n",
    "\n",
    "index = 4401\n",
    "print('Title: \\n' + data[index]['title'] + '\\n\\nDuplicates:')\n",
    "for i in remove_duplicate(index, title_list, index_simahs, model_w2v_AP): \n",
    "    print(data[i]['title'])"
   ]
  },
  {
   "cell_type": "code",
   "execution_count": 21,
   "metadata": {},
   "outputs": [
    {
     "ename": "KeyboardInterrupt",
     "evalue": "",
     "output_type": "error",
     "traceback": [
      "\u001b[0;31m---------------------------------------------------------------------------\u001b[0m",
      "\u001b[0;31mKeyboardInterrupt\u001b[0m                         Traceback (most recent call last)",
      "\u001b[0;32m<ipython-input-21-c9ffc510bfaa>\u001b[0m in \u001b[0;36m<module>\u001b[0;34m()\u001b[0m\n\u001b[1;32m      4\u001b[0m     \u001b[0;32mif\u001b[0m \u001b[0mindex\u001b[0m \u001b[0;32min\u001b[0m \u001b[0mduplicates\u001b[0m\u001b[0;34m:\u001b[0m\u001b[0;34m\u001b[0m\u001b[0;34m\u001b[0m\u001b[0m\n\u001b[1;32m      5\u001b[0m         \u001b[0;32mcontinue\u001b[0m\u001b[0;34m\u001b[0m\u001b[0;34m\u001b[0m\u001b[0m\n\u001b[0;32m----> 6\u001b[0;31m     \u001b[0mnew_duplicates\u001b[0m \u001b[0;34m=\u001b[0m \u001b[0mremove_duplicate\u001b[0m\u001b[0;34m(\u001b[0m\u001b[0mindex\u001b[0m\u001b[0;34m,\u001b[0m \u001b[0mtitle_list\u001b[0m\u001b[0;34m,\u001b[0m \u001b[0mindex_simahs\u001b[0m\u001b[0;34m,\u001b[0m \u001b[0mmodel_w2v_AP\u001b[0m\u001b[0;34m)\u001b[0m\u001b[0;34m;\u001b[0m\u001b[0;34m\u001b[0m\u001b[0;34m\u001b[0m\u001b[0m\n\u001b[0m\u001b[1;32m      7\u001b[0m     \u001b[0mduplicates\u001b[0m \u001b[0;34m=\u001b[0m \u001b[0mduplicates\u001b[0m\u001b[0;34m.\u001b[0m\u001b[0munion\u001b[0m\u001b[0;34m(\u001b[0m\u001b[0mnew_duplicates\u001b[0m\u001b[0;34m)\u001b[0m\u001b[0;34m\u001b[0m\u001b[0;34m\u001b[0m\u001b[0m\n\u001b[1;32m      8\u001b[0m     \u001b[0;32mif\u001b[0m \u001b[0mindex\u001b[0m \u001b[0;34m%\u001b[0m \u001b[0;36m2000\u001b[0m \u001b[0;34m==\u001b[0m \u001b[0;36m0\u001b[0m \u001b[0;32mand\u001b[0m \u001b[0mindex\u001b[0m \u001b[0;34m!=\u001b[0m \u001b[0;36m0\u001b[0m\u001b[0;34m:\u001b[0m\u001b[0;34m\u001b[0m\u001b[0;34m\u001b[0m\u001b[0m\n",
      "\u001b[0;32m<ipython-input-20-0a4819500706>\u001b[0m in \u001b[0;36mremove_duplicate\u001b[0;34m(index, title_list, index_simahs, model_w2v_AP)\u001b[0m\n\u001b[1;32m      7\u001b[0m \u001b[0;34m\u001b[0m\u001b[0m\n\u001b[1;32m      8\u001b[0m     \u001b[0;31m# find all duplicate indices\u001b[0m\u001b[0;34m\u001b[0m\u001b[0;34m\u001b[0m\u001b[0;34m\u001b[0m\u001b[0m\n\u001b[0;32m----> 9\u001b[0;31m     \u001b[0mdup_indices\u001b[0m \u001b[0;34m=\u001b[0m \u001b[0mindex_simahs\u001b[0m\u001b[0;34m.\u001b[0m\u001b[0mget_near_dups\u001b[0m\u001b[0;34m(\u001b[0m\u001b[0mtitle_hash\u001b[0m\u001b[0;34m)\u001b[0m\u001b[0;34m\u001b[0m\u001b[0;34m\u001b[0m\u001b[0m\n\u001b[0m\u001b[1;32m     10\u001b[0m \u001b[0;34m\u001b[0m\u001b[0m\n\u001b[1;32m     11\u001b[0m     \u001b[0;31m# apply word2vec\u001b[0m\u001b[0;34m\u001b[0m\u001b[0;34m\u001b[0m\u001b[0;34m\u001b[0m\u001b[0m\n",
      "\u001b[0;32m/usr/local/lib/python3.6/dist-packages/simhash/__init__.py\u001b[0m in \u001b[0;36mget_near_dups\u001b[0;34m(self, simhash)\u001b[0m\n\u001b[1;32m    157\u001b[0m             \u001b[0;32mfor\u001b[0m \u001b[0mdup\u001b[0m \u001b[0;32min\u001b[0m \u001b[0mdups\u001b[0m\u001b[0;34m:\u001b[0m\u001b[0;34m\u001b[0m\u001b[0;34m\u001b[0m\u001b[0m\n\u001b[1;32m    158\u001b[0m                 \u001b[0msim2\u001b[0m\u001b[0;34m,\u001b[0m \u001b[0mobj_id\u001b[0m \u001b[0;34m=\u001b[0m \u001b[0mdup\u001b[0m\u001b[0;34m.\u001b[0m\u001b[0msplit\u001b[0m\u001b[0;34m(\u001b[0m\u001b[0;34m','\u001b[0m\u001b[0;34m,\u001b[0m \u001b[0;36m1\u001b[0m\u001b[0;34m)\u001b[0m\u001b[0;34m\u001b[0m\u001b[0;34m\u001b[0m\u001b[0m\n\u001b[0;32m--> 159\u001b[0;31m                 \u001b[0msim2\u001b[0m \u001b[0;34m=\u001b[0m \u001b[0mSimhash\u001b[0m\u001b[0;34m(\u001b[0m\u001b[0mlong\u001b[0m\u001b[0;34m(\u001b[0m\u001b[0msim2\u001b[0m\u001b[0;34m,\u001b[0m \u001b[0;36m16\u001b[0m\u001b[0;34m)\u001b[0m\u001b[0;34m,\u001b[0m \u001b[0mself\u001b[0m\u001b[0;34m.\u001b[0m\u001b[0mf\u001b[0m\u001b[0;34m)\u001b[0m\u001b[0;34m\u001b[0m\u001b[0;34m\u001b[0m\u001b[0m\n\u001b[0m\u001b[1;32m    160\u001b[0m \u001b[0;34m\u001b[0m\u001b[0m\n\u001b[1;32m    161\u001b[0m                 \u001b[0md\u001b[0m \u001b[0;34m=\u001b[0m \u001b[0msimhash\u001b[0m\u001b[0;34m.\u001b[0m\u001b[0mdistance\u001b[0m\u001b[0;34m(\u001b[0m\u001b[0msim2\u001b[0m\u001b[0;34m)\u001b[0m\u001b[0;34m\u001b[0m\u001b[0;34m\u001b[0m\u001b[0m\n",
      "\u001b[0;32m/usr/local/lib/python3.6/dist-packages/simhash/__init__.py\u001b[0m in \u001b[0;36m__init__\u001b[0;34m(self, value, f, reg, hashfunc, log)\u001b[0m\n\u001b[1;32m     57\u001b[0m         \u001b[0;32melif\u001b[0m \u001b[0misinstance\u001b[0m\u001b[0;34m(\u001b[0m\u001b[0mvalue\u001b[0m\u001b[0;34m,\u001b[0m \u001b[0mbasestring\u001b[0m\u001b[0;34m)\u001b[0m\u001b[0;34m:\u001b[0m\u001b[0;34m\u001b[0m\u001b[0;34m\u001b[0m\u001b[0m\n\u001b[1;32m     58\u001b[0m             \u001b[0mself\u001b[0m\u001b[0;34m.\u001b[0m\u001b[0mbuild_by_text\u001b[0m\u001b[0;34m(\u001b[0m\u001b[0municode\u001b[0m\u001b[0;34m(\u001b[0m\u001b[0mvalue\u001b[0m\u001b[0;34m)\u001b[0m\u001b[0;34m)\u001b[0m\u001b[0;34m\u001b[0m\u001b[0;34m\u001b[0m\u001b[0m\n\u001b[0;32m---> 59\u001b[0;31m         \u001b[0;32melif\u001b[0m \u001b[0misinstance\u001b[0m\u001b[0;34m(\u001b[0m\u001b[0mvalue\u001b[0m\u001b[0;34m,\u001b[0m \u001b[0mcollections\u001b[0m\u001b[0;34m.\u001b[0m\u001b[0mIterable\u001b[0m\u001b[0;34m)\u001b[0m\u001b[0;34m:\u001b[0m\u001b[0;34m\u001b[0m\u001b[0;34m\u001b[0m\u001b[0m\n\u001b[0m\u001b[1;32m     60\u001b[0m             \u001b[0mself\u001b[0m\u001b[0;34m.\u001b[0m\u001b[0mbuild_by_features\u001b[0m\u001b[0;34m(\u001b[0m\u001b[0mvalue\u001b[0m\u001b[0;34m)\u001b[0m\u001b[0;34m\u001b[0m\u001b[0;34m\u001b[0m\u001b[0m\n\u001b[1;32m     61\u001b[0m         \u001b[0;32melif\u001b[0m \u001b[0misinstance\u001b[0m\u001b[0;34m(\u001b[0m\u001b[0mvalue\u001b[0m\u001b[0;34m,\u001b[0m \u001b[0mnumbers\u001b[0m\u001b[0;34m.\u001b[0m\u001b[0mIntegral\u001b[0m\u001b[0;34m)\u001b[0m\u001b[0;34m:\u001b[0m\u001b[0;34m\u001b[0m\u001b[0;34m\u001b[0m\u001b[0m\n",
      "\u001b[0;32m/usr/lib/python3.6/abc.py\u001b[0m in \u001b[0;36m__instancecheck__\u001b[0;34m(cls, instance)\u001b[0m\n\u001b[1;32m    188\u001b[0m             if (cls._abc_negative_cache_version ==\n\u001b[1;32m    189\u001b[0m                 \u001b[0mABCMeta\u001b[0m\u001b[0;34m.\u001b[0m\u001b[0m_abc_invalidation_counter\u001b[0m \u001b[0;32mand\u001b[0m\u001b[0;34m\u001b[0m\u001b[0;34m\u001b[0m\u001b[0m\n\u001b[0;32m--> 190\u001b[0;31m                 subclass in cls._abc_negative_cache):\n\u001b[0m\u001b[1;32m    191\u001b[0m                 \u001b[0;32mreturn\u001b[0m \u001b[0;32mFalse\u001b[0m\u001b[0;34m\u001b[0m\u001b[0;34m\u001b[0m\u001b[0m\n\u001b[1;32m    192\u001b[0m             \u001b[0;31m# Fall back to the subclass check.\u001b[0m\u001b[0;34m\u001b[0m\u001b[0;34m\u001b[0m\u001b[0;34m\u001b[0m\u001b[0m\n",
      "\u001b[0;32m/usr/lib/python3.6/_weakrefset.py\u001b[0m in \u001b[0;36m__contains__\u001b[0;34m(self, item)\u001b[0m\n\u001b[1;32m     70\u001b[0m     \u001b[0;32mdef\u001b[0m \u001b[0m__contains__\u001b[0m\u001b[0;34m(\u001b[0m\u001b[0mself\u001b[0m\u001b[0;34m,\u001b[0m \u001b[0mitem\u001b[0m\u001b[0;34m)\u001b[0m\u001b[0;34m:\u001b[0m\u001b[0;34m\u001b[0m\u001b[0;34m\u001b[0m\u001b[0m\n\u001b[1;32m     71\u001b[0m         \u001b[0;32mtry\u001b[0m\u001b[0;34m:\u001b[0m\u001b[0;34m\u001b[0m\u001b[0;34m\u001b[0m\u001b[0m\n\u001b[0;32m---> 72\u001b[0;31m             \u001b[0mwr\u001b[0m \u001b[0;34m=\u001b[0m \u001b[0mref\u001b[0m\u001b[0;34m(\u001b[0m\u001b[0mitem\u001b[0m\u001b[0;34m)\u001b[0m\u001b[0;34m\u001b[0m\u001b[0;34m\u001b[0m\u001b[0m\n\u001b[0m\u001b[1;32m     73\u001b[0m         \u001b[0;32mexcept\u001b[0m \u001b[0mTypeError\u001b[0m\u001b[0;34m:\u001b[0m\u001b[0;34m\u001b[0m\u001b[0;34m\u001b[0m\u001b[0m\n\u001b[1;32m     74\u001b[0m             \u001b[0;32mreturn\u001b[0m \u001b[0;32mFalse\u001b[0m\u001b[0;34m\u001b[0m\u001b[0;34m\u001b[0m\u001b[0m\n",
      "\u001b[0;31mKeyboardInterrupt\u001b[0m: "
     ]
    }
   ],
   "source": [
    "start = time.clock()\n",
    "duplicates = set()\n",
    "for index in range(tot_title): \n",
    "    if index in duplicates: \n",
    "        continue \n",
    "    new_duplicates = remove_duplicate(index, title_list, index_simahs, model_w2v_AP);\n",
    "    duplicates = duplicates.union(new_duplicates)\n",
    "    if index % 5000 == 0 and index != 0: \n",
    "        print(str(index) + '/' + str(tot_title), len(duplicates), time.clock() - start)\n",
    "    \n",
    "new_feeds = data.copy()\n",
    "for dup in sorted([int(dup) for dup in duplicates], reverse=True):\n",
    "    del new_feeds[dup]"
   ]
  },
  {
   "cell_type": "code",
   "execution_count": null,
   "metadata": {},
   "outputs": [],
   "source": [
    "store_data('microsoft_clean.json', new_feeds)"
   ]
  },
  {
   "cell_type": "code",
   "execution_count": 42,
   "metadata": {},
   "outputs": [
    {
     "name": "stdout",
     "output_type": "stream",
     "text": [
      "* Total number of news articles once removed duplicates: 14099\n",
      "* Date range: from 2019-05-04T03:00:00.000+03:00 to 2019-06-12T09:49:00.000+03:00\n"
     ]
    }
   ],
   "source": [
    "news_cleaned_list = load_data('microsoft_clean.json')\n",
    "print('* Total number of news articles once removed duplicates: {}'.format(len(news_cleaned_list)))\n",
    "print('* Date range: from {} to {}'.format(\n",
    "    min([news_list[x]['published'] for x in range(len(news_cleaned_list))]), \n",
    "    max([news_list[x]['published'] for x in range(len(news_cleaned_list))])))"
   ]
  },
  {
   "cell_type": "markdown",
   "metadata": {},
   "source": [
    "# Name Entity Recognition using IBM Watson"
   ]
  },
  {
   "cell_type": "code",
   "execution_count": 10,
   "metadata": {},
   "outputs": [],
   "source": [
    "from watson_developer_cloud import NaturalLanguageUnderstandingV1\n",
    "from watson_developer_cloud.natural_language_understanding_v1 import Features, EntitiesOptions, KeywordsOptions"
   ]
  },
  {
   "cell_type": "code",
   "execution_count": 11,
   "metadata": {},
   "outputs": [],
   "source": [
    "data = load_data('microsoft_clean.json') "
   ]
  },
  {
   "cell_type": "markdown",
   "metadata": {},
   "source": [
    "### Query to IBM Watson"
   ]
  },
  {
   "cell_type": "code",
   "execution_count": 12,
   "metadata": {},
   "outputs": [
    {
     "name": "stderr",
     "output_type": "stream",
     "text": [
      "/usr/lib/python3/dist-packages/ipykernel_launcher.py:4: DeprecationWarning: NaturalLanguageUnderstandingV1 is a deprecated function. watson-developer-cloud moved to ibm-watson\n",
      "  after removing the cwd from sys.path.\n"
     ]
    }
   ],
   "source": [
    "natural_language_understanding = NaturalLanguageUnderstandingV1(\n",
    "    version='2018-11-16',\n",
    "    iam_apikey='N9R1KBh-8CJVJWSMGHB_lLG-Sq03-BurNjDc_dh5l9Id',\n",
    "    url='https://gateway.watsonplatform.net/natural-language-understanding/api/v1/analyze?version=2018-11-16'\n",
    ")"
   ]
  },
  {
   "cell_type": "code",
   "execution_count": 17,
   "metadata": {},
   "outputs": [
    {
     "name": "stdout",
     "output_type": "stream",
     "text": [
      "CBSE 10th Result 2019: Candidates can use alternative methods to provided by Google, Microsoft if official website is down\n"
     ]
    },
    {
     "data": {
      "text/plain": [
       "{'Company': 'Microsoft', 'JobTitle': 'official', 'Organization': 'CBSE'}"
      ]
     },
     "execution_count": 17,
     "metadata": {},
     "output_type": "execute_result"
    }
   ],
   "source": [
    "def get_title_WATSON_entities(text):\n",
    "    entities_dict = dict()\n",
    "    r = natural_language_understanding.analyze(\n",
    "        text=text, features=Features(entities=EntitiesOptions(sentiment=True, limit=10))).get_result()\n",
    "    for entity in r['entities']:\n",
    "        entities_dict[entity['type']] = entity['text']\n",
    "    return entities_dict\n",
    "\n",
    "title = data[11]['title']\n",
    "print(title)\n",
    "get_title_WATSON_entities(title)"
   ]
  },
  {
   "cell_type": "code",
   "execution_count": 18,
   "metadata": {},
   "outputs": [],
   "source": [
    "start = time.clock()\n",
    "for i in range(len(data)): \n",
    "    title = data[i]['title']\n",
    "    try:\n",
    "        entities = get_title_WATSON_entities(title)\n",
    "    except Exception:\n",
    "        entities = dict()\n",
    "    data[i]['title_entities'] = entities\n",
    "    if index % 5000 == 0 and index != 0: \n",
    "        print(str(index) + '/' + str(len(data)), time.clock() - start)"
   ]
  },
  {
   "cell_type": "code",
   "execution_count": 18,
   "metadata": {},
   "outputs": [
    {
     "ename": "NameError",
     "evalue": "name 'data' is not defined",
     "output_type": "error",
     "traceback": [
      "\u001b[0;31m---------------------------------------------------------------------------\u001b[0m",
      "\u001b[0;31mNameError\u001b[0m                                 Traceback (most recent call last)",
      "\u001b[0;32m<ipython-input-18-61c1e0c0cc3a>\u001b[0m in \u001b[0;36m<module>\u001b[0;34m()\u001b[0m\n\u001b[0;32m----> 1\u001b[0;31m \u001b[0mstore_data\u001b[0m\u001b[0;34m(\u001b[0m\u001b[0;34m'microsoft_0504_0604_clean_with_entities.json'\u001b[0m\u001b[0;34m,\u001b[0m \u001b[0mdata\u001b[0m\u001b[0;34m)\u001b[0m\u001b[0;34m\u001b[0m\u001b[0;34m\u001b[0m\u001b[0m\n\u001b[0m",
      "\u001b[0;31mNameError\u001b[0m: name 'data' is not defined"
     ]
    }
   ],
   "source": [
    "store_data('microsoft_clean_with_entities.json', data)"
   ]
  },
  {
   "cell_type": "code",
   "execution_count": 19,
   "metadata": {},
   "outputs": [
    {
     "name": "stdout",
     "output_type": "stream",
     "text": [
      "* Total number of news entities: 27\n",
      "\n",
      "* List of entities find in titles:\n",
      " -Person\n",
      " -Company\n",
      " -JobTitle\n",
      " -Location\n",
      " -GeographicFeature\n",
      " -Organization\n",
      " -Quantity\n",
      " -PrintMedia\n",
      " -Facility\n",
      " -Sport\n",
      " -Broadcaster\n",
      " -Number\n",
      " -Drug\n",
      " -Hashtag\n",
      " -HealthCondition\n",
      " -TwitterHandle\n",
      " -IPAddress\n",
      " -Movie\n",
      " -Date\n",
      " -Crime\n",
      " -Measure\n",
      " -MusicGroup\n",
      " -Money\n",
      " -TelevisionShow\n",
      " -Vehicle\n",
      " -Award\n",
      " -Percent\n",
      "\n",
      "* List of words associated with Broadcaster:\n",
      " -FOX News\n",
      " -CNN\n",
      " -ABC\n",
      " -KTLA\n",
      " -HBO\n",
      " -BBC News\n",
      " -TMZ\n",
      " -CBS\n",
      " -NBC\n",
      " -Fox News\n"
     ]
    }
   ],
   "source": [
    "news_cleaned_list = load_data('microsoft_clean_with_entities.json')\n",
    "entity_title_list = [news['title_entities'] for news in news_cleaned_list if len(news['title_entities'].keys()) > 0]\n",
    "tot_entities_dict = dict()\n",
    "for entity_title in entity_title_list: \n",
    "    for entity in entity_title:\n",
    "        if entity in tot_entities_dict.keys():\n",
    "            tot_entities_dict[entity] += [entity_title[entity]]\n",
    "        else:\n",
    "            tot_entities_dict[entity] = [entity_title[entity]]\n",
    "print('* Total number of news entities: {}'.format(len(tot_entities_dict)) + '\\n')\n",
    "print('* List of entities find in titles:\\n -' + '\\n -'.join(list(tot_entities_dict.keys())) + '\\n')\n",
    "print('* List of words associated with Broadcaster:\\n -' + '\\n -'.join(list(set(tot_entities_dict['Broadcaster']))))"
   ]
  },
  {
   "cell_type": "code",
   "execution_count": 68,
   "metadata": {},
   "outputs": [
    {
     "name": "stdout",
     "output_type": "stream",
     "text": [
      "word       |  count \n",
      "Microsoft  | 915\n",
      "Huawei     | 100\n",
      "Google     | 92\n",
      "Apple      | 60\n",
      "US         | 47\n",
      "Amazon     | 47\n",
      "CNET       | 42\n",
      "Sony       | 40\n",
      "AI         | 36\n",
      "Facebook   | 34\n",
      "CEO        | 32\n",
      "China      | 31\n",
      "India      | 28\n",
      "Chicago    | 22\n",
      "UK         | 21\n",
      "Bill Gates | 16\n",
      "MSFT       | 16\n",
      "Africa     | 16\n",
      "partner    | 15\n",
      "Samsung    | 15\n",
      "Coast Live | 15\n",
      "IBM        | 14\n",
      "Twitter    | 14\n",
      "U.S.       | 14\n",
      "Intel      | 13\n"
     ]
    }
   ],
   "source": [
    "from collections import Counter\n",
    "list_words = [text[1] for entity in entity_title_list for text in entity.items()]\n",
    "counts = Counter(list_words)\n",
    "print('word       |  count ')\n",
    "for i in counts.most_common(25): \n",
    "    print('{:<10} | {}'.format(i[0], i[1]))"
   ]
  },
  {
   "cell_type": "markdown",
   "metadata": {},
   "source": [
    "# Topic cluster using LDA"
   ]
  },
  {
   "cell_type": "code",
   "execution_count": 43,
   "metadata": {},
   "outputs": [],
   "source": [
    "from gensim.models import ldamodel\n",
    "from gensim.corpora.dictionary import Dictionary\n",
    "import pyLDAvis.gensim"
   ]
  },
  {
   "cell_type": "code",
   "execution_count": 44,
   "metadata": {},
   "outputs": [],
   "source": [
    "data = load_data('microsoft_clean.json') \n",
    "titles = [[data[i]['title'], data[i]['published'][:10]]  for i in range(len(data))]\n",
    "df_feeds = pd.DataFrame(titles,columns=['title', 'date'])\n",
    "titles = df_feeds[['title']].applymap(cleanup_text)['title']"
   ]
  },
  {
   "cell_type": "code",
   "execution_count": 45,
   "metadata": {},
   "outputs": [],
   "source": [
    "dictionary = Dictionary(titles)\n",
    "dictionary.filter_extremes(no_below=20, no_above=0.8)\n",
    "corpora = [dictionary.doc2bow(doc) for doc in titles]\n",
    "\n",
    "# Running and Trainign LDA model on the document term matrix.\n",
    "lda_model = ldamodel.LdaModel(corpora, num_topics=10, id2word = dictionary, passes=50)"
   ]
  },
  {
   "cell_type": "code",
   "execution_count": 46,
   "metadata": {},
   "outputs": [
    {
     "data": {
      "text/html": [
       "\n",
       "<link rel=\"stylesheet\" type=\"text/css\" href=\"https://cdn.rawgit.com/bmabey/pyLDAvis/files/ldavis.v1.0.0.css\">\n",
       "\n",
       "\n",
       "<div id=\"ldavis_el67801398635147489929176911850\"></div>\n",
       "<script type=\"text/javascript\">\n",
       "\n",
       "var ldavis_el67801398635147489929176911850_data = {\"mdsDat\": {\"Freq\": [12.90733528137207, 11.634642601013184, 11.077434539794922, 10.97694206237793, 9.447736740112305, 9.334928512573242, 9.241575241088867, 9.109207153320312, 8.347622871398926, 7.922577857971191], \"cluster\": [1, 1, 1, 1, 1, 1, 1, 1, 1, 1], \"topics\": [1, 2, 3, 4, 5, 6, 7, 8, 9, 10], \"x\": [-0.03886423833922573, 0.2118228673590251, 0.150591360041213, 0.06026228732304386, 0.0017952092045153696, -0.31819602647564416, 0.07613207193478046, -0.07140443415488226, 0.13282295521683088, -0.20496205210965723], \"y\": [-0.29955217668916034, 0.12232951597636527, 0.025665213100632817, -0.2602758297780483, 0.16487789118247587, 0.15884952058897425, 0.05445884215204225, -0.016634936613645835, 0.08729552162918557, -0.03701356154882201]}, \"tinfo\": {\"Category\": [\"Default\", \"Default\", \"Default\", \"Default\", \"Default\", \"Default\", \"Default\", \"Default\", \"Default\", \"Default\", \"Default\", \"Default\", \"Default\", \"Default\", \"Default\", \"Default\", \"Default\", \"Default\", \"Default\", \"Default\", \"Default\", \"Default\", \"Default\", \"Default\", \"Default\", \"Default\", \"Default\", \"Default\", \"Default\", \"Default\", \"Topic1\", \"Topic1\", \"Topic1\", \"Topic1\", \"Topic1\", \"Topic1\", \"Topic1\", \"Topic1\", \"Topic1\", \"Topic1\", \"Topic1\", \"Topic1\", \"Topic1\", \"Topic1\", \"Topic1\", \"Topic1\", \"Topic1\", \"Topic1\", \"Topic1\", \"Topic1\", \"Topic1\", \"Topic1\", \"Topic1\", \"Topic1\", \"Topic1\", \"Topic1\", \"Topic1\", \"Topic1\", \"Topic1\", \"Topic1\", \"Topic1\", \"Topic1\", \"Topic1\", \"Topic1\", \"Topic1\", \"Topic1\", \"Topic1\", \"Topic1\", \"Topic1\", \"Topic1\", \"Topic1\", \"Topic1\", \"Topic1\", \"Topic1\", \"Topic1\", \"Topic1\", \"Topic1\", \"Topic2\", \"Topic2\", \"Topic2\", \"Topic2\", \"Topic2\", \"Topic2\", \"Topic2\", \"Topic2\", \"Topic2\", \"Topic2\", \"Topic2\", \"Topic2\", \"Topic2\", \"Topic2\", \"Topic2\", \"Topic2\", \"Topic2\", \"Topic2\", \"Topic2\", \"Topic2\", \"Topic2\", \"Topic2\", \"Topic2\", \"Topic2\", \"Topic2\", \"Topic2\", \"Topic2\", \"Topic2\", \"Topic2\", \"Topic2\", \"Topic2\", \"Topic2\", \"Topic2\", \"Topic2\", \"Topic2\", \"Topic2\", \"Topic2\", \"Topic2\", \"Topic2\", \"Topic3\", \"Topic3\", \"Topic3\", \"Topic3\", \"Topic3\", \"Topic3\", \"Topic3\", \"Topic3\", \"Topic3\", \"Topic3\", \"Topic3\", \"Topic3\", \"Topic3\", \"Topic3\", \"Topic3\", \"Topic3\", \"Topic3\", \"Topic3\", \"Topic3\", \"Topic3\", \"Topic3\", \"Topic3\", \"Topic3\", \"Topic3\", \"Topic3\", \"Topic3\", \"Topic3\", \"Topic3\", \"Topic3\", \"Topic3\", \"Topic3\", \"Topic3\", \"Topic3\", \"Topic3\", \"Topic3\", \"Topic3\", \"Topic3\", \"Topic3\", \"Topic3\", \"Topic3\", \"Topic3\", \"Topic3\", \"Topic3\", \"Topic3\", \"Topic3\", \"Topic3\", \"Topic3\", \"Topic3\", \"Topic3\", \"Topic4\", \"Topic4\", \"Topic4\", \"Topic4\", \"Topic4\", \"Topic4\", \"Topic4\", \"Topic4\", \"Topic4\", \"Topic4\", \"Topic4\", \"Topic4\", \"Topic4\", \"Topic4\", \"Topic4\", \"Topic4\", \"Topic4\", \"Topic4\", \"Topic4\", \"Topic4\", \"Topic4\", \"Topic4\", \"Topic4\", \"Topic4\", \"Topic4\", \"Topic4\", \"Topic4\", \"Topic4\", \"Topic4\", \"Topic4\", \"Topic4\", \"Topic4\", \"Topic4\", \"Topic4\", \"Topic4\", \"Topic4\", \"Topic4\", \"Topic4\", \"Topic4\", \"Topic4\", \"Topic4\", \"Topic4\", \"Topic4\", \"Topic4\", \"Topic5\", \"Topic5\", \"Topic5\", \"Topic5\", \"Topic5\", \"Topic5\", \"Topic5\", \"Topic5\", \"Topic5\", \"Topic5\", \"Topic5\", \"Topic5\", \"Topic5\", \"Topic5\", \"Topic5\", \"Topic5\", \"Topic5\", \"Topic5\", \"Topic5\", \"Topic5\", \"Topic5\", \"Topic5\", \"Topic5\", \"Topic5\", \"Topic5\", \"Topic5\", \"Topic5\", \"Topic5\", \"Topic5\", \"Topic5\", \"Topic5\", \"Topic5\", \"Topic5\", \"Topic5\", \"Topic5\", \"Topic5\", \"Topic5\", \"Topic5\", \"Topic5\", \"Topic5\", \"Topic5\", \"Topic5\", \"Topic5\", \"Topic5\", \"Topic5\", \"Topic5\", \"Topic5\", \"Topic5\", \"Topic5\", \"Topic5\", \"Topic6\", \"Topic6\", \"Topic6\", \"Topic6\", \"Topic6\", \"Topic6\", \"Topic6\", \"Topic6\", \"Topic6\", \"Topic6\", \"Topic6\", \"Topic6\", \"Topic6\", \"Topic6\", \"Topic6\", \"Topic6\", \"Topic6\", \"Topic6\", \"Topic6\", \"Topic6\", \"Topic6\", \"Topic6\", \"Topic6\", \"Topic6\", \"Topic6\", \"Topic6\", \"Topic6\", \"Topic6\", \"Topic6\", \"Topic6\", \"Topic6\", \"Topic6\", \"Topic6\", \"Topic6\", \"Topic6\", \"Topic6\", \"Topic6\", \"Topic6\", \"Topic6\", \"Topic6\", \"Topic6\", \"Topic6\", \"Topic7\", \"Topic7\", \"Topic7\", \"Topic7\", \"Topic7\", \"Topic7\", \"Topic7\", \"Topic7\", \"Topic7\", \"Topic7\", \"Topic7\", \"Topic7\", \"Topic7\", \"Topic7\", \"Topic7\", \"Topic7\", \"Topic7\", \"Topic7\", \"Topic7\", \"Topic7\", \"Topic7\", \"Topic7\", \"Topic7\", \"Topic7\", \"Topic7\", \"Topic7\", \"Topic7\", \"Topic7\", \"Topic7\", \"Topic7\", \"Topic7\", \"Topic7\", \"Topic7\", \"Topic7\", \"Topic7\", \"Topic7\", \"Topic7\", \"Topic7\", \"Topic7\", \"Topic7\", \"Topic8\", \"Topic8\", \"Topic8\", \"Topic8\", \"Topic8\", \"Topic8\", \"Topic8\", \"Topic8\", \"Topic8\", \"Topic8\", \"Topic8\", \"Topic8\", \"Topic8\", \"Topic8\", \"Topic8\", \"Topic8\", \"Topic8\", \"Topic8\", \"Topic8\", \"Topic8\", \"Topic8\", \"Topic8\", \"Topic8\", \"Topic8\", \"Topic8\", \"Topic8\", \"Topic8\", \"Topic8\", \"Topic8\", \"Topic8\", \"Topic8\", \"Topic8\", \"Topic8\", \"Topic8\", \"Topic8\", \"Topic8\", \"Topic8\", \"Topic8\", \"Topic8\", \"Topic8\", \"Topic8\", \"Topic8\", \"Topic8\", \"Topic8\", \"Topic9\", \"Topic9\", \"Topic9\", \"Topic9\", \"Topic9\", \"Topic9\", \"Topic9\", \"Topic9\", \"Topic9\", \"Topic9\", \"Topic9\", \"Topic9\", \"Topic9\", \"Topic9\", \"Topic9\", \"Topic9\", \"Topic9\", \"Topic9\", \"Topic9\", \"Topic9\", \"Topic9\", \"Topic9\", \"Topic9\", \"Topic9\", \"Topic9\", \"Topic9\", \"Topic9\", \"Topic9\", \"Topic9\", \"Topic9\", \"Topic9\", \"Topic9\", \"Topic9\", \"Topic9\", \"Topic9\", \"Topic9\", \"Topic9\", \"Topic9\", \"Topic9\", \"Topic9\", \"Topic9\", \"Topic9\", \"Topic9\", \"Topic9\", \"Topic10\", \"Topic10\", \"Topic10\", \"Topic10\", \"Topic10\", \"Topic10\", \"Topic10\", \"Topic10\", \"Topic10\", \"Topic10\", \"Topic10\", \"Topic10\", \"Topic10\", \"Topic10\", \"Topic10\", \"Topic10\", \"Topic10\", \"Topic10\", \"Topic10\", \"Topic10\", \"Topic10\", \"Topic10\", \"Topic10\", \"Topic10\", \"Topic10\", \"Topic10\", \"Topic10\", \"Topic10\", \"Topic10\", \"Topic10\", \"Topic10\", \"Topic10\", \"Topic10\", \"Topic10\", \"Topic10\", \"Topic10\", \"Topic10\", \"Topic10\"], \"Freq\": [1344.0, 896.0, 712.0, 585.0, 930.0, 574.0, 836.0, 517.0, 488.0, 2824.0, 484.0, 338.0, 301.0, 386.0, 285.0, 350.0, 363.0, 472.0, 360.0, 229.0, 257.0, 323.0, 330.0, 238.0, 266.0, 217.0, 229.0, 279.0, 189.0, 195.0, 711.9306640625, 210.66876220703125, 191.52098083496094, 156.55923461914062, 120.58470153808594, 111.15950012207031, 99.5442886352539, 90.94290161132812, 87.64830017089844, 87.22880554199219, 84.82024383544922, 80.54278564453125, 78.3038101196289, 74.76445770263672, 68.06890106201172, 66.59304809570312, 64.78517150878906, 63.0596923828125, 58.36992645263672, 56.79937744140625, 55.02919006347656, 55.009796142578125, 54.892398834228516, 54.480430603027344, 51.00110626220703, 50.56254959106445, 49.8691520690918, 48.784423828125, 47.49279022216797, 43.25151443481445, 118.36983489990234, 296.9705505371094, 971.5068359375, 273.0406494140625, 197.6526641845703, 440.1127014160156, 419.3431396484375, 86.37855529785156, 93.37645721435547, 113.46983337402344, 212.6331024169922, 73.22786712646484, 112.84477996826172, 94.8952865600586, 118.4354476928711, 76.89463806152344, 74.84667205810547, 488.0496520996094, 256.3030090332031, 184.2661590576172, 177.8639373779297, 166.38656616210938, 166.00579833984375, 157.98776245117188, 144.6412353515625, 143.39927673339844, 140.1915740966797, 131.0108642578125, 122.11676025390625, 116.03327941894531, 98.99327087402344, 97.58065795898438, 96.93826293945312, 86.96070861816406, 85.64948272705078, 79.11613464355469, 78.57100677490234, 76.91932678222656, 76.10749053955078, 71.12626647949219, 68.39732360839844, 68.32420349121094, 66.51203155517578, 64.98291015625, 64.94731140136719, 63.432621002197266, 61.10634231567383, 265.4078063964844, 127.71392059326172, 211.6565399169922, 84.13874816894531, 401.3789367675781, 87.80399322509766, 208.96148681640625, 94.11450958251953, 93.8307876586914, 516.428466796875, 337.8918762207031, 237.3899383544922, 143.58819580078125, 118.78990173339844, 105.72564697265625, 98.86993408203125, 98.66282653808594, 84.82069396972656, 77.41582489013672, 75.94505310058594, 71.88032531738281, 64.24918365478516, 63.32266616821289, 62.776302337646484, 60.61820602416992, 59.9986572265625, 58.74150466918945, 57.0007209777832, 55.74526596069336, 48.8048210144043, 48.111907958984375, 46.94143295288086, 46.09720230102539, 44.992618560791016, 43.22760772705078, 43.10477066040039, 41.845054626464844, 39.30623245239258, 38.80681228637695, 79.93607330322266, 66.40474700927734, 281.54486083984375, 79.6674575805664, 103.68023681640625, 78.78844451904297, 110.23932647705078, 105.20116424560547, 86.51813507080078, 106.13807678222656, 448.41778564453125, 101.22145080566406, 137.9765167236328, 94.23451232910156, 145.88894653320312, 81.38380432128906, 82.24638366699219, 69.5384292602539, 68.67340087890625, 300.2104797363281, 284.8710021972656, 228.9724884033203, 162.43629455566406, 154.85841369628906, 152.62759399414062, 142.56411743164062, 134.01502990722656, 129.8920440673828, 119.87921142578125, 112.67089080810547, 86.78118896484375, 79.80827331542969, 76.98517608642578, 76.4189224243164, 74.16041564941406, 69.07247924804688, 67.44124603271484, 66.2250747680664, 66.17526245117188, 56.140682220458984, 54.74799728393555, 51.193145751953125, 50.2692985534668, 50.24905776977539, 48.74467086791992, 48.616493225097656, 46.05574417114258, 42.35581970214844, 42.282569885253906, 92.97527313232422, 290.3151550292969, 510.6260986328125, 395.2867431640625, 126.2654037475586, 114.51665496826172, 60.39983367919922, 68.52786254882812, 103.91101837158203, 238.2719268798828, 288.3702392578125, 77.77986145019531, 74.93014526367188, 68.11419677734375, 216.55323791503906, 160.59439086914062, 119.279541015625, 117.5021743774414, 98.09605407714844, 92.29814910888672, 72.76561737060547, 70.5571060180664, 65.8949966430664, 65.76175689697266, 59.09135818481445, 55.897186279296875, 54.705204010009766, 53.04650115966797, 51.295406341552734, 50.5351676940918, 47.58565902709961, 47.2353630065918, 45.31549072265625, 43.53766632080078, 43.083396911621094, 42.93046188354492, 40.346717834472656, 37.88608169555664, 37.48002624511719, 36.31686782836914, 36.216697692871094, 34.896060943603516, 31.054508209228516, 30.73923683166504, 224.1217803955078, 127.44007873535156, 344.002685546875, 186.08787536621094, 73.9336166381836, 184.68638610839844, 138.38934326171875, 65.33794403076172, 158.0432586669922, 135.88314819335938, 65.11115264892578, 456.5203552246094, 139.16319274902344, 198.9003448486328, 82.05846405029297, 70.5177230834961, 59.48294448852539, 85.68360137939453, 75.33987426757812, 59.46875, 573.4938354492188, 166.66722106933594, 151.76451110839844, 125.26652526855469, 94.0108413696289, 92.04071807861328, 90.94371032714844, 87.63170623779297, 82.23854064941406, 81.8973159790039, 80.42361450195312, 75.3316421508789, 72.11812591552734, 71.88080596923828, 69.20732116699219, 64.44915771484375, 64.21876525878906, 57.081485748291016, 56.10753631591797, 55.814735412597656, 55.41023635864258, 48.939414978027344, 48.84226989746094, 48.43073272705078, 46.960784912109375, 46.928409576416016, 45.944175720214844, 45.61225509643555, 43.119468688964844, 41.77458190917969, 696.9493408203125, 125.36163330078125, 164.29356384277344, 223.7921905517578, 96.35770416259766, 87.41483306884766, 69.42766571044922, 91.06535339355469, 104.0256576538086, 104.34368133544922, 72.01524353027344, 66.45368194580078, 584.3289794921875, 176.82705688476562, 136.1886749267578, 123.72693634033203, 114.3366470336914, 109.67866516113281, 109.14647674560547, 102.57575225830078, 91.49958038330078, 72.18228149414062, 70.4651107788086, 69.3179931640625, 68.84434509277344, 67.36917877197266, 65.7459945678711, 64.73239135742188, 64.34503936767578, 63.87494659423828, 62.57672882080078, 61.736717224121094, 60.355289459228516, 59.980098724365234, 59.82569885253906, 58.90638732910156, 58.586952209472656, 58.00568389892578, 54.359352111816406, 54.332035064697266, 53.83714294433594, 52.99280548095703, 114.13582611083984, 128.96624755859375, 76.47582244873047, 101.88835906982422, 323.4381408691406, 110.66944122314453, 82.53914642333984, 89.75272369384766, 77.9801025390625, 61.360408782958984, 194.9346160888672, 161.07777404785156, 145.60269165039062, 144.53907775878906, 109.76480865478516, 97.09741973876953, 93.84812927246094, 90.14104461669922, 88.72405242919922, 86.57720184326172, 83.83451080322266, 81.8617935180664, 79.42124938964844, 74.61692810058594, 73.36093139648438, 69.68681335449219, 69.20601654052734, 59.96638870239258, 55.363407135009766, 54.13119125366211, 52.117027282714844, 51.96944046020508, 51.703826904296875, 47.4954948425293, 46.52338409423828, 46.35812759399414, 46.004241943359375, 44.91819763183594, 44.63035202026367, 43.14085388183594, 153.75698852539062, 108.57962799072266, 245.53160095214844, 82.98733520507812, 91.73469543457031, 114.86805725097656, 118.18988800048828, 139.44515991210938, 60.53667449951172, 87.30708312988281, 163.610595703125, 159.68893432617188, 72.14028930664062, 63.936439514160156, 228.9774169921875, 188.84295654296875, 113.826416015625, 113.72293090820312, 107.81817626953125, 101.49956512451172, 96.71797180175781, 85.06161499023438, 77.49942779541016, 71.13915252685547, 69.99931335449219, 67.87123107910156, 65.5741958618164, 63.88740539550781, 63.85348892211914, 58.04477310180664, 56.591251373291016, 51.70492172241211, 49.681846618652344, 48.10026168823242, 47.8245735168457, 45.84823226928711, 44.42377853393555, 44.07737350463867, 43.65095901489258, 43.39698028564453, 42.04212188720703, 41.752845764160156, 40.762367248535156, 39.929447174072266, 111.98314666748047, 159.63465881347656, 118.58879089355469, 143.6868896484375, 181.47134399414062, 113.80374145507812, 614.6383666992188, 69.67971801757812, 92.74467468261719, 68.15948486328125, 65.47675323486328, 91.81861114501953, 76.943359375, 64.96353912353516, 183.28604125976562, 161.39395141601562, 132.89263916015625, 115.1256332397461, 111.89598846435547, 110.2616958618164, 107.36102294921875, 90.1868667602539, 77.05747985839844, 76.62568664550781, 74.15355682373047, 72.09252166748047, 71.67452239990234, 68.36515045166016, 67.25924682617188, 67.1382064819336, 66.86489868164062, 64.98845672607422, 58.403106689453125, 57.55302429199219, 56.9245491027832, 56.31346893310547, 53.970237731933594, 53.038917541503906, 52.56777572631836, 52.37482452392578, 51.919464111328125, 50.659854888916016, 47.51112365722656, 46.64056396484375, 73.52220153808594, 113.35295104980469, 118.7993392944336, 92.6943588256836, 88.27413177490234, 147.69052124023438, 78.1494140625, 62.222782135009766], \"Term\": [\"2019\", \"window\", \"e3\", \"google\", \"xbox\", \"10\", \"game\", \"usa\", \"market\", \"microsoft\", \"data\", \"azure\", \"get\", \"one\", \"pc\", \"tech\", \"update\", \"news\", \"2\", \"msft\", \"top\", \"technology\", \"may\", \"developer\", \"business\", \"security\", \"huawei\", \"software\", \"co\", \"assistant\", \"e3\", \"video\", \"5\", \"conference\", \"show\", \"gear\", \"date\", \"scarlett\", \"halo\", \"announced\", \"learn\", \"star\", \"download\", \"full\", \"demo\", \"order\", \"revealed\", \"gold\", \"daily\", \"leak\", \"selling\", \"local\", \"infinite\", \"making\", \"ps4\", \"prediction\", \"copy\", \"gamesradar\", \"story\", \"light\", \"watch\", \"2\", \"2019\", \"may\", \"release\", \"game\", \"xbox\", \"4\", \"week\", \"time\", \"new\", \"word\", \"news\", \"one\", \"microsoft\", \"best\", \"live\", \"market\", \"top\", \"global\", \"open\", \"million\", \"key\", \"player\", \"ibm\", \"bitcoin\", \"oracle\", \"analysis\", \"outlook\", \"growth\", \"v\", \"reality\", \"application\", \"post\", \"samsung\", \"machine\", \"playstation\", \"2025\", \"learning\", \"sap\", \"amd\", \"source\", \"forecast\", \"cyberpunk\", \"center\", \"2077\", \"identity\", \"technology\", \"report\", \"cloud\", \"dynamic\", \"microsoft\", \"network\", \"2019\", \"software\", \"service\", \"usa\", \"azure\", \"developer\", \"edge\", \"platform\", \"help\", \"real\", \"studio\", \"specialist\", \"representative\", \"part\", \"tea\", \"press\", \"net\", \"stack\", \"64\", \"move\", \"plan\", \"administrative\", \"bitnami\", \"long\", \"legal\", \"detail\", \"design\", \"con\", \"el\", \"beach\", \"coordinator\", \"leader\", \"browser\", \"tool\", \"join\", \"news\", \"blockchain\", \"partner\", \"go\", \"digital\", \"make\", \"microsofts\", \"team\", \"microsoft\", \"world\", \"service\", \"live\", \"new\", \"ai\", \"launch\", \"customer\", \"cloud\", \"get\", \"pc\", \"huawei\", \"minecraft\", \"coming\", \"app\", \"pas\", \"7\", \"store\", \"android\", \"needed\", \"version\", \"play\", \"earth\", \"edition\", \"x\", \"ban\", \"award\", \"streaming\", \"going\", \"100\", \"stop\", \"good\", \"chief\", \"exec\", \"hire\", \"ready\", \"ultimate\", \"finally\", \"switch\", \"feature\", \"one\", \"xbox\", \"game\", \"next\", \"free\", \"look\", \"take\", \"year\", \"new\", \"microsoft\", \"phone\", \"mobile\", \"like\", \"security\", \"analyst\", \"365\", \"linux\", \"desktop\", \"file\", \"expert\", \"error\", \"blog\", \"bluekeep\", \"trend\", \"brand\", \"vulnerability\", \"revenue\", \"another\", \"focus\", \"insider\", \"major\", \"remote\", \"secure\", \"managed\", \"alert\", \"consultant\", \"flaw\", \"red\", \"control\", \"warns\", \"retail\", \"exploit\", \"cost\", \"business\", \"build\", \"data\", \"system\", \"patch\", \"software\", \"fix\", \"analytics\", \"support\", \"office\", \"uk\", \"microsoft\", \"update\", \"window\", \"using\", \"user\", \"industry\", \"service\", \"new\", \"cloud\", \"10\", \"engineer\", \"manager\", \"access\", \"crm\", \"level\", \"state\", \"know\", \"trump\", \"medium\", \"war\", \"china\", \"drive\", \"17\", \"senior\", \"m\", \"graphic\", \"still\", \"partnership\", \"per\", \"washington\", \"opinion\", \"wall\", \"everything\", \"potential\", \"1903\", \"country\", \"xcloud\", \"trade\", \"announcement\", \"window\", \"1\", \"u\", \"update\", \"ca\", \"call\", \"end\", \"project\", \"support\", \"tech\", \"need\", \"job\", \"google\", \"sony\", \"say\", \"stadium\", \"console\", \"health\", \"2020\", \"group\", \"facebook\", \"aws\", \"ceo\", \"apps\", \"un\", \"multilingual\", \"tip\", \"woman\", \"return\", \"come\", \"search\", \"technical\", \"billion\", \"content\", \"iot\", \"financial\", \"double\", \"skill\", \"w\", \"right\", \"university\", \"worldwide\", \"amazon\", \"apple\", \"could\", \"gaming\", \"microsoft\", \"launch\", \"stock\", \"cloud\", \"u\", \"percent\", \"assistant\", \"excel\", \"pro\", \"deal\", \"professional\", \"6\", \"administrator\", \"stake\", \"entry\", \"hp\", \"rose\", \"care\", \"power\", \"15\", \"computing\", \"guide\", \"bit\", \"community\", \"firm\", \"architect\", \"review\", \"certification\", \"70\", \"weekend\", \"start\", \"australia\", \"benefit\", \"20\", \"value\", \"cut\", \"june\", \"big\", \"tech\", \"buy\", \"intel\", \"day\", \"office\", \"data\", \"giant\", \"best\", \"2019\", \"microsoft\", \"sale\", \"3\", \"msft\", \"co\", \"life\", \"director\", \"holding\", \"position\", \"month\", \"fox40\", \"book\", \"investment\", \"c\", \"capital\", \"case\", \"controller\", \"reveals\", \"interview\", \"screen\", \"program\", \"bug\", \"nbo\", \"series\", \"sold\", \"bill\", \"llc\", \"trust\", \"lead\", \"tx\", \"modern\", \"national\", \"corporation\", \"inc\", \"management\", \"share\", \"ai\", \"job\", \"company\", \"microsoft\", \"issue\", \"team\", \"database\", \"price\", \"new\", \"news\", \"stock\", \"de\", \"trailer\", \"work\", \"la\", \"create\", \"driver\", \"sql\", \"city\", \"school\", \"computer\", \"2016\", \"people\", \"way\", \"executive\", \"trial\", \"en\", \"high\", \"training\", \"meet\", \"house\", \"account\", \"intelligence\", \"exchange\", \"step\", \"money\", \"podcast\", \"advanced\", \"personal\", \"party\", \"student\", \"two\", \"online\", \"use\", \"want\", \"first\", \"new\", \"server\", \"2\"], \"Total\": [1344.0, 896.0, 712.0, 585.0, 930.0, 574.0, 836.0, 517.0, 488.0, 2824.0, 484.0, 338.0, 301.0, 386.0, 285.0, 350.0, 363.0, 472.0, 360.0, 229.0, 257.0, 323.0, 330.0, 238.0, 266.0, 217.0, 229.0, 279.0, 189.0, 195.0, 712.8582153320312, 211.59632873535156, 192.44854736328125, 157.48680114746094, 121.51228332519531, 112.08704376220703, 100.47183227539062, 91.87045288085938, 88.57583618164062, 88.15635681152344, 85.7479248046875, 81.47032928466797, 79.2314453125, 75.69206237792969, 68.9964599609375, 67.5206298828125, 65.71272277832031, 63.98726272583008, 59.29751205444336, 57.726932525634766, 55.95679473876953, 55.93750762939453, 55.81993103027344, 55.40798568725586, 51.92869567871094, 51.490081787109375, 50.796722412109375, 49.711997985839844, 48.42038345336914, 44.179100036621094, 126.30137634277344, 360.01593017578125, 1344.8016357421875, 330.5596923828125, 251.48751831054688, 836.2174072265625, 930.7871704101562, 107.8708724975586, 124.53562927246094, 215.98275756835938, 999.47265625, 109.86563873291016, 472.0587463378906, 386.02838134765625, 2824.54345703125, 187.80422973632812, 217.3927459716797, 488.979736328125, 257.23309326171875, 185.1962432861328, 178.79405212402344, 167.31690979003906, 166.9358673095703, 158.91783142089844, 145.57130432128906, 144.32937622070312, 141.12164306640625, 131.94093322753906, 123.0468521118164, 116.96334838867188, 99.92340850830078, 98.51072692871094, 97.86837005615234, 87.89083862304688, 86.57955932617188, 80.04624938964844, 79.50122833251953, 77.84935760498047, 77.03759002685547, 72.05632019042969, 69.32752990722656, 69.25426483154297, 67.44208526611328, 65.9129867553711, 65.87744140625, 64.3626937866211, 62.03642272949219, 323.7167053222656, 153.9998016357422, 430.1794738769531, 104.76641845703125, 2824.54345703125, 132.3485107421875, 1344.8016357421875, 279.63226318359375, 390.9373474121094, 517.370361328125, 338.833740234375, 238.33184814453125, 144.5300750732422, 119.7318344116211, 106.66753387451172, 99.81188201904297, 99.60475158691406, 85.76258087158203, 78.35767364501953, 76.88694763183594, 72.8221664428711, 65.191162109375, 64.26454162597656, 63.7181510925293, 61.56045913696289, 60.9405632019043, 59.68342590332031, 57.94261169433594, 56.687156677246094, 49.746803283691406, 49.05377197265625, 47.88341522216797, 47.039093017578125, 45.93456268310547, 44.16950988769531, 44.046730041503906, 42.78691101074219, 40.248146057128906, 39.748687744140625, 84.8139877319336, 76.73490905761719, 472.0587463378906, 102.28807830810547, 159.85861206054688, 108.42758178710938, 188.51480102539062, 189.4372100830078, 137.8992156982422, 199.7177276611328, 2824.54345703125, 184.8726348876953, 390.9373474121094, 217.3927459716797, 999.47265625, 225.90565490722656, 249.21498107910156, 127.01395416259766, 430.1794738769531, 301.1376647949219, 285.79815673828125, 229.89968872070312, 163.36349487304688, 155.78558349609375, 153.55477905273438, 143.49127197265625, 134.9422149658203, 130.81919860839844, 120.80636596679688, 113.59813690185547, 87.70842742919922, 80.7354507446289, 77.91230773925781, 77.34613037109375, 75.08755493164062, 69.99966430664062, 68.368408203125, 67.15225219726562, 67.10252380371094, 57.06790542602539, 55.67515182495117, 52.12032699584961, 51.196475982666016, 51.176368713378906, 49.67184066772461, 49.54366683959961, 46.9828987121582, 43.282989501953125, 43.20976638793945, 104.19029235839844, 386.02838134765625, 930.7871704101562, 836.2174072265625, 183.496826171875, 162.6888885498047, 67.93161010742188, 86.3669662475586, 183.04876708984375, 999.47265625, 2824.54345703125, 126.20592498779297, 117.240966796875, 102.57472229003906, 217.4912872314453, 161.53244018554688, 120.21757507324219, 118.4402847290039, 99.0340805053711, 93.23623657226562, 73.70368194580078, 71.49512481689453, 66.83306884765625, 66.69975280761719, 60.02946853637695, 56.83543014526367, 55.64320755004883, 53.984619140625, 52.23349380493164, 51.47321319580078, 48.523704528808594, 48.1734504699707, 46.25350570678711, 44.475711822509766, 44.021484375, 43.86853790283203, 41.284767150878906, 38.8240966796875, 38.41809844970703, 37.25493240356445, 37.15472412109375, 35.834129333496094, 31.992534637451172, 31.677339553833008, 266.3857727050781, 154.280029296875, 484.287841796875, 249.09100341796875, 85.5015869140625, 279.63226318359375, 196.97113037109375, 76.81208038330078, 262.9078369140625, 254.91302490234375, 85.59778594970703, 2824.54345703125, 363.7943420410156, 896.6885986328125, 154.66835021972656, 112.45164489746094, 79.73712158203125, 390.9373474121094, 999.47265625, 430.1794738769531, 574.4314575195312, 167.6048583984375, 152.7021484375, 126.2042465209961, 94.94853973388672, 92.9783935546875, 91.88134765625, 88.56937408447266, 83.17616271972656, 82.83495330810547, 81.36132049560547, 76.269287109375, 73.0557632446289, 72.81851196289062, 70.14493560791016, 65.38685607910156, 65.15644836425781, 58.01913070678711, 57.04524230957031, 56.75251007080078, 56.34785461425781, 49.87704849243164, 49.779930114746094, 49.36839294433594, 47.898460388183594, 47.86601257324219, 46.88182067871094, 46.54993438720703, 44.057090759277344, 42.712276458740234, 896.6885986328125, 167.26524353027344, 243.10293579101562, 363.7943420410156, 122.69668579101562, 125.32630157470703, 91.9028549194336, 168.6084747314453, 262.9078369140625, 350.71490478515625, 128.00772094726562, 342.6153564453125, 585.2573852539062, 177.7554473876953, 137.1170654296875, 124.6552963256836, 115.26506042480469, 110.60706329345703, 110.07491302490234, 103.50421142578125, 92.42794799804688, 73.11067962646484, 71.39349365234375, 70.24641418457031, 69.77275085449219, 68.29756927490234, 66.67453002929688, 65.66075134277344, 65.27345275878906, 64.80338287353516, 63.5051155090332, 62.66520309448242, 61.28368377685547, 60.90849685668945, 60.75408935546875, 59.834903717041016, 59.515380859375, 58.934112548828125, 55.2878532409668, 55.26043701171875, 54.7656135559082, 53.921409606933594, 172.67933654785156, 209.0189971923828, 95.0984878540039, 162.51992797851562, 2824.54345703125, 249.21498107910156, 185.76588439941406, 430.1794738769531, 243.10293579101562, 95.19200134277344, 195.87335205078125, 162.01651000976562, 146.54141235351562, 145.4778289794922, 110.70350646972656, 98.03612518310547, 94.78684997558594, 91.07986450195312, 89.6627426147461, 87.51599884033203, 84.77336120605469, 82.80064392089844, 80.3600082397461, 75.55567932128906, 74.29972076416016, 70.62555694580078, 70.14473724365234, 60.90512466430664, 56.30214309692383, 55.06993865966797, 53.05573654174805, 52.90815353393555, 52.642574310302734, 48.43418884277344, 47.462135314941406, 47.296905517578125, 46.94298553466797, 45.85693359375, 45.569122314453125, 44.07960891723633, 176.05633544921875, 128.24388122558594, 350.71490478515625, 98.42813873291016, 126.42424011230469, 194.474853515625, 254.91302490234375, 484.287841796875, 76.59577941894531, 187.80422973632812, 1344.8016357421875, 2824.54345703125, 149.3468475341797, 132.0496826171875, 229.90721130371094, 189.7727508544922, 114.75634765625, 114.6527328491211, 108.74797821044922, 102.42936706542969, 97.64783477783203, 85.99141693115234, 78.42927551269531, 72.06895446777344, 70.92919158935547, 68.80103302001953, 66.5040283203125, 64.8172836303711, 64.78337097167969, 58.974632263183594, 57.521095275878906, 52.63474655151367, 50.61174392700195, 49.030059814453125, 48.754425048828125, 46.77833557128906, 45.353580474853516, 45.00716781616211, 44.580780029296875, 44.32683563232422, 42.97198486328125, 42.68269729614258, 41.692195892333984, 40.85935592651367, 124.79521179199219, 200.33470153808594, 160.9154052734375, 225.90565490722656, 342.6153564453125, 197.84132385253906, 2824.54345703125, 95.92477416992188, 199.7177276611328, 121.80797576904297, 139.5013427734375, 999.47265625, 472.0587463378906, 185.76588439941406, 184.21775817871094, 162.32577514648438, 133.82437133789062, 116.05735778808594, 112.82772064208984, 111.19354248046875, 108.29277038574219, 91.11859130859375, 77.98917388916016, 77.55743408203125, 75.08535766601562, 73.02426147460938, 72.60626220703125, 69.29691314697266, 68.19095611572266, 68.07022094726562, 67.79666900634766, 65.92019653320312, 59.33502197265625, 58.48473358154297, 57.85626983642578, 57.24523162841797, 54.90198516845703, 53.970664978027344, 53.499542236328125, 53.30656433105469, 52.8511962890625, 51.59160614013672, 48.44287872314453, 47.57228088378906, 84.94324493408203, 159.63031005859375, 172.1541748046875, 133.21714782714844, 175.15805053710938, 999.47265625, 171.6595458984375, 360.01593017578125], \"loglift\": [30.0, 29.0, 28.0, 27.0, 26.0, 25.0, 24.0, 23.0, 22.0, 21.0, 20.0, 19.0, 18.0, 17.0, 16.0, 15.0, 14.0, 13.0, 12.0, 11.0, 10.0, 9.0, 8.0, 7.0, 6.0, 5.0, 4.0, 3.0, 2.0, 1.0, 2.046099901199341, 2.0429999828338623, 2.0425000190734863, 2.0415000915527344, 2.0397000312805176, 2.039099931716919, 2.038100004196167, 2.0371999740600586, 2.036799907684326, 2.036799907684326, 2.0364999771118164, 2.035900115966797, 2.035599946975708, 2.0350000858306885, 2.033799886703491, 2.0334999561309814, 2.0332000255584717, 2.0327999591827393, 2.031599998474121, 2.0311999320983887, 2.0306999683380127, 2.0306999683380127, 2.030600070953369, 2.0304999351501465, 2.029400110244751, 2.0292000770568848, 2.028899908065796, 2.0285000801086426, 2.0280001163482666, 2.02620005607605, 1.9824999570846558, 1.8549000024795532, 1.7222000360488892, 1.8561999797821045, 1.80649995803833, 1.405500054359436, 1.25, 1.8251999616622925, 1.7594000101089478, 1.4036999940872192, 0.49970000982284546, 1.641700029373169, 0.6162999868392944, 0.6442000269889832, -1.124400019645691, 1.1543999910354614, 0.9811000227928162, 2.1493000984191895, 2.147599935531616, 2.1461000442504883, 2.1459999084472656, 2.1456000804901123, 2.1456000804901123, 2.1452999114990234, 2.1447999477386475, 2.144700050354004, 2.1445999145507812, 2.1440999507904053, 2.1435999870300293, 2.143199920654297, 2.1417999267578125, 2.141700029373169, 2.1415998935699463, 2.140500068664551, 2.140399932861328, 2.1394999027252197, 2.139400005340576, 2.13919997215271, 2.1389999389648438, 2.138200044631958, 2.137700080871582, 2.137700080871582, 2.1373000144958496, 2.13700008392334, 2.13700008392334, 2.1366000175476074, 2.1361000537872314, 1.9526000022888184, 1.9639999866485596, 1.4419000148773193, 1.9319000244140625, 0.20000000298023224, 1.7409000396728516, 0.28929999470710754, 1.0621999502182007, 0.7240999937057495, 2.1984000205993652, 2.197499990463257, 2.1963000297546387, 2.193700075149536, 2.1923999786376953, 2.1914000511169434, 2.1907999515533447, 2.1907999515533447, 2.189199924468994, 2.188199996948242, 2.1879000663757324, 2.1872000694274902, 2.185699939727783, 2.185499906539917, 2.1854000091552734, 2.184799909591675, 2.1847000122070312, 2.1844000816345215, 2.1839001178741455, 2.183500051498413, 2.1810998916625977, 2.1809000968933105, 2.1803998947143555, 2.180000066757202, 2.179500102996826, 2.1786999702453613, 2.1786000728607178, 2.177999973297119, 2.1765999794006348, 2.176300048828125, 2.1410000324249268, 2.0557000637054443, 1.68340003490448, 1.9502999782562256, 1.767300009727478, 1.8809000253677368, 1.663699984550476, 1.6121000051498413, 1.7340999841690063, 1.5680999755859375, 0.35989999771118164, 1.5979000329971313, 1.1588000059127808, 1.364300012588501, 0.2759000062942505, 1.1792999505996704, 1.0916999578475952, 1.5978000164031982, 0.3653999865055084, 2.2063000202178955, 2.2060999870300293, 2.2053000926971436, 2.203700065612793, 2.203399896621704, 2.2032999992370605, 2.202899932861328, 2.202500104904175, 2.2023000717163086, 2.20169997215271, 2.201200008392334, 2.198699951171875, 2.1977999210357666, 2.1974000930786133, 2.1972999572753906, 2.196899890899658, 2.196000099182129, 2.19569993019104, 2.195499897003174, 2.195499897003174, 2.193000078201294, 2.1926000118255615, 2.1914000511169434, 2.1910998821258545, 2.1910998821258545, 2.190500020980835, 2.190500020980835, 2.1893999576568604, 2.187700033187866, 2.187700033187866, 2.0954999923706055, 1.924399971961975, 1.6089999675750732, 1.4601000547409058, 1.8356000185012817, 1.858299970626831, 2.091900110244751, 1.9780000448226929, 1.6432000398635864, 0.775600016117096, -0.07249999791383743, 1.7252999544143677, 1.7617000341415405, 1.7999999523162842, 2.35509991645813, 2.353600025177002, 2.351599931716919, 2.3513998985290527, 2.349900007247925, 2.349299907684326, 2.34660005569458, 2.3461999893188477, 2.3452999591827393, 2.3452000617980957, 2.343600034713745, 2.3427000045776367, 2.342400074005127, 2.341900110244751, 2.3413000106811523, 2.3410000801086426, 2.339900016784668, 2.3396999835968018, 2.338900089263916, 2.338099956512451, 2.337899923324585, 2.3378000259399414, 2.336400032043457, 2.33489990234375, 2.334700107574463, 2.333899974822998, 2.3338000774383545, 2.332900047302246, 2.3296000957489014, 2.3292999267578125, 2.1865999698638916, 2.168299913406372, 2.017400026321411, 2.0678000450134277, 2.2139999866485596, 1.944599986076355, 2.0064001083374023, 2.1975998878479004, 1.8504999876022339, 1.730299949645996, 2.0857999324798584, 0.536899983882904, 1.3984999656677246, 0.8535000085830688, 1.7254999876022339, 1.892699956893921, 2.0662999153137207, 0.8414999842643738, -0.22579999268054962, 0.3806000053882599, 2.369800090789795, 2.365799903869629, 2.3652000427246094, 2.3638999462127686, 2.3615000247955322, 2.361299991607666, 2.3610999584198, 2.36080002784729, 2.360100030899048, 2.359999895095825, 2.359800100326538, 2.3589999675750732, 2.3585000038146973, 2.3584001064300537, 2.3580000400543213, 2.3570001125335693, 2.3568999767303467, 2.35509991645813, 2.35479998588562, 2.3547000885009766, 2.354599952697754, 2.352400064468384, 2.352400064468384, 2.3522000312805176, 2.351599931716919, 2.351599931716919, 2.3512001037597656, 2.351099967956543, 2.349900007247925, 2.3492000102996826, 2.1194000244140625, 2.0829999446868896, 1.979599952697754, 1.8854999542236328, 2.1298000812530518, 2.011199951171875, 2.0910000801086426, 1.7553999423980713, 1.444200038909912, 1.15910005569458, 1.7962000370025635, 0.7312999963760376, 2.3798999786376953, 2.376199960708618, 2.3747000694274902, 2.374000072479248, 2.3733999729156494, 2.372999906539917, 2.372999906539917, 2.3724000453948975, 2.3714001178741455, 2.3687000274658203, 2.3684000968933105, 2.3682000637054443, 2.3680999279022217, 2.367799997329712, 2.3673999309539795, 2.3671998977661133, 2.3671000003814697, 2.367000102996826, 2.3666999340057373, 2.366499900817871, 2.3661999702453613, 2.3661000728607178, 2.3661000728607178, 2.365799903869629, 2.3657000064849854, 2.365600109100342, 2.364500045776367, 2.364500045776367, 2.3643999099731445, 2.3640999794006348, 1.9673999547958374, 1.8985999822616577, 2.1635000705718994, 1.9144999980926514, 0.21439999341964722, 1.569700002670288, 1.570199966430664, 0.814300000667572, 1.2444000244140625, 1.9422999620437622, 2.3910999298095703, 2.3901000022888184, 2.3894999027252197, 2.389400005340576, 2.387399911880493, 2.3863000869750977, 2.3859000205993652, 2.385499954223633, 2.3854000568389893, 2.3850998878479004, 2.384700059890747, 2.384500026702881, 2.3840999603271484, 2.3833999633789062, 2.38319993019104, 2.382499933242798, 2.3824000358581543, 2.3803999423980713, 2.3791000843048096, 2.378700017929077, 2.378000020980835, 2.378000020980835, 2.3778998851776123, 2.376300096511841, 2.3759000301361084, 2.3757998943328857, 2.375699996948242, 2.375200033187866, 2.3750998973846436, 2.3743999004364014, 2.260499954223633, 2.2293999195098877, 2.039299964904785, 2.2251999378204346, 2.0750999450683594, 1.8694000244140625, 1.6273000240325928, 1.1509000062942505, 2.160599946975708, 1.6298999786376953, 0.28940001130104065, -0.47699999809265137, 1.6682000160217285, 1.6706000566482544, 2.479099988937378, 2.478300094604492, 2.475100040435791, 2.475100040435791, 2.474600076675415, 2.474100112915039, 2.473599910736084, 2.4723000526428223, 2.471299886703491, 2.4702000617980957, 2.4700000286102295, 2.469599962234497, 2.469099998474121, 2.4686999320983887, 2.4686999320983887, 2.4672999382019043, 2.466900110244751, 2.465399980545044, 2.464600086212158, 2.4639999866485596, 2.463900089263916, 2.463099956512451, 2.4625000953674316, 2.4623000621795654, 2.462100028991699, 2.4619998931884766, 2.4612998962402344, 2.461199998855591, 2.460599899291992, 2.460200071334839, 2.3749001026153564, 2.2560999393463135, 2.177999973297119, 2.0306999683380127, 1.8476999998092651, 1.9301999807357788, 0.9581000208854675, 2.1635000705718994, 1.7160999774932861, 1.9026000499725342, 1.7267999649047852, 0.0957999974489212, 0.6692000031471252, 1.4325000047683716, 2.530400037765503, 2.5297000408172607, 2.5285000801086426, 2.527400016784668, 2.5271999835968018, 2.5269999504089355, 2.5267999172210693, 2.5251998901367188, 2.523400068283081, 2.523400068283081, 2.5230000019073486, 2.522599935531616, 2.5225000381469727, 2.521899938583374, 2.521699905395508, 2.521699905395508, 2.5216000080108643, 2.521199941635132, 2.5195999145507812, 2.519399881362915, 2.519200086593628, 2.5190000534057617, 2.5183000564575195, 2.5179998874664307, 2.517899990081787, 2.5178000926971436, 2.517699956893921, 2.517199993133545, 2.5160000324249268, 2.515700101852417, 2.3910999298095703, 2.1930999755859375, 2.1644999980926514, 2.172800064086914, 1.8502000570297241, 0.6233000159263611, 1.7486000061035156, 0.7799999713897705], \"logprob\": [30.0, 29.0, 28.0, 27.0, 26.0, 25.0, 24.0, 23.0, 22.0, 21.0, 20.0, 19.0, 18.0, 17.0, 16.0, 15.0, 14.0, 13.0, 12.0, 11.0, 10.0, 9.0, 8.0, 7.0, 6.0, 5.0, 4.0, 3.0, 2.0, 1.0, -2.5624001026153564, -3.780100107192993, -3.8754000663757324, -4.076900005340576, -4.3379998207092285, -4.419400215148926, -4.529699802398682, -4.620100021362305, -4.6570000648498535, -4.661799907684326, -4.689799785614014, -4.741600036621094, -4.769800186157227, -4.815999984741211, -4.909800052642822, -4.931700229644775, -4.9593000411987305, -4.986299991607666, -5.063499927520752, -5.090799808502197, -5.122499942779541, -5.122799873352051, -5.125, -5.132500171661377, -5.198500156402588, -5.207099914550781, -5.220900058746338, -5.2428998947143555, -5.269800186157227, -5.36329984664917, -4.356500148773193, -3.4367001056671143, -2.251499891281128, -3.520699977874756, -3.8438000679016113, -3.043299913406372, -3.0917000770568848, -4.671599864959717, -4.593699932098389, -4.398799896240234, -3.7708001136779785, -4.8368000984191895, -4.404300212860107, -4.577600002288818, -4.355999946594238, -4.787899971008301, -4.814899921417236, -2.8361001014709473, -3.4802000522613525, -3.8101999759674072, -3.8454999923706055, -3.9121999740600586, -3.9144999980926514, -3.9639999866485596, -4.052299976348877, -4.0609002113342285, -4.083499908447266, -4.151299953460693, -4.22160005569458, -4.27269983291626, -4.43149995803833, -4.445899963378906, -4.452499866485596, -4.561100006103516, -4.576300144195557, -4.655600070953369, -4.662499904632568, -4.683800220489502, -4.694399833679199, -4.7621002197265625, -4.801199913024902, -4.802299976348877, -4.82919979095459, -4.852399826049805, -4.853000164031982, -4.8765997886657715, -4.913899898529053, -3.4453001022338867, -4.176700115203857, -3.671600103378296, -4.594099998474121, -3.031599998474121, -4.551400184631348, -3.6844000816345215, -4.48199987411499, -4.485000133514404, -2.7304999828338623, -3.1547000408172607, -3.5078001022338867, -4.010499954223633, -4.200099945068359, -4.3165998458862305, -4.383699893951416, -4.385799884796143, -4.536900043487549, -4.628300189971924, -4.647500038146973, -4.702499866485596, -4.814700126647949, -4.82919979095459, -4.837900161743164, -4.872900009155273, -4.8831000328063965, -4.904300212860107, -4.9344000816345215, -4.956699848175049, -5.089600086212158, -5.103899955749512, -5.128600120544434, -5.146699905395508, -5.171000003814697, -5.210999965667725, -5.213799953460693, -5.243500232696533, -5.306099891662598, -5.318900108337402, -4.596199989318848, -4.781700134277344, -3.3371999263763428, -4.599599838256836, -4.33620023727417, -4.6107001304626465, -4.274799823760986, -4.321599960327148, -4.517099857330322, -4.312699794769287, -2.8717000484466553, -4.360199928283691, -4.0503997802734375, -4.431700229644775, -3.9946000576019287, -4.5782999992370605, -4.567699909210205, -4.735599994659424, -4.7480998039245605, -3.2639000415802, -3.3162999153137207, -3.5346999168395996, -3.8780999183654785, -3.925800085067749, -3.9402999877929688, -4.008600234985352, -4.070400238037109, -4.101600170135498, -4.1819000244140625, -4.243899822235107, -4.505000114440918, -4.588699817657471, -4.62470006942749, -4.6321001052856445, -4.662099838256836, -4.7332000732421875, -4.7571001052856445, -4.775300025939941, -4.776000022888184, -4.940499782562256, -4.96560001373291, -5.032700061798096, -5.051000118255615, -5.051400184631348, -5.0817999839782715, -5.084400177001953, -5.138500213623047, -5.2221999168396, -5.223999977111816, -4.435999870300293, -3.2973999977111816, -2.7327001094818115, -2.9886999130249023, -4.130000114440918, -4.22760009765625, -4.867400169372559, -4.741099834442139, -4.32480001449585, -3.4948999881744385, -3.3041000366210938, -4.614500045776367, -4.651800155639648, -4.747200012207031, -3.440500020980835, -3.7393999099731445, -4.036900043487549, -4.0518999099731445, -4.232399940490723, -4.293300151824951, -4.531099796295166, -4.5619001388549805, -4.630300045013428, -4.632299900054932, -4.739200115203857, -4.7947998046875, -4.816400051116943, -4.8471999168396, -4.88070011138916, -4.895699977874756, -4.9558000564575195, -4.963200092315674, -5.004700183868408, -5.0447001457214355, -5.055200099945068, -5.058700084686279, -5.120800018310547, -5.183700084686279, -5.194499969482422, -5.22599983215332, -5.228799819946289, -5.265999794006348, -5.382599830627441, -5.3927998542785645, -3.406100034713745, -3.9707000255584717, -2.9776999950408936, -3.592099905014038, -4.515200138092041, -3.5996999740600586, -3.8882999420166016, -4.638800144195557, -3.755500078201294, -3.9065001010894775, -4.642199993133545, -2.694700002670288, -3.882699966430664, -3.5255000591278076, -4.410900115966797, -4.5625, -4.732600212097168, -4.367700099945068, -4.496300220489502, -4.732900142669678, -2.4546000957489014, -3.6902999877929688, -3.7839999198913574, -3.9758999347686768, -4.262899875640869, -4.28410005569458, -4.29610013961792, -4.333199977874756, -4.396699905395508, -4.4008002281188965, -4.419000148773193, -4.484399795532227, -4.5279998779296875, -4.531300067901611, -4.569200038909912, -4.640399932861328, -4.644000053405762, -4.7617998123168945, -4.7789998054504395, -4.784299850463867, -4.791600227355957, -4.9156999588012695, -4.917699813842773, -4.926199913024902, -4.956999778747559, -4.957699775695801, -4.978899955749512, -4.986100196838379, -5.042300224304199, -5.073999881744385, -2.2595999240875244, -3.975100040435791, -3.704699993133545, -3.3956000804901123, -4.2382001876831055, -4.335599899291992, -4.565999984741211, -4.2947001457214355, -4.1616997718811035, -4.158599853515625, -4.529399871826172, -4.609799861907959, -2.425800085067749, -3.6210999488830566, -3.882200002670288, -3.9781999588012695, -4.05709981918335, -4.098700046539307, -4.103600025177002, -4.1656999588012695, -4.279900074005127, -4.517099857330322, -4.541100025177002, -4.557600021362305, -4.5644001960754395, -4.586100101470947, -4.610499858856201, -4.625999927520752, -4.631999969482422, -4.6392998695373535, -4.659900188446045, -4.673399925231934, -4.696000099182129, -4.702300071716309, -4.704800128936768, -4.720300197601318, -4.725800037384033, -4.7357001304626465, -4.800600051879883, -4.801199913024902, -4.810299873352051, -4.826099872589111, -4.058899879455566, -3.9367001056671143, -4.4593000411987305, -4.172399997711182, -3.0172998905181885, -4.089700222015381, -4.382999897003174, -4.299200057983398, -4.439799785614014, -4.679500102996826, -3.509200096130371, -3.700000047683716, -3.8010001182556152, -3.808300018310547, -4.083499908447266, -4.206099987030029, -4.240200042724609, -4.2804999351501465, -4.296299934387207, -4.320799827575684, -4.353000164031982, -4.376800060272217, -4.407100200653076, -4.4695000648498535, -4.486400127410889, -4.537799835205078, -4.5447001457214355, -4.6880998611450195, -4.767899990081787, -4.79040002822876, -4.8282999992370605, -4.831200122833252, -4.836299896240234, -4.921199798583984, -4.94189977645874, -4.945400238037109, -4.953100204467773, -4.9770002365112305, -4.983399868011475, -5.017399787902832, -3.746500015258789, -4.094399929046631, -3.27839994430542, -4.363100051879883, -4.262899875640869, -4.038099765777588, -4.009500026702881, -3.8441998958587646, -4.678599834442139, -4.312399864196777, -3.684299945831299, -3.7086000442504883, -4.503200054168701, -4.623899936676025, -3.2609000205993652, -3.4535999298095703, -3.95989990234375, -3.9607999324798584, -4.014100074768066, -4.07450008392334, -4.122700214385986, -4.251200199127197, -4.344299793243408, -4.429900169372559, -4.446000099182129, -4.476900100708008, -4.511300086975098, -4.537399768829346, -4.537899971008301, -4.633299827575684, -4.658699989318848, -4.749000072479248, -4.788899898529053, -4.821199893951416, -4.827000141143799, -4.869200229644775, -4.9008002281188965, -4.908599853515625, -4.918300151824951, -4.924099922180176, -4.955900192260742, -4.962800025939941, -4.986800193786621, -5.007400035858154, -3.9762001037597656, -3.6215999126434326, -3.9189000129699707, -3.726900100708008, -3.4934000968933105, -3.960099935531616, -2.2734999656677246, -4.4506001472473145, -4.164700031280518, -4.472700119018555, -4.512800216674805, -4.174699783325195, -4.351500034332275, -4.520699977874756, -3.4312000274658203, -3.5583999156951904, -3.752700090408325, -3.896199941635132, -3.9247000217437744, -3.9393999576568604, -3.966099977493286, -4.140399932861328, -4.297699928283691, -4.303299903869629, -4.336100101470947, -4.364299774169922, -4.370100021362305, -4.417399883270264, -4.433700084686279, -4.435500144958496, -4.439599990844727, -4.468100070953369, -4.574900150299072, -4.589600086212158, -4.600500106811523, -4.611299991607666, -4.653800010681152, -4.671199798583984, -4.680200099945068, -4.683800220489502, -4.692599773406982, -4.717100143432617, -4.781300067901611, -4.799799919128418, -4.344699859619141, -3.911799907684326, -3.864799976348877, -4.11299991607666, -4.161799907684326, -3.6470999717712402, -4.283599853515625, -4.511499881744385]}, \"token.table\": {\"Topic\": [6, 8, 6, 4, 8, 6, 6, 1, 10, 8, 10, 1, 2, 8, 7, 2, 2, 1, 4, 8, 10, 5, 1, 3, 1, 8, 3, 4, 8, 6, 10, 3, 8, 10, 3, 9, 5, 2, 4, 7, 2, 2, 5, 2, 5, 4, 1, 6, 5, 4, 4, 7, 10, 2, 7, 8, 8, 8, 4, 7, 3, 4, 3, 8, 1, 6, 8, 4, 8, 9, 7, 8, 2, 3, 2, 3, 5, 5, 9, 5, 3, 9, 5, 6, 2, 5, 8, 9, 9, 6, 10, 3, 6, 9, 8, 9, 2, 7, 8, 4, 6, 10, 2, 3, 5, 7, 9, 7, 4, 8, 2, 6, 7, 9, 10, 8, 3, 1, 7, 5, 7, 5, 9, 3, 1, 9, 5, 7, 8, 6, 10, 6, 3, 5, 8, 2, 1, 5, 8, 3, 9, 1, 3, 6, 8, 10, 10, 8, 1, 3, 5, 3, 3, 2, 3, 4, 9, 7, 1, 6, 10, 2, 6, 1, 4, 3, 4, 3, 10, 6, 7, 6, 8, 5, 6, 8, 10, 4, 10, 5, 5, 7, 4, 6, 5, 4, 7, 8, 3, 9, 10, 1, 5, 5, 5, 2, 9, 1, 4, 5, 1, 1, 4, 1, 4, 7, 1, 4, 6, 8, 2, 3, 8, 4, 1, 4, 7, 6, 7, 2, 8, 1, 7, 3, 10, 4, 9, 10, 8, 4, 2, 2, 2, 9, 5, 7, 1, 5, 2, 8, 10, 9, 9, 7, 6, 9, 6, 7, 9, 10, 3, 7, 5, 8, 2, 6, 10, 3, 4, 7, 9, 3, 1, 1, 2, 3, 6, 9, 1, 2, 4, 5, 5, 1, 3, 4, 9, 1, 3, 4, 7, 6, 2, 5, 3, 6, 10, 1, 5, 2, 9, 6, 2, 1, 6, 6, 10, 1, 2, 3, 4, 5, 7, 8, 9, 10, 3, 4, 2, 4, 2, 4, 9, 10, 9, 3, 9, 7, 9, 9, 1, 6, 4, 3, 2, 5, 1, 3, 4, 5, 6, 7, 9, 10, 1, 3, 9, 4, 7, 5, 8, 1, 4, 3, 10, 2, 6, 2, 1, 2, 3, 3, 5, 9, 6, 10, 4, 5, 6, 4, 10, 6, 7, 8, 10, 4, 5, 10, 3, 3, 4, 2, 2, 10, 9, 2, 6, 8, 1, 3, 4, 8, 9, 8, 8, 9, 1, 6, 7, 1, 4, 3, 2, 5, 1, 5, 5, 2, 7, 3, 5, 7, 1, 9, 5, 8, 7, 8, 3, 4, 8, 2, 2, 7, 1, 10, 9, 7, 5, 5, 1, 6, 9, 5, 6, 7, 10, 2, 3, 4, 5, 7, 9, 2, 9, 1, 7, 2, 5, 9, 7, 2, 3, 10, 3, 7, 8, 1, 8, 6, 10, 6, 7, 8, 9, 4, 4, 1, 4, 10, 3, 5, 6, 4, 2, 5, 4, 8, 3, 3, 9, 6, 8, 7, 2, 5, 1, 3, 5, 7, 7, 2, 3, 2, 6, 10, 10, 5, 10, 6, 9, 5, 10, 9, 6, 7, 5, 8, 4, 7, 7, 5, 6, 3, 7, 10, 5, 6, 2, 5, 2, 8, 4, 1, 5, 7, 6, 5, 10, 6, 5, 6, 1, 2, 10, 1, 8, 8, 5, 6, 7, 1, 8, 10, 1, 3, 6, 9, 7, 4, 1, 4, 6, 4, 7, 10], \"Freq\": [0.7473160624504089, 0.24511966109275818, 0.9975080490112305, 0.9812871217727661, 0.9926454424858093, 0.9887595772743225, 0.9819075465202332, 0.8249635100364685, 0.1722145974636078, 0.9813128709793091, 0.9855450391769409, 0.7227831482887268, 0.15541325509548187, 0.12195107340812683, 0.9902347326278687, 0.9890897274017334, 0.9788278937339783, 0.31806209683418274, 0.07572907209396362, 0.4846660792827606, 0.11359360814094543, 0.9898719191551208, 0.7972494959831238, 0.1946772038936615, 0.9976692795753479, 0.9894312024116516, 0.9908958077430725, 0.9930176138877869, 0.9877936244010925, 0.9904579520225525, 0.985200047492981, 0.9837319850921631, 0.9916987419128418, 0.9838944673538208, 0.35855674743652344, 0.6374342441558838, 0.9802013635635376, 0.25480756163597107, 0.08107513189315796, 0.6601831912994385, 0.9808513522148132, 0.9928685426712036, 0.9967038035392761, 0.1432066410779953, 0.8462210297584534, 0.9933251142501831, 0.9868828654289246, 0.983323872089386, 0.9763849973678589, 0.9963870644569397, 0.17701740562915802, 0.6171687841415405, 0.20093867182731628, 0.9911271929740906, 0.9822565317153931, 0.9805712699890137, 0.9955412149429321, 0.9725794792175293, 0.9799847602844238, 0.9848082661628723, 0.9975394010543823, 0.9857190251350403, 0.9762359261512756, 0.9799121022224426, 0.4100014269351959, 0.12246795743703842, 0.4632483422756195, 0.14815521240234375, 0.8499431014060974, 0.9701549410820007, 0.9790534377098083, 0.9836803674697876, 0.9907892942428589, 0.9878780841827393, 0.21507883071899414, 0.7821048498153687, 0.9875350594520569, 0.9895089268684387, 0.981776237487793, 0.9853008985519409, 0.9811644554138184, 0.9879130125045776, 0.8231784701347351, 0.16852472722530365, 0.15391212701797485, 0.8408857583999634, 0.843254804611206, 0.15239544212818146, 0.986899733543396, 0.7824172377586365, 0.21190465986728668, 0.29522931575775146, 0.6941878795623779, 0.9883572459220886, 0.9903304576873779, 0.9924210906028748, 0.9866806864738464, 0.9804815053939819, 0.9828352928161621, 0.9766297340393066, 0.983357846736908, 0.9877237677574158, 0.49281755089759827, 0.16039817035198212, 0.1371520608663559, 0.20921500027179718, 0.9959280490875244, 0.9876027703285217, 0.9949572682380676, 0.9851387739181519, 0.10614567250013351, 0.1668003350496292, 0.14658211171627045, 0.576219379901886, 0.9928126335144043, 0.982507050037384, 0.9796544909477234, 0.996908962726593, 0.9890247583389282, 0.9688803553581238, 0.9850842356681824, 0.966314971446991, 0.98739093542099, 0.9816086292266846, 0.9843154549598694, 0.9789679646492004, 0.9786175489425659, 0.799171507358551, 0.18927745521068573, 0.98119056224823, 0.9926638603210449, 0.9900099635124207, 0.5511205196380615, 0.44876959919929504, 0.9755077362060547, 0.9861485958099365, 0.9781185984611511, 0.7103213667869568, 0.28701940178871155, 0.43511107563972473, 0.5582557320594788, 0.9953038096427917, 0.13883543014526367, 0.08741489797830582, 0.5913360714912415, 0.1799718588590622, 0.9933895468711853, 0.9967154264450073, 0.9855577945709229, 0.9779099822044373, 0.9895583391189575, 0.9815506935119629, 0.9944117665290833, 0.3129727840423584, 0.5835085511207581, 0.0954832211136818, 0.9943068623542786, 0.9913403987884521, 0.9844576120376587, 0.9855485558509827, 0.9892660975456238, 0.8017836213111877, 0.19090086221694946, 0.9987961053848267, 0.9882906079292297, 0.9963324069976807, 0.9825960397720337, 0.9735222458839417, 0.9842776656150818, 0.7507928013801575, 0.23938320577144623, 0.9963911771774292, 0.9926084876060486, 0.9930747151374817, 0.9722819924354553, 0.9937258958816528, 0.9835709929466248, 0.9770134687423706, 0.9812846779823303, 0.9904525279998779, 0.9689760804176331, 0.9845507144927979, 0.8925975561141968, 0.09597823023796082, 0.9867408275604248, 0.97035813331604, 0.986046552658081, 0.9768722057342529, 0.3653842806816101, 0.12560084462165833, 0.5024033784866333, 0.29445940256118774, 0.7006102800369263, 0.9787735939025879, 0.9908066391944885, 0.9934449791908264, 0.988470733165741, 0.20898784697055817, 0.7068706750869751, 0.0799071192741394, 0.9908568859100342, 0.5261789560317993, 0.47236520051956177, 0.9856775403022766, 0.36918550729751587, 0.6276153326034546, 0.990301787853241, 0.9962221384048462, 0.1958332508802414, 0.7963885068893433, 0.9935406446456909, 0.7285969257354736, 0.2674596309661865, 0.9835695624351501, 0.9845709204673767, 0.97850501537323, 0.997851550579071, 0.9822512269020081, 0.9951285719871521, 0.9917636513710022, 0.9911426305770874, 0.9934989213943481, 0.9945115447044373, 0.9937419295310974, 0.9882491230964661, 0.9864743947982788, 0.9931219220161438, 0.9917117953300476, 0.9941039681434631, 0.996086597442627, 0.996075451374054, 0.9832932949066162, 0.09615753591060638, 0.8974703550338745, 0.7399314045906067, 0.23828299343585968, 0.9853111505508423, 0.9892072677612305, 0.26893576979637146, 0.7277085185050964, 0.9782474040985107, 0.9834737181663513, 0.9851676225662231, 0.9875878691673279, 0.2606208920478821, 0.7297384738922119, 0.19263584911823273, 0.11383027583360672, 0.5282891988754272, 0.16052986681461334, 0.860103964805603, 0.11728690564632416, 0.11928000301122665, 0.87472003698349, 0.9943938255310059, 0.9935714602470398, 0.9908893704414368, 0.3290331959724426, 0.22470559179782867, 0.44539859890937805, 0.9700669646263123, 0.9689887166023254, 0.987407386302948, 0.9912776350975037, 0.9865313768386841, 0.978518009185791, 0.9894772171974182, 0.9934090971946716, 0.9733108878135681, 0.19497981667518616, 0.6629313826560974, 0.12673687934875488, 0.9962826371192932, 0.34499770402908325, 0.43239712715148926, 0.2207985371351242, 0.9776220321655273, 0.9832400679588318, 0.9849879145622253, 0.8832412362098694, 0.10304481536149979, 0.9787899851799011, 0.9869294166564941, 0.975641131401062, 0.5542733669281006, 0.27977606654167175, 0.15836381912231445, 0.9745887517929077, 0.9767957925796509, 0.1996658593416214, 0.7986634373664856, 0.9954018592834473, 0.9979963898658752, 0.825872004032135, 0.17243482172489166, 0.9899202585220337, 0.9775002598762512, 0.041776664555072784, 0.14196984469890594, 0.15860970318317413, 0.10196337848901749, 0.16179606318473816, 0.11435476690530777, 0.05664632096886635, 0.21773430705070496, 0.004956553224474192, 0.6308955550193787, 0.3698353171348572, 0.9921292662620544, 0.9916536211967468, 0.34970712661743164, 0.6397081613540649, 0.9840052723884583, 0.990662693977356, 0.9933655858039856, 0.9845659136772156, 0.9960539937019348, 0.9810012578964233, 0.9833974838256836, 0.9789912700653076, 0.4296615719795227, 0.5624660849571228, 0.9947346448898315, 0.9803228974342346, 0.664911150932312, 0.332455575466156, 0.21311238408088684, 0.14607703685760498, 0.23812557756900787, 0.0750395730137825, 0.042022161185741425, 0.04602427035570145, 0.0920485407114029, 0.1480780839920044, 0.2393769919872284, 0.5973832607269287, 0.16311529278755188, 0.6866603493690491, 0.30518239736557007, 0.5335152745246887, 0.4629029929637909, 0.24609589576721191, 0.751240074634552, 0.28190135955810547, 0.7078856229782104, 0.9955588579177856, 0.9824157953262329, 0.9920519590377808, 0.9922893047332764, 0.9914922714233398, 0.9884642362594604, 0.6505749225616455, 0.12511055171489716, 0.22519899904727936, 0.9816769361495972, 0.990857720375061, 0.9965763092041016, 0.8654810190200806, 0.12865258753299713, 0.9972072839736938, 0.9859736561775208, 0.9867404699325562, 0.6408101320266724, 0.3466677963733673, 0.9885329008102417, 0.6180375218391418, 0.18224184215068817, 0.19808895885944366, 0.9885491728782654, 0.993887722492218, 0.990890622138977, 0.994224488735199, 0.9936953186988831, 0.975489616394043, 0.9860453605651855, 0.9898642897605896, 0.9812424182891846, 0.9830760359764099, 0.9904820322990417, 0.9817281365394592, 0.25089365243911743, 0.27239879965782166, 0.4659453332424164, 0.9963054060935974, 0.9936451315879822, 0.9879405498504639, 0.33806130290031433, 0.5397118926048279, 0.11861799657344818, 0.9821159243583679, 0.9890264868736267, 0.991865873336792, 0.9948155283927917, 0.9630877375602722, 0.7873154282569885, 0.21074604988098145, 0.9728991985321045, 0.8311699032783508, 0.16233786940574646, 0.9826734066009521, 0.9767224788665771, 0.980490505695343, 0.9891539812088013, 0.9879078269004822, 0.98176109790802, 0.9801013469696045, 0.9771909713745117, 0.9908773303031921, 0.32809531688690186, 0.18078720569610596, 0.4820992350578308, 0.993306040763855, 0.9853403568267822, 0.9918531775474548, 0.9905251860618591, 0.9873165488243103, 0.9909408092498779, 0.992046058177948, 0.9893040060997009, 0.9977411031723022, 0.9829012155532837, 0.9836775660514832, 0.9845260381698608, 0.08738226443529129, 0.1631135642528534, 0.29127421975135803, 0.4543877840042114, 0.2404477298259735, 0.352997750043869, 0.076738640666008, 0.21998409926891327, 0.07929659634828568, 0.03069545514881611, 0.2610067129135132, 0.7395190000534058, 0.9957841038703918, 0.9841498732566833, 0.3361557722091675, 0.6615831851959229, 0.9833611845970154, 0.9957500696182251, 0.981889009475708, 0.991108238697052, 0.9880622625350952, 0.9887292385101318, 0.9947431087493896, 0.9881437420845032, 0.9942269921302795, 0.990263044834137, 0.9904077649116516, 0.9820149540901184, 0.9824345707893372, 0.4467989504337311, 0.20455855131149292, 0.34990277886390686, 0.987873375415802, 0.9937379360198975, 0.9706655740737915, 0.9828411936759949, 0.9879702925682068, 0.9939284920692444, 0.6009710431098938, 0.3955758810043335, 0.9720025062561035, 0.2489050179719925, 0.7467150688171387, 0.7989165782928467, 0.1968345195055008, 0.9887099266052246, 0.5307490825653076, 0.46565720438957214, 0.2965371608734131, 0.7014244198799133, 0.9893848299980164, 0.8186169862747192, 0.1760798841714859, 0.523189902305603, 0.23612995445728302, 0.06481999158859253, 0.17130997776985168, 0.9898832440376282, 0.04716203361749649, 0.9432406425476074, 0.9952062964439392, 0.9760063290596008, 0.9918326139450073, 0.9860407710075378, 0.9828506112098694, 0.9825350046157837, 0.9858593940734863, 0.9869723916053772, 0.12949822843074799, 0.871169924736023, 0.9773809909820557, 0.6746113300323486, 0.32085174322128296, 0.759365439414978, 0.23365090787410736, 0.9790796637535095, 0.9889247417449951, 0.9860201478004456, 0.3820840120315552, 0.6157324910163879, 0.9973512887954712, 0.3078635632991791, 0.6912408471107483, 0.6313824653625488, 0.36460116505622864, 0.4655121862888336, 0.5301666259765625, 0.9907588362693787, 0.9875108003616333, 0.991922914981842, 0.99718177318573, 0.9884405136108398, 0.9767063856124878, 0.9843324422836304, 0.30026164650917053, 0.6981083154678345, 0.9832682013511658, 0.9689211845397949, 0.9760797619819641, 0.9342732429504395, 0.05542299151420593, 0.9916499853134155, 0.7467742562294006, 0.24089491367340088, 0.9703888893127441, 0.22192765772342682, 0.7773044109344482, 0.989936888217926, 0.6644479632377625, 0.32767295837402344, 0.9938399195671082, 0.16227388381958008, 0.5463220477104187, 0.17309214174747467, 0.11359171569347382, 0.982912003993988, 0.9855161905288696, 0.4501565992832184, 0.548997700214386, 0.9881861209869385, 0.5681546330451965, 0.25676217675209045, 0.1748168021440506], \"Term\": [\"1\", \"1\", \"10\", \"100\", \"15\", \"17\", \"1903\", \"2\", \"2\", \"20\", \"2016\", \"2019\", \"2019\", \"2019\", \"2020\", \"2025\", \"2077\", \"3\", \"3\", \"3\", \"3\", \"365\", \"4\", \"4\", \"5\", \"6\", \"64\", \"7\", \"70\", \"access\", \"account\", \"administrative\", \"administrator\", \"advanced\", \"ai\", \"ai\", \"alert\", \"amazon\", \"amazon\", \"amazon\", \"amd\", \"analysis\", \"analyst\", \"analytics\", \"analytics\", \"android\", \"announced\", \"announcement\", \"another\", \"app\", \"apple\", \"apple\", \"apple\", \"application\", \"apps\", \"architect\", \"assistant\", \"australia\", \"award\", \"aws\", \"azure\", \"ban\", \"beach\", \"benefit\", \"best\", \"best\", \"best\", \"big\", \"big\", \"bill\", \"billion\", \"bit\", \"bitcoin\", \"bitnami\", \"blockchain\", \"blockchain\", \"blog\", \"bluekeep\", \"book\", \"brand\", \"browser\", \"bug\", \"build\", \"build\", \"business\", \"business\", \"buy\", \"buy\", \"c\", \"ca\", \"ca\", \"call\", \"call\", \"capital\", \"care\", \"case\", \"center\", \"ceo\", \"certification\", \"chief\", \"china\", \"city\", \"cloud\", \"cloud\", \"cloud\", \"cloud\", \"co\", \"come\", \"coming\", \"community\", \"company\", \"company\", \"company\", \"company\", \"computer\", \"computing\", \"con\", \"conference\", \"console\", \"consultant\", \"content\", \"control\", \"controller\", \"coordinator\", \"copy\", \"corporation\", \"cost\", \"could\", \"could\", \"country\", \"create\", \"crm\", \"customer\", \"customer\", \"cut\", \"cyberpunk\", \"daily\", \"data\", \"data\", \"database\", \"database\", \"date\", \"day\", \"day\", \"day\", \"day\", \"de\", \"deal\", \"demo\", \"design\", \"desktop\", \"detail\", \"developer\", \"digital\", \"digital\", \"digital\", \"director\", \"double\", \"download\", \"drive\", \"driver\", \"dynamic\", \"dynamic\", \"e3\", \"earth\", \"edge\", \"edition\", \"el\", \"en\", \"end\", \"end\", \"engineer\", \"entry\", \"error\", \"everything\", \"excel\", \"exchange\", \"exec\", \"executive\", \"expert\", \"exploit\", \"facebook\", \"feature\", \"feature\", \"file\", \"finally\", \"financial\", \"firm\", \"first\", \"first\", \"first\", \"fix\", \"fix\", \"flaw\", \"focus\", \"forecast\", \"fox40\", \"free\", \"free\", \"free\", \"full\", \"game\", \"game\", \"gamesradar\", \"gaming\", \"gaming\", \"gear\", \"get\", \"giant\", \"giant\", \"global\", \"go\", \"go\", \"going\", \"gold\", \"good\", \"google\", \"graphic\", \"group\", \"growth\", \"guide\", \"halo\", \"health\", \"help\", \"high\", \"hire\", \"holding\", \"house\", \"hp\", \"huawei\", \"ibm\", \"identity\", \"inc\", \"inc\", \"industry\", \"industry\", \"infinite\", \"insider\", \"intel\", \"intel\", \"intelligence\", \"interview\", \"investment\", \"iot\", \"issue\", \"issue\", \"job\", \"job\", \"job\", \"job\", \"join\", \"join\", \"june\", \"june\", \"key\", \"know\", \"la\", \"launch\", \"launch\", \"launch\", \"lead\", \"leader\", \"leak\", \"learn\", \"learning\", \"legal\", \"level\", \"life\", \"light\", \"like\", \"like\", \"like\", \"linux\", \"live\", \"live\", \"live\", \"llc\", \"local\", \"long\", \"look\", \"look\", \"m\", \"machine\", \"major\", \"make\", \"make\", \"make\", \"making\", \"managed\", \"management\", \"management\", \"manager\", \"market\", \"may\", \"may\", \"medium\", \"meet\", \"microsoft\", \"microsoft\", \"microsoft\", \"microsoft\", \"microsoft\", \"microsoft\", \"microsoft\", \"microsoft\", \"microsoft\", \"microsofts\", \"microsofts\", \"million\", \"minecraft\", \"mobile\", \"mobile\", \"modern\", \"money\", \"month\", \"move\", \"msft\", \"multilingual\", \"national\", \"nbo\", \"need\", \"need\", \"needed\", \"net\", \"network\", \"network\", \"new\", \"new\", \"new\", \"new\", \"new\", \"new\", \"new\", \"new\", \"news\", \"news\", \"news\", \"next\", \"next\", \"office\", \"office\", \"one\", \"one\", \"online\", \"online\", \"open\", \"opinion\", \"oracle\", \"order\", \"outlook\", \"part\", \"partner\", \"partner\", \"partner\", \"partnership\", \"party\", \"pas\", \"patch\", \"patch\", \"pc\", \"people\", \"per\", \"percent\", \"percent\", \"personal\", \"phone\", \"phone\", \"phone\", \"plan\", \"platform\", \"play\", \"player\", \"playstation\", \"podcast\", \"position\", \"post\", \"potential\", \"power\", \"prediction\", \"press\", \"price\", \"price\", \"price\", \"pro\", \"professional\", \"program\", \"project\", \"project\", \"project\", \"ps4\", \"ready\", \"real\", \"reality\", \"red\", \"release\", \"release\", \"remote\", \"report\", \"report\", \"representative\", \"retail\", \"return\", \"revealed\", \"reveals\", \"revenue\", \"review\", \"right\", \"rose\", \"sale\", \"sale\", \"sale\", \"samsung\", \"sap\", \"say\", \"scarlett\", \"school\", \"screen\", \"search\", \"secure\", \"security\", \"selling\", \"senior\", \"series\", \"server\", \"server\", \"server\", \"server\", \"service\", \"service\", \"service\", \"service\", \"service\", \"service\", \"share\", \"share\", \"show\", \"skill\", \"software\", \"software\", \"sold\", \"sony\", \"source\", \"specialist\", \"sql\", \"stack\", \"stadium\", \"stake\", \"star\", \"start\", \"state\", \"step\", \"still\", \"stock\", \"stock\", \"stock\", \"stop\", \"store\", \"story\", \"streaming\", \"student\", \"studio\", \"support\", \"support\", \"switch\", \"system\", \"system\", \"take\", \"take\", \"tea\", \"team\", \"team\", \"tech\", \"tech\", \"technical\", \"technology\", \"technology\", \"time\", \"time\", \"time\", \"time\", \"tip\", \"tool\", \"tool\", \"top\", \"trade\", \"trailer\", \"training\", \"trend\", \"trial\", \"trump\", \"trust\", \"two\", \"two\", \"tx\", \"u\", \"u\", \"uk\", \"uk\", \"ultimate\", \"un\", \"university\", \"update\", \"update\", \"usa\", \"use\", \"use\", \"user\", \"user\", \"using\", \"using\", \"v\", \"value\", \"version\", \"video\", \"vulnerability\", \"w\", \"wall\", \"want\", \"want\", \"war\", \"warns\", \"washington\", \"watch\", \"watch\", \"way\", \"week\", \"week\", \"weekend\", \"window\", \"window\", \"woman\", \"word\", \"word\", \"work\", \"world\", \"world\", \"world\", \"world\", \"worldwide\", \"x\", \"xbox\", \"xbox\", \"xcloud\", \"year\", \"year\", \"year\"]}, \"R\": 30, \"lambda.step\": 0.01, \"plot.opts\": {\"xlab\": \"PC1\", \"ylab\": \"PC2\"}, \"topic.order\": [9, 10, 1, 6, 4, 5, 8, 7, 3, 2]};\n",
       "\n",
       "function LDAvis_load_lib(url, callback){\n",
       "  var s = document.createElement('script');\n",
       "  s.src = url;\n",
       "  s.async = true;\n",
       "  s.onreadystatechange = s.onload = callback;\n",
       "  s.onerror = function(){console.warn(\"failed to load library \" + url);};\n",
       "  document.getElementsByTagName(\"head\")[0].appendChild(s);\n",
       "}\n",
       "\n",
       "if(typeof(LDAvis) !== \"undefined\"){\n",
       "   // already loaded: just create the visualization\n",
       "   !function(LDAvis){\n",
       "       new LDAvis(\"#\" + \"ldavis_el67801398635147489929176911850\", ldavis_el67801398635147489929176911850_data);\n",
       "   }(LDAvis);\n",
       "}else if(typeof define === \"function\" && define.amd){\n",
       "   // require.js is available: use it to load d3/LDAvis\n",
       "   require.config({paths: {d3: \"https://cdnjs.cloudflare.com/ajax/libs/d3/3.5.5/d3.min\"}});\n",
       "   require([\"d3\"], function(d3){\n",
       "      window.d3 = d3;\n",
       "      LDAvis_load_lib(\"https://cdn.rawgit.com/bmabey/pyLDAvis/files/ldavis.v1.0.0.js\", function(){\n",
       "        new LDAvis(\"#\" + \"ldavis_el67801398635147489929176911850\", ldavis_el67801398635147489929176911850_data);\n",
       "      });\n",
       "    });\n",
       "}else{\n",
       "    // require.js not available: dynamically load d3 & LDAvis\n",
       "    LDAvis_load_lib(\"https://cdnjs.cloudflare.com/ajax/libs/d3/3.5.5/d3.min.js\", function(){\n",
       "         LDAvis_load_lib(\"https://cdn.rawgit.com/bmabey/pyLDAvis/files/ldavis.v1.0.0.js\", function(){\n",
       "                 new LDAvis(\"#\" + \"ldavis_el67801398635147489929176911850\", ldavis_el67801398635147489929176911850_data);\n",
       "            })\n",
       "         });\n",
       "}\n",
       "</script>"
      ],
      "text/plain": [
       "PreparedData(topic_coordinates=            Freq  cluster  topics         x         y\n",
       "topic                                                \n",
       "8      12.907335        1       1 -0.038864 -0.299552\n",
       "9      11.634643        1       2  0.211823  0.122330\n",
       "0      11.077435        1       3  0.150591  0.025665\n",
       "5      10.976942        1       4  0.060262 -0.260276\n",
       "3       9.447737        1       5  0.001795  0.164878\n",
       "4       9.334929        1       6 -0.318196  0.158850\n",
       "7       9.241575        1       7  0.076132  0.054459\n",
       "6       9.109207        1       8 -0.071404 -0.016635\n",
       "2       8.347623        1       9  0.132823  0.087296\n",
       "1       7.922578        1      10 -0.204962 -0.037014, topic_info=     Category         Freq          Term        Total  loglift  logprob\n",
       "term                                                                   \n",
       "38    Default  1344.000000          2019  1344.000000  30.0000  30.0000\n",
       "26    Default   896.000000        window   896.000000  29.0000  29.0000\n",
       "828   Default   712.000000            e3   712.000000  28.0000  28.0000\n",
       "40    Default   585.000000        google   585.000000  27.0000  27.0000\n",
       "85    Default   930.000000          xbox   930.000000  26.0000  26.0000\n",
       "21    Default   574.000000            10   574.000000  25.0000  25.0000\n",
       "31    Default   836.000000          game   836.000000  24.0000  24.0000\n",
       "839   Default   517.000000           usa   517.000000  23.0000  23.0000\n",
       "110   Default   488.000000        market   488.000000  22.0000  22.0000\n",
       "3     Default  2824.000000     microsoft  2824.000000  21.0000  21.0000\n",
       "70    Default   484.000000          data   484.000000  20.0000  20.0000\n",
       "16    Default   338.000000         azure   338.000000  19.0000  19.0000\n",
       "239   Default   301.000000           get   301.000000  18.0000  18.0000\n",
       "154   Default   386.000000           one   386.000000  17.0000  17.0000\n",
       "732   Default   285.000000            pc   285.000000  16.0000  16.0000\n",
       "14    Default   350.000000          tech   350.000000  15.0000  15.0000\n",
       "24    Default   363.000000        update   363.000000  14.0000  14.0000\n",
       "125   Default   472.000000          news   472.000000  13.0000  13.0000\n",
       "214   Default   360.000000             2   360.000000  12.0000  12.0000\n",
       "118   Default   229.000000          msft   229.000000  11.0000  11.0000\n",
       "160   Default   257.000000           top   257.000000  10.0000  10.0000\n",
       "330   Default   323.000000    technology   323.000000   9.0000   9.0000\n",
       "37    Default   330.000000           may   330.000000   8.0000   8.0000\n",
       "86    Default   238.000000     developer   238.000000   7.0000   7.0000\n",
       "108   Default   266.000000      business   266.000000   6.0000   6.0000\n",
       "385   Default   217.000000      security   217.000000   5.0000   5.0000\n",
       "326   Default   229.000000        huawei   229.000000   4.0000   4.0000\n",
       "104   Default   279.000000      software   279.000000   3.0000   3.0000\n",
       "115   Default   189.000000            co   189.000000   2.0000   2.0000\n",
       "425   Default   195.000000     assistant   195.000000   1.0000   1.0000\n",
       "...       ...          ...           ...          ...      ...      ...\n",
       "583   Topic10    77.057480        school    77.989174   2.5234  -4.2977\n",
       "395   Topic10    76.625687      computer    77.557434   2.5234  -4.3033\n",
       "660   Topic10    74.153557          2016    75.085358   2.5230  -4.3361\n",
       "171   Topic10    72.092522        people    73.024261   2.5226  -4.3643\n",
       "204   Topic10    71.674522           way    72.606262   2.5225  -4.3701\n",
       "756   Topic10    68.365150     executive    69.296913   2.5219  -4.4174\n",
       "866   Topic10    67.259247         trial    68.190956   2.5217  -4.4337\n",
       "927   Topic10    67.138206            en    68.070221   2.5217  -4.4355\n",
       "5     Topic10    66.864899          high    67.796669   2.5216  -4.4396\n",
       "693   Topic10    64.988457      training    65.920197   2.5212  -4.4681\n",
       "727   Topic10    58.403107          meet    59.335022   2.5196  -4.5749\n",
       "491   Topic10    57.553024         house    58.484734   2.5194  -4.5896\n",
       "672   Topic10    56.924549       account    57.856270   2.5192  -4.6005\n",
       "109   Topic10    56.313469  intelligence    57.245232   2.5190  -4.6113\n",
       "690   Topic10    53.970238      exchange    54.901985   2.5183  -4.6538\n",
       "324   Topic10    53.038918          step    53.970665   2.5180  -4.6712\n",
       "796   Topic10    52.567776         money    53.499542   2.5179  -4.6802\n",
       "615   Topic10    52.374825       podcast    53.306564   2.5178  -4.6838\n",
       "401   Topic10    51.919464      advanced    52.851196   2.5177  -4.6926\n",
       "868   Topic10    50.659855      personal    51.591606   2.5172  -4.7171\n",
       "894   Topic10    47.511124         party    48.442879   2.5160  -4.7813\n",
       "52    Topic10    46.640564       student    47.572281   2.5157  -4.7998\n",
       "127   Topic10    73.522202           two    84.943245   2.3911  -4.3447\n",
       "608   Topic10   113.352951        online   159.630310   2.1931  -3.9118\n",
       "43    Topic10   118.799339           use   172.154175   2.1645  -3.8648\n",
       "396   Topic10    92.694359          want   133.217148   2.1728  -4.1130\n",
       "67    Topic10    88.274132         first   175.158051   1.8502  -4.1618\n",
       "23    Topic10   147.690521           new   999.472656   0.6233  -3.6471\n",
       "743   Topic10    78.149414        server   171.659546   1.7486  -4.2836\n",
       "214   Topic10    62.222782             2   360.015930   0.7800  -4.5115\n",
       "\n",
       "[467 rows x 6 columns], token_table=      Topic      Freq        Term\n",
       "term                             \n",
       "163       6  0.747316           1\n",
       "163       8  0.245120           1\n",
       "21        6  0.997508          10\n",
       "260       4  0.981287         100\n",
       "773       8  0.992645          15\n",
       "543       6  0.988760          17\n",
       "1022      6  0.981908        1903\n",
       "214       1  0.824964           2\n",
       "214      10  0.172215           2\n",
       "924       8  0.981313          20\n",
       "660      10  0.985545        2016\n",
       "38        1  0.722783        2019\n",
       "38        2  0.155413        2019\n",
       "38        8  0.121951        2019\n",
       "398       7  0.990235        2020\n",
       "365       2  0.989090        2025\n",
       "826       2  0.978828        2077\n",
       "294       1  0.318062           3\n",
       "294       4  0.075729           3\n",
       "294       8  0.484666           3\n",
       "294      10  0.113594           3\n",
       "339       5  0.989872         365\n",
       "168       1  0.797249           4\n",
       "168       3  0.194677           4\n",
       "142       1  0.997669           5\n",
       "88        8  0.989431           6\n",
       "821       3  0.990896          64\n",
       "139       4  0.993018           7\n",
       "4         8  0.987794          70\n",
       "617       6  0.990458      access\n",
       "...     ...       ...         ...\n",
       "530       6  0.984332        wall\n",
       "396       5  0.300262        want\n",
       "396      10  0.698108        want\n",
       "346       6  0.983268         war\n",
       "932       5  0.968921       warns\n",
       "162       6  0.976080  washington\n",
       "192       1  0.934273       watch\n",
       "192       2  0.055423       watch\n",
       "204      10  0.991650         way\n",
       "205       1  0.746774        week\n",
       "205       8  0.240895        week\n",
       "7         8  0.970389     weekend\n",
       "26        5  0.221928      window\n",
       "26        6  0.777304      window\n",
       "150       7  0.989937       woman\n",
       "542       1  0.664448        word\n",
       "542       8  0.327673        word\n",
       "409      10  0.993840        work\n",
       "99        1  0.162274       world\n",
       "99        3  0.546322       world\n",
       "99        6  0.173092       world\n",
       "99        9  0.113592       world\n",
       "111       7  0.982912   worldwide\n",
       "665       4  0.985516           x\n",
       "85        1  0.450157        xbox\n",
       "85        4  0.548998        xbox\n",
       "612       6  0.988186      xcloud\n",
       "79        4  0.568155        year\n",
       "79        7  0.256762        year\n",
       "79       10  0.174817        year\n",
       "\n",
       "[546 rows x 3 columns], R=30, lambda_step=0.01, plot_opts={'xlab': 'PC1', 'ylab': 'PC2'}, topic_order=[9, 10, 1, 6, 4, 5, 8, 7, 3, 2])"
      ]
     },
     "execution_count": 46,
     "metadata": {},
     "output_type": "execute_result"
    }
   ],
   "source": [
    "pyLDAvis.enable_notebook()\n",
    "vis = pyLDAvis.gensim.prepare(lda_model, corpora, dictionary)\n",
    "vis"
   ]
  },
  {
   "cell_type": "code",
   "execution_count": 47,
   "metadata": {},
   "outputs": [
    {
     "name": "stdout",
     "output_type": "stream",
     "text": [
      "Main term in topic 0\n",
      " usa\n",
      " microsoft\n",
      " azure\n",
      " news\n",
      " developer\n",
      " new\n",
      " edge\n",
      " service\n",
      " platform\n",
      " digital\n",
      "\n",
      "Main term in topic 1\n",
      " de\n",
      " trailer\n",
      " new\n",
      " work\n",
      " use\n",
      " la\n",
      " online\n",
      " create\n",
      " driver\n",
      " sql\n",
      "\n",
      "Main term in topic 2\n",
      " microsoft\n",
      " msft\n",
      " co\n",
      " job\n",
      " management\n",
      " ai\n",
      " share\n",
      " life\n",
      " company\n",
      " director\n",
      "\n",
      "Main term in topic 3\n",
      " microsoft\n",
      " data\n",
      " business\n",
      " security\n",
      " window\n",
      " system\n",
      " software\n",
      " analyst\n",
      " support\n",
      " update\n",
      "\n",
      "Main term in topic 4\n",
      " window\n",
      " 10\n",
      " update\n",
      " engineer\n",
      " u\n",
      " manager\n",
      " 1\n",
      " access\n",
      " tech\n",
      " support\n",
      "\n",
      "Main term in topic 5\n",
      " xbox\n",
      " game\n",
      " get\n",
      " one\n",
      " microsoft\n",
      " pc\n",
      " new\n",
      " huawei\n",
      " minecraft\n",
      " coming\n",
      "\n",
      "Main term in topic 6\n",
      " tech\n",
      " assistant\n",
      " 2019\n",
      " excel\n",
      " microsoft\n",
      " june\n",
      " pro\n",
      " deal\n",
      " data\n",
      " office\n",
      "\n",
      "Main term in topic 7\n",
      " google\n",
      " microsoft\n",
      " sony\n",
      " say\n",
      " apple\n",
      " stadium\n",
      " console\n",
      " amazon\n",
      " launch\n",
      " health\n",
      "\n",
      "Main term in topic 8\n",
      " 2019\n",
      " e3\n",
      " game\n",
      " xbox\n",
      " 2\n",
      " may\n",
      " new\n",
      " video\n",
      " release\n",
      " 5\n",
      "\n",
      "Main term in topic 9\n",
      " market\n",
      " microsoft\n",
      " technology\n",
      " top\n",
      " cloud\n",
      " 2019\n",
      " global\n",
      " open\n",
      " million\n",
      " key\n",
      "\n"
     ]
    }
   ],
   "source": [
    "def get_term_by_topic(lda_model, dictionary, topic_id):\n",
    "    for item in lda_model.get_topic_terms(topic_id): \n",
    "        term = dictionary[item[0]]\n",
    "        print(\" \" + term)\n",
    "    return \n",
    "\n",
    "for i in range(10):\n",
    "    print('Main term in topic {}'.format(i))\n",
    "    get_term_by_topic(lda_model, dictionary, i)\n",
    "    print()"
   ]
  },
  {
   "cell_type": "markdown",
   "metadata": {},
   "source": [
    "# Topic cluster"
   ]
  },
  {
   "cell_type": "code",
   "execution_count": 48,
   "metadata": {},
   "outputs": [],
   "source": [
    "import gensim, operator\n",
    "from scipy import spatial"
   ]
  },
  {
   "cell_type": "code",
   "execution_count": 49,
   "metadata": {},
   "outputs": [],
   "source": [
    "topic_taxonomy = {\n",
    "    \"Business Operations\" : \n",
    "    {\n",
    "        \"Business\" : \"apple ceo business global trend finance\",\n",
    "    },\n",
    "    \n",
    "    \"Stock\" :\n",
    "    {\n",
    "        \"Market\" : \"data software business technology growth msft share price future deal\",\n",
    "        \"Competition\" : \"google facebook ceo ibm oracle huawei apple\"\n",
    "    },\n",
    "    \n",
    "    \"Gaming\" :\n",
    "    {\n",
    "        \"Product-gaming\" : \"announce trailer event video release\",\n",
    "        \"Game\" : \"game e3 xbox playstation console minecraft\",\n",
    "        \n",
    "    },\n",
    "    \n",
    "    \"Technology\" : \n",
    "    {\n",
    "        \"Windows\" : \"fix 10 server build google\",\n",
    "        \"Security\" : \"upgrade cyber punk hack avast system update\",\n",
    "        \"AI\" : \"artificial intelligence future technology\",\n",
    "        \"Data\": \"data cloud computing blockchain amd bitcoin\",\n",
    "        \"Product-technology\" : \"team azure 365 office pro launch excel pc edge outlook\",\n",
    "    },\n",
    "    \n",
    "    \"Gates\":\n",
    "    {\n",
    "        \"People\": \"bill melinda ellen show bezos\",\n",
    "        \"Charity\": \"donation unicef un foundation\"\n",
    "    },\n",
    "    \n",
    "    \"Employment\":\n",
    "    {\n",
    "        \"Location\" : \"palo alto bangalore new york africa\",\n",
    "        \"Visa\" : \"h1b trump immigration china india\",\n",
    "        \"Jobs\": \"engineer machine learning ai analyst management developer\"\n",
    "    },\n",
    "    \n",
    "    \"Clients\":\n",
    "    {\n",
    "        \"Customer\": \"platform service\"\n",
    "    }\n",
    "}"
   ]
  },
  {
   "cell_type": "code",
   "execution_count": 50,
   "metadata": {},
   "outputs": [],
   "source": [
    "def classify_topics(input, vectors):\n",
    "    feed_score = dict()\n",
    "    for key, value in topic_taxonomy.items():\n",
    "        max_value_score = dict()\n",
    "        for label, keywords in value.items():\n",
    "            max_value_score[label] = 0\n",
    "            topic = (keywords).strip()\n",
    "            max_value_score[label] += float(calc_similarity(input, topic, vectors))\n",
    "            \n",
    "        sorted_max_score = sorted(max_value_score.items(), key=operator.itemgetter(1), reverse=True)[0]\n",
    "        feed_score[sorted_max_score[0]] = sorted_max_score[1]\n",
    "    result = sorted(feed_score.items(), key=operator.itemgetter(1), reverse=True)[:3]\n",
    "    if result[0][1] < 0.4:\n",
    "        return []\n",
    "    return result"
   ]
  },
  {
   "cell_type": "code",
   "execution_count": 51,
   "metadata": {},
   "outputs": [],
   "source": [
    "data = load_data('microsoft_clean.json')\n",
    "tot_title = len(data)\n",
    "title_list = [(' '.join(cleanup_text(str(data[i]['title']))), data[i]['published'][:10]) for i in range(tot_title)]"
   ]
  },
  {
   "cell_type": "code",
   "execution_count": 53,
   "metadata": {},
   "outputs": [
    {
     "name": "stdout",
     "output_type": "stream",
     "text": [
      "Title classified: Windows 10 1903 Cumulative Update KB4497935 Takes Care of High-Priority Bugs and Software Issues\n",
      "[('Security', 0.5159127116203308), ('Market', 0.4831184446811676), ('Product-gaming', 0.3456571102142334)]\n"
     ]
    }
   ],
   "source": [
    "title_id = 10892\n",
    "print(\"Title classified: {}\".format(data[title_id]['title']))\n",
    "classification = classify_topics(title_list[title_id][0], model_w2v_AP)\n",
    "print(classification)"
   ]
  },
  {
   "cell_type": "markdown",
   "metadata": {},
   "source": [
    "### Main topic day by day "
   ]
  },
  {
   "cell_type": "code",
   "execution_count": 75,
   "metadata": {},
   "outputs": [],
   "source": [
    "topics_by_date = dict()\n",
    "for date in set([date[1] for date in title_list]):\n",
    "    topics_by_date[date] = dict() \n",
    "\n",
    "for title in title_list: \n",
    "    try:\n",
    "        topics = classify_topics(title[0], model_w2v_AP)\n",
    "        if len(topics) == 0:\n",
    "            continue\n",
    "    except Exception: \n",
    "        continue\n",
    "    \n",
    "    date = title[1]\n",
    "    for topic in topics:\n",
    "        if topic[0] not in topics_by_date[date].keys(): \n",
    "            topics_by_date[date][topic[0]] = 1 \n",
    "            break\n",
    "        else: \n",
    "            topics_by_date[date][topic[0]] += 1"
   ]
  },
  {
   "cell_type": "code",
   "execution_count": 79,
   "metadata": {},
   "outputs": [
    {
     "name": "stdout",
     "output_type": "stream",
     "text": [
      "On 2019-05-04 the main topics are: Competition, Market, Windows\n",
      "On 2019-05-05 the main topics are: Competition, Game, Windows\n",
      "On 2019-05-06 the main topics are: Competition, Market, Game\n",
      "On 2019-05-07 the main topics are: Competition, Game, Market\n",
      "On 2019-05-08 the main topics are: Competition, Market, Game\n",
      "On 2019-05-09 the main topics are: Competition, Market, Windows\n",
      "On 2019-05-10 the main topics are: Competition, Market, Location\n",
      "On 2019-05-11 the main topics are: Competition, Market, Windows\n",
      "On 2019-05-12 the main topics are: Competition, Game, Product-technology\n",
      "On 2019-05-13 the main topics are: Competition, Market, Game\n",
      "On 2019-05-14 the main topics are: Market, Competition, Location\n",
      "On 2019-05-15 the main topics are: Competition, Market, Game\n",
      "On 2019-05-16 the main topics are: Market, Competition, Product-technology\n",
      "On 2019-05-17 the main topics are: Competition, Game, Market\n",
      "On 2019-05-18 the main topics are: Competition, Game, Windows\n",
      "On 2019-05-19 the main topics are: Market, Competition, Game\n",
      "On 2019-05-20 the main topics are: Competition, Market, Game\n",
      "On 2019-05-21 the main topics are: Market, Competition, Game\n",
      "On 2019-05-22 the main topics are: Competition, Market, Game\n",
      "On 2019-05-23 the main topics are: Market, Competition, Location\n",
      "On 2019-05-24 the main topics are: Competition, Market, Game\n",
      "On 2019-05-25 the main topics are: Competition, Game, Market\n",
      "On 2019-05-26 the main topics are: Competition, Location, Market\n",
      "On 2019-05-27 the main topics are: Competition, Game, Market\n",
      "On 2019-05-28 the main topics are: Competition, Market, Game\n",
      "On 2019-05-29 the main topics are: Competition, Market, Location\n",
      "On 2019-05-30 the main topics are: Competition, Market, Game\n",
      "On 2019-05-31 the main topics are: Competition, Game, Market\n",
      "On 2019-06-01 the main topics are: Competition, Game, Market\n",
      "On 2019-06-02 the main topics are: Competition, Location, Product-technology\n",
      "On 2019-06-03 the main topics are: Competition, Game, Market\n",
      "On 2019-06-04 the main topics are: Market, Competition, Game\n",
      "On 2019-06-05 the main topics are: Competition, Market, Game\n",
      "On 2019-06-06 the main topics are: Competition, Market, Location\n",
      "On 2019-06-07 the main topics are: Competition, Market, Game\n",
      "On 2019-06-08 the main topics are: Competition, Game, Location\n",
      "On 2019-06-09 the main topics are: Game, Competition, Location\n",
      "On 2019-06-10 the main topics are: Game, Competition, Location\n",
      "On 2019-06-11 the main topics are: Game, Competition, Market\n",
      "On 2019-06-12 the main topics are: Competition, Game, Market\n"
     ]
    }
   ],
   "source": [
    "def get_main_topics(topics_by_date, date):\n",
    "    topics = topics_by_date[date]\n",
    "    return sorted(topics.items(), key=operator.itemgetter(1), reverse=True)[:3]\n",
    "\n",
    "for date in sorted(set([date[1] for date in title_list])):\n",
    "    topics = get_main_topics(topics_by_date, date)\n",
    "    print('On {} the main topics are: {}'.format(date, ', '.join([topic[0] for topic in topics])))"
   ]
  },
  {
   "cell_type": "markdown",
   "metadata": {},
   "source": [
    "# Microsoft stock prices"
   ]
  },
  {
   "cell_type": "code",
   "execution_count": 9,
   "metadata": {},
   "outputs": [],
   "source": [
    "import datetime\n",
    "import matplotlib.pyplot as plt\n",
    "import pandas as pd\n",
    "import numpy as np\n",
    "\n",
    "from iexfinance.stocks import Stock\n",
    "from iexfinance.stocks import get_historical_data"
   ]
  },
  {
   "cell_type": "code",
   "execution_count": 12,
   "metadata": {},
   "outputs": [],
   "source": [
    "def get_prices(stock_name, t1, t2): \n",
    "    start = t1\n",
    "    end = t2 \n",
    "    stock = Stock(stock_name)\n",
    "    return get_historical_data(stock_name, start=start, end=end, output_format='pandas')\n",
    "\n",
    "def plot_candlestick(df):\n",
    "    df[\"color\"] = (df.close > df.open).map({True:\"green\",False:\"red\"})\n",
    "    fig, ax = plt.subplots()\n",
    "    for date in df.index:\n",
    "        ax.plot([date]*2, df.loc[date, [\"high\",\"low\"]].values, color = \"black\")\n",
    "        ax.plot([date]*2, df.loc[date, [\"open\",\"close\"]].values, color = df.loc[date, \"color\"], linewidth = 10)\n",
    "\n",
    "    ax.set_ylabel(\"Price [$]\")\n",
    "    ax.set_xlabel(\"Day\")\n",
    "    ax.set_title(\"OHLC of Stock Value During Trading Day\")\n",
    "    plt.show()"
   ]
  },
  {
   "cell_type": "code",
   "execution_count": 13,
   "metadata": {},
   "outputs": [
    {
     "data": {
      "image/png": "[encoded data removed]",
      "text/plain": [
       "<matplotlib.figure.Figure at 0x7f08a0b29160>"
      ]
     },
     "metadata": {},
     "output_type": "display_data"
    }
   ],
   "source": [
    "df = get_prices('MSFT', datetime.date(2019,5,4), datetime.date(2019,6,4))\n",
    "plot_candlestick(df)"
   ]
  },
  {
   "cell_type": "code",
   "execution_count": null,
   "metadata": {},
   "outputs": [],
   "source": []
  }
 ],
 "metadata": {
  "kernelspec": {
   "display_name": "Python 3",
   "language": "python",
   "name": "python3"
  },
  "language_info": {
   "codemirror_mode": {
    "name": "ipython",
    "version": 3
   },
   "file_extension": ".py",
   "mimetype": "text/x-python",
   "name": "python",
   "nbconvert_exporter": "python",
   "pygments_lexer": "ipython3",
   "version": "3.6.7"
  }
 },
 "nbformat": 4,
 "nbformat_minor": 2
}
