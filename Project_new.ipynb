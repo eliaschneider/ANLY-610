{
 "cells": [
  {
   "cell_type": "code",
   "execution_count": 25,
   "metadata": {},
   "outputs": [],
   "source": [
    "import gensim, operator\n",
    "from scipy import spatial\n",
    "import numpy as np\n",
    "from gensim.models import KeyedVectors\n",
    "\n",
    "model_path = '/Users/pinky/Desktop/HUST/ANLY-610_project/ANLY-610/model/'\n",
    "data_path= '/Users/pinky/Desktop/HUST/ANLY-610_project/data/'"
   ]
  },
  {
   "cell_type": "code",
   "execution_count": 26,
   "metadata": {},
   "outputs": [],
   "source": [
    "import os\n",
    "import json\n",
    "\n",
    "import gensim, operator\n",
    "from scipy import spatial\n",
    "import numpy as np\n",
    "from gensim.models import KeyedVectors"
   ]
  },
  {
   "cell_type": "code",
   "execution_count": 27,
   "metadata": {},
   "outputs": [
    {
     "name": "stdout",
     "output_type": "stream",
     "text": [
      "Loading Word2Vec model...\n",
      "Finished loading Word2Vec model...\n"
     ]
    }
   ],
   "source": [
    "def load_wordvec_model(modelName, modelFile, flagBin):\n",
    "    print('Loading ' + modelName + ' model...')\n",
    "    model = KeyedVectors.load_word2vec_format(model_path + modelFile, binary=flagBin)\n",
    "    print('Finished loading ' + modelName + ' model...')\n",
    "    return model\n",
    "\n",
    "model_word2vec = load_wordvec_model('Word2Vec', 'GoogleNews-vectors-negative300.bin', True)"
   ]
  },
  {
   "cell_type": "code",
   "execution_count": 36,
   "metadata": {},
   "outputs": [],
   "source": [
    "def load_webhouse_data(data_name): \n",
    "    data_file = data_path + data_name + '.json'\n",
    "    with open(data_file) as json_data:\n",
    "        data = json.load(json_data)\n",
    "        return data"
   ]
  },
  {
   "cell_type": "code",
   "execution_count": 37,
   "metadata": {},
   "outputs": [],
   "source": [
    "data=load_webhouse_data('ANLY610_MSFT_Data')"
   ]
  },
  {
   "cell_type": "code",
   "execution_count": 38,
   "metadata": {},
   "outputs": [],
   "source": [
    "import pandas as pd\n",
    "import string\n",
    "import pyspark\n",
    "from pyspark.sql import SQLContext\n",
    "from pyspark.ml.feature import CountVectorizer as CountVectorizer_pyspark\n",
    "from pyspark.ml.feature import IDF \n",
    "from pyspark.mllib.linalg import Vector, Vectors\n",
    "from pyspark.mllib.clustering import LDA, LDAModel\n",
    "\n",
    "from sklearn.feature_extraction.text import CountVectorizer \n",
    "from sklearn.decomposition import LatentDirichletAllocation\n",
    "import nltk, re\n",
    "from nltk.stem.wordnet import WordNetLemmatizer\n",
    "\n",
    "from gensim.models import ldamodel\n",
    "from gensim.corpora.dictionary import Dictionary\n",
    "import pyLDAvis.gensim"
   ]
  },
  {
   "cell_type": "code",
   "execution_count": 39,
   "metadata": {},
   "outputs": [],
   "source": [
    "stopwords= set(nltk.corpus.stopwords.words('english'))"
   ]
  },
  {
   "cell_type": "code",
   "execution_count": 40,
   "metadata": {},
   "outputs": [],
   "source": [
    "def tokenize_titles(title):\n",
    "    tokens = nltk.word_tokenize(title)\n",
    "    lmtzr = WordNetLemmatizer()\n",
    "    filtered_tokens = []\n",
    "    \n",
    "    for token in tokens:\n",
    "        token = token.replace(\"'s\", \" \").replace(\"n’t\", \" not\").replace(\"’ve\", \" have\")\n",
    "        token = re.sub(r'[^a-zA-Z0-9 ]', '', token)\n",
    "        if token not in stopwords:\n",
    "            filtered_tokens.append(token.lower())\n",
    "    \n",
    "    lemmas = [lmtzr.lemmatize(t,'v') for t in filtered_tokens]\n",
    "\n",
    "    return lemmas"
   ]
  },
  {
   "cell_type": "code",
   "execution_count": 33,
   "metadata": {},
   "outputs": [],
   "source": [
    "def clstr_lda(num_topics, stories):\n",
    "    # top words to be identified\n",
    "    n_top_words = 10\n",
    "\n",
    "    tf_vectorizer = CountVectorizer(max_df=100, min_df=2, max_features=500,\n",
    "                                    tokenizer=tokenize_titles, ngram_range=(3,4))\n",
    "\n",
    "    tf = tf_vectorizer.fit_transform(stories)\n",
    "\n",
    "    lda = LatentDirichletAllocation(n_components=num_topics, max_iter=200,\n",
    "                                    learning_method='batch', learning_offset=10.,\n",
    "                                    random_state = 1)\n",
    "    lda.fit(tf)\n",
    "    tf_feature_names = tf_vectorizer.get_feature_names()\n",
    "\n",
    "    # print top topic words\n",
    "    topics = dict()\n",
    "    for topic_idx, topic in enumerate(lda.components_):\n",
    "        topics[topic_idx] = [tf_feature_names[i] for i in topic.argsort()[:-n_top_words - 1:-1]]\n",
    "        print(\"Topic #%d:\" % topic_idx)\n",
    "        print(\" | \".join([tf_feature_names[i] for i in topic.argsort()[:-n_top_words - 1:-1]]))\n",
    "        \n",
    "    return topics"
   ]
  },
  {
   "cell_type": "code",
   "execution_count": 34,
   "metadata": {},
   "outputs": [],
   "source": [
    "feed_titles = []\n",
    "\n",
    "for feed in data:\n",
    "    feed_titles.append(str(feed['title']))"
   ]
  },
  {
   "cell_type": "code",
   "execution_count": 35,
   "metadata": {},
   "outputs": [
    {
     "name": "stdout",
     "output_type": "stream",
     "text": [
      "Topic #0:\n",
      "ibm  microsoft | ibm  microsoft  | 13  2019 | march 13  2019 | march 13  |  ibm  microsoft | 12  2019 | march 12  2019 | march 12  |  march 12\n",
      "Topic #1:\n",
      " administrative assistant | sap se  |  sap se | bring xbox live |  sap se  | microsoft bring xbox | microsoft bring xbox live |  microsoft corporation | master chief collection pc | chief collection pc\n",
      "Topic #2:\n",
      "    | chief collection come | master chief collection come | chief collection come pc | collection come pc | halo  reach | windows 7 users | come pc  | march 14  | 14  2019\n",
      "Topic #3:\n",
      "music award 2019 | iheartradio music award 2019 | show project xcloud | pc game xbox | game xbox one | microsoft show project xcloud | microsoft show project | award 2019  | pc game xbox one | music award 2019 \n",
      "Topic #4:\n",
      "windows 10 automatically | windows 10 automatically uninstall | 10 automatically uninstall | android apps windows | project xcloud stream | apps windows 10 | android apps windows 10 | xcloud stream service | project xcloud stream service | replace xbox console\n",
      "Topic #5:\n",
      "wireless display app | windows 10  | game stream service | microsoft  oracle |  microsoft  oracle | stream pc game | microsoft  oracle  | pc game xbox | xcloud game stream |   wireless display app\n",
      "Topic #6:\n",
      "google alert  | xbox live ios | live ios android | xbox live ios android | xbox one phantom | 12 windows 7 | directx 12 windows | directx 12 windows 7 |  march 2019 | android screen mirror\n",
      "Topic #7:\n",
      "microsoft co  | co  msft  | co  msft | microsoft co  msft | ai business school | xbox one  |   microsoft | microsoft xbox one |  xbox live | microsoft  msft\n",
      "Topic #8:\n",
      " google  | key players  | top key players |  sap  |  apple  |  amazon  | 2019 iheartradio music award | 2019 iheartradio music | google  microsoft | amazon web service\n",
      "Topic #9:\n",
      "explore photos touch | microsoft patent lawsuit | reject microsoft patent | reject microsoft patent lawsuit | microsoft patent lawsuit  | patent lawsuit  | never pay royalties | patent lawsuit  say | lawsuit  say | foxconn reject microsoft\n"
     ]
    }
   ],
   "source": [
    "topics = clstr_lda(10, feed_titles)"
   ]
  },
  {
   "cell_type": "code",
   "execution_count": 41,
   "metadata": {},
   "outputs": [
    {
     "data": {
      "text/html": [
       "<div>\n",
       "<style scoped>\n",
       "    .dataframe tbody tr th:only-of-type {\n",
       "        vertical-align: middle;\n",
       "    }\n",
       "\n",
       "    .dataframe tbody tr th {\n",
       "        vertical-align: top;\n",
       "    }\n",
       "\n",
       "    .dataframe thead th {\n",
       "        text-align: right;\n",
       "    }\n",
       "</style>\n",
       "<table border=\"1\" class=\"dataframe\">\n",
       "  <thead>\n",
       "    <tr style=\"text-align: right;\">\n",
       "      <th></th>\n",
       "      <th>title</th>\n",
       "      <th>date</th>\n",
       "    </tr>\n",
       "  </thead>\n",
       "  <tbody>\n",
       "    <tr>\n",
       "      <th>0</th>\n",
       "      <td>ICT and society portfolio section Essay</td>\n",
       "      <td>2019-03-12</td>\n",
       "    </tr>\n",
       "    <tr>\n",
       "      <th>1</th>\n",
       "      <td>Triggering plugins / workflows when associatin...</td>\n",
       "      <td>2019-03-11</td>\n",
       "    </tr>\n",
       "    <tr>\n",
       "      <th>2</th>\n",
       "      <td>Ways to Get a Free PVS-Studio License</td>\n",
       "      <td>2019-03-11</td>\n",
       "    </tr>\n",
       "    <tr>\n",
       "      <th>3</th>\n",
       "      <td>[UPDATE] MDB Viewer Plus v2.63</td>\n",
       "      <td>2019-03-12</td>\n",
       "    </tr>\n",
       "    <tr>\n",
       "      <th>4</th>\n",
       "      <td>Good news for software engineers as Microsoft ...</td>\n",
       "      <td>2019-03-12</td>\n",
       "    </tr>\n",
       "  </tbody>\n",
       "</table>\n",
       "</div>"
      ],
      "text/plain": [
       "                                               title        date\n",
       "0            ICT and society portfolio section Essay  2019-03-12\n",
       "1  Triggering plugins / workflows when associatin...  2019-03-11\n",
       "2              Ways to Get a Free PVS-Studio License  2019-03-11\n",
       "3                     [UPDATE] MDB Viewer Plus v2.63  2019-03-12\n",
       "4  Good news for software engineers as Microsoft ...  2019-03-12"
      ]
     },
     "execution_count": 41,
     "metadata": {},
     "output_type": "execute_result"
    }
   ],
   "source": [
    "titles = [[data[i]['title'], data[i]['published'][:10]]  for i in range(len(data))]\n",
    "df_feeds = pd.DataFrame(titles,columns=['title', 'date'])\n",
    "df_feeds.head()"
   ]
  },
  {
   "cell_type": "code",
   "execution_count": 42,
   "metadata": {},
   "outputs": [
    {
     "data": {
      "text/plain": [
       "<matplotlib.axes._subplots.AxesSubplot at 0x1a50e7b4a8>"
      ]
     },
     "execution_count": 42,
     "metadata": {},
     "output_type": "execute_result"
    }
   ],
   "source": [
    "df_daily_count = df_feeds.groupby('date')['title'].count()\n",
    "df_daily_count.plot(kind='bar', x='date')"
   ]
  },
  {
   "cell_type": "code",
   "execution_count": 43,
   "metadata": {},
   "outputs": [],
   "source": [
    "punctuation = set(string.punctuation) \n",
    "def text_cleanup(input_text):\n",
    "    one = \" \".join([i for i in input_text.lower().split() if i not in stopwords])\n",
    "    two = \"\".join(re.sub(r'[^a-zA-Z ]', '', i) for i in one if i not in punctuation)\n",
    "    three = [WordNetLemmatizer().lemmatize(i) for i in two.split()]\n",
    "    return three"
   ]
  },
  {
   "cell_type": "code",
   "execution_count": 44,
   "metadata": {},
   "outputs": [],
   "source": [
    "titles = df_feeds[['title']].applymap(text_cleanup)['title']\n",
    "dictionary = Dictionary(titles)\n",
    "dictionary.filter_extremes(no_below=10, no_above=0.8)\n",
    "corpora = [dictionary.doc2bow(doc) for doc in titles]\n",
    "\n",
    "# Running and Trainign LDA model on the document term matrix.\n",
    "lda_model = ldamodel.LdaModel(corpora, num_topics=8, id2word = dictionary, passes=50)"
   ]
  },
  {
   "cell_type": "code",
   "execution_count": 45,
   "metadata": {},
   "outputs": [
    {
     "name": "stderr",
     "output_type": "stream",
     "text": [
      "/Users/pinky/anaconda3/lib/python3.7/site-packages/pyLDAvis/_prepare.py:257: FutureWarning: Sorting because non-concatenation axis is not aligned. A future version\n",
      "of pandas will change to not sort by default.\n",
      "\n",
      "To accept the future behavior, pass 'sort=False'.\n",
      "\n",
      "To retain the current behavior and silence the warning, pass 'sort=True'.\n",
      "\n",
      "  return pd.concat([default_term_info] + list(topic_dfs))\n"
     ]
    },
    {
     "data": {
      "text/html": [
       "\n",
       "<link rel=\"stylesheet\" type=\"text/css\" href=\"https://cdn.rawgit.com/bmabey/pyLDAvis/files/ldavis.v1.0.0.css\">\n",
       "\n",
       "\n",
       "<div id=\"ldavis_el8713947901023203200515770\"></div>\n",
       "<script type=\"text/javascript\">\n",
       "\n",
       "var ldavis_el8713947901023203200515770_data = {\"mdsDat\": {\"x\": [-0.2437173442196378, 0.0878140526347205, 0.20432711466414918, -0.15868267111935053, -0.1607808123951941, 0.17204696914389916, 0.12380771577724661, -0.024815024485832927], \"y\": [-0.051217557619560435, 0.1331423833326036, -0.0051965940682659915, -0.1362009610775426, 0.2540575788530319, -0.1593439595054917, 0.15248285021597172, -0.18772374013074622], \"topics\": [1, 2, 3, 4, 5, 6, 7, 8], \"cluster\": [1, 1, 1, 1, 1, 1, 1, 1], \"Freq\": [20.43982696533203, 13.898444175720215, 12.285802841186523, 12.085470199584961, 11.284716606140137, 11.049139976501465, 10.974693298339844, 7.981897830963135]}, \"tinfo\": {\"Category\": [\"Default\", \"Default\", \"Default\", \"Default\", \"Default\", \"Default\", \"Default\", \"Default\", \"Default\", \"Default\", \"Default\", \"Default\", \"Default\", \"Default\", \"Default\", \"Default\", \"Default\", \"Default\", \"Default\", \"Default\", \"Default\", \"Default\", \"Default\", \"Default\", \"Default\", \"Default\", \"Default\", \"Default\", \"Default\", \"Default\", \"Topic1\", \"Topic1\", \"Topic1\", \"Topic1\", \"Topic1\", \"Topic1\", \"Topic1\", \"Topic1\", \"Topic1\", \"Topic1\", \"Topic1\", \"Topic1\", \"Topic1\", \"Topic1\", \"Topic1\", \"Topic1\", \"Topic1\", \"Topic1\", \"Topic1\", \"Topic1\", \"Topic1\", \"Topic1\", \"Topic1\", \"Topic1\", \"Topic1\", \"Topic1\", \"Topic1\", \"Topic1\", \"Topic1\", \"Topic1\", \"Topic1\", \"Topic1\", \"Topic1\", \"Topic1\", \"Topic1\", \"Topic1\", \"Topic1\", \"Topic1\", \"Topic1\", \"Topic1\", \"Topic1\", \"Topic1\", \"Topic1\", \"Topic1\", \"Topic1\", \"Topic1\", \"Topic1\", \"Topic1\", \"Topic2\", \"Topic2\", \"Topic2\", \"Topic2\", \"Topic2\", \"Topic2\", \"Topic2\", \"Topic2\", \"Topic2\", \"Topic2\", \"Topic2\", \"Topic2\", \"Topic2\", \"Topic2\", \"Topic2\", \"Topic2\", \"Topic2\", \"Topic2\", \"Topic2\", \"Topic2\", \"Topic2\", \"Topic2\", \"Topic2\", \"Topic2\", \"Topic2\", \"Topic2\", \"Topic2\", \"Topic2\", \"Topic2\", \"Topic2\", \"Topic2\", \"Topic2\", \"Topic2\", \"Topic2\", \"Topic2\", \"Topic2\", \"Topic2\", \"Topic2\", \"Topic2\", \"Topic2\", \"Topic2\", \"Topic2\", \"Topic2\", \"Topic2\", \"Topic2\", \"Topic2\", \"Topic2\", \"Topic2\", \"Topic3\", \"Topic3\", \"Topic3\", \"Topic3\", \"Topic3\", \"Topic3\", \"Topic3\", \"Topic3\", \"Topic3\", \"Topic3\", \"Topic3\", \"Topic3\", \"Topic3\", \"Topic3\", \"Topic3\", \"Topic3\", \"Topic3\", \"Topic3\", \"Topic3\", \"Topic3\", \"Topic3\", \"Topic3\", \"Topic3\", \"Topic3\", \"Topic3\", \"Topic3\", \"Topic3\", \"Topic3\", \"Topic3\", \"Topic3\", \"Topic3\", \"Topic3\", \"Topic3\", \"Topic3\", \"Topic3\", \"Topic3\", \"Topic3\", \"Topic3\", \"Topic3\", \"Topic3\", \"Topic3\", \"Topic3\", \"Topic3\", \"Topic4\", \"Topic4\", \"Topic4\", \"Topic4\", \"Topic4\", \"Topic4\", \"Topic4\", \"Topic4\", \"Topic4\", \"Topic4\", \"Topic4\", \"Topic4\", \"Topic4\", \"Topic4\", \"Topic4\", \"Topic4\", \"Topic4\", \"Topic4\", \"Topic4\", \"Topic4\", \"Topic4\", \"Topic4\", \"Topic4\", \"Topic4\", \"Topic4\", \"Topic4\", \"Topic4\", \"Topic4\", \"Topic4\", \"Topic4\", \"Topic4\", \"Topic4\", \"Topic4\", \"Topic4\", \"Topic4\", \"Topic4\", \"Topic4\", \"Topic4\", \"Topic4\", \"Topic4\", \"Topic4\", \"Topic4\", \"Topic4\", \"Topic4\", \"Topic4\", \"Topic4\", \"Topic4\", \"Topic5\", \"Topic5\", \"Topic5\", \"Topic5\", \"Topic5\", \"Topic5\", \"Topic5\", \"Topic5\", \"Topic5\", \"Topic5\", \"Topic5\", \"Topic5\", \"Topic5\", \"Topic5\", \"Topic5\", \"Topic5\", \"Topic5\", \"Topic5\", \"Topic5\", \"Topic5\", \"Topic5\", \"Topic5\", \"Topic5\", \"Topic5\", \"Topic5\", \"Topic5\", \"Topic5\", \"Topic5\", \"Topic5\", \"Topic5\", \"Topic5\", \"Topic5\", \"Topic5\", \"Topic5\", \"Topic5\", \"Topic5\", \"Topic5\", \"Topic5\", \"Topic5\", \"Topic5\", \"Topic5\", \"Topic6\", \"Topic6\", \"Topic6\", \"Topic6\", \"Topic6\", \"Topic6\", \"Topic6\", \"Topic6\", \"Topic6\", \"Topic6\", \"Topic6\", \"Topic6\", \"Topic6\", \"Topic6\", \"Topic6\", \"Topic6\", \"Topic6\", \"Topic6\", \"Topic6\", \"Topic6\", \"Topic6\", \"Topic6\", \"Topic6\", \"Topic6\", \"Topic6\", \"Topic6\", \"Topic6\", \"Topic6\", \"Topic6\", \"Topic6\", \"Topic6\", \"Topic6\", \"Topic6\", \"Topic6\", \"Topic6\", \"Topic6\", \"Topic6\", \"Topic6\", \"Topic6\", \"Topic7\", \"Topic7\", \"Topic7\", \"Topic7\", \"Topic7\", \"Topic7\", \"Topic7\", \"Topic7\", \"Topic7\", \"Topic7\", \"Topic7\", \"Topic7\", \"Topic7\", \"Topic7\", \"Topic7\", \"Topic7\", \"Topic7\", \"Topic7\", \"Topic7\", \"Topic7\", \"Topic7\", \"Topic7\", \"Topic7\", \"Topic7\", \"Topic7\", \"Topic7\", \"Topic7\", \"Topic7\", \"Topic7\", \"Topic7\", \"Topic7\", \"Topic7\", \"Topic7\", \"Topic7\", \"Topic7\", \"Topic7\", \"Topic7\", \"Topic7\", \"Topic7\", \"Topic7\", \"Topic8\", \"Topic8\", \"Topic8\", \"Topic8\", \"Topic8\", \"Topic8\", \"Topic8\", \"Topic8\", \"Topic8\", \"Topic8\", \"Topic8\", \"Topic8\", \"Topic8\", \"Topic8\", \"Topic8\", \"Topic8\", \"Topic8\", \"Topic8\", \"Topic8\", \"Topic8\", \"Topic8\", \"Topic8\", \"Topic8\", \"Topic8\", \"Topic8\", \"Topic8\", \"Topic8\", \"Topic8\", \"Topic8\", \"Topic8\", \"Topic8\", \"Topic8\", \"Topic8\", \"Topic8\", \"Topic8\", \"Topic8\", \"Topic8\", \"Topic8\"], \"Freq\": [775.0, 1048.0, 623.0, 434.0, 589.0, 483.0, 349.0, 301.0, 304.0, 384.0, 284.0, 263.0, 420.0, 246.0, 260.0, 217.0, 214.0, 207.0, 202.0, 197.0, 194.0, 324.0, 200.0, 221.0, 335.0, 203.0, 182.0, 252.0, 236.0, 234.0, 588.1585693359375, 235.72586059570312, 233.38241577148438, 231.33680725097656, 220.1585693359375, 160.0025634765625, 144.82553100585938, 139.8812255859375, 116.6061019897461, 99.86646270751953, 97.40786743164062, 95.34681701660156, 84.22830963134766, 82.01456451416016, 78.07842254638672, 77.90829467773438, 76.14443969726562, 70.86607360839844, 67.07044219970703, 66.19109344482422, 66.17034149169922, 61.74835968017578, 59.64971923828125, 58.291934967041016, 56.29878616333008, 55.626155853271484, 49.981666564941406, 49.684471130371094, 47.90550231933594, 47.44670867919922, 178.44741821289062, 198.7534942626953, 203.7823944091797, 224.57443237304688, 147.655029296875, 120.51571655273438, 121.94717407226562, 130.9508819580078, 99.3818359375, 99.35149383544922, 146.69943237304688, 533.1436157226562, 144.6995391845703, 140.06640625, 88.81065368652344, 86.34832763671875, 88.41815948486328, 89.79228210449219, 129.8054656982422, 120.45648193359375, 108.33872985839844, 105.03163146972656, 69.54484558105469, 65.91183471679688, 65.75273895263672, 64.72335815429688, 64.25508880615234, 60.20556640625, 58.35667419433594, 58.27030944824219, 58.2080078125, 54.10689163208008, 53.373653411865234, 49.635894775390625, 47.25518798828125, 46.2286491394043, 45.66600799560547, 44.38894271850586, 42.31167984008789, 39.85902786254883, 39.80015182495117, 39.5955696105957, 38.36846923828125, 37.197505950927734, 36.99178695678711, 36.55826187133789, 35.861488342285156, 34.64716339111328, 120.91996002197266, 627.8543701171875, 88.60599517822266, 129.144775390625, 66.3638687133789, 70.99557495117188, 190.7766571044922, 83.22801208496094, 65.44217681884766, 129.70779418945312, 105.88926696777344, 416.8048095703125, 74.36551666259766, 125.5098648071289, 73.49949645996094, 77.59868621826172, 72.74716186523438, 60.0717658996582, 774.4082641601562, 348.67803955078125, 303.8731994628906, 110.74554443359375, 102.49803924560547, 95.57981872558594, 66.97377014160156, 64.43203735351562, 61.83505630493164, 61.58332824707031, 60.7197380065918, 57.37237548828125, 55.91250991821289, 48.20261764526367, 41.99250793457031, 40.48532485961914, 40.37791442871094, 39.76951217651367, 39.399627685546875, 36.435089111328125, 35.67382049560547, 35.12571716308594, 34.59060287475586, 33.37494659423828, 33.268463134765625, 31.381620407104492, 29.80133628845215, 29.142465591430664, 28.705915451049805, 28.628582000732422, 244.22535705566406, 57.63825607299805, 470.2366027832031, 102.56832885742188, 69.96391296386719, 223.4580078125, 59.11922836303711, 83.81417846679688, 100.42948150634766, 131.125244140625, 283.5765380859375, 104.78962707519531, 54.753318786621094, 171.77783203125, 141.05027770996094, 135.75450134277344, 122.80705261230469, 92.96515655517578, 89.46297454833984, 84.16539764404297, 76.54295349121094, 75.38705444335938, 69.22509002685547, 62.102378845214844, 59.60414505004883, 54.87901306152344, 50.125205993652344, 47.04634094238281, 45.2859001159668, 42.38462829589844, 42.021507263183594, 41.858428955078125, 40.732933044433594, 40.71013641357422, 39.149539947509766, 36.07329559326172, 35.47164535522461, 34.63974380493164, 33.47632598876953, 33.22251510620117, 32.6893310546875, 32.1148681640625, 31.241024017333984, 145.8713836669922, 304.01904296875, 55.82081985473633, 138.66087341308594, 163.14828491210938, 61.67702102661133, 136.12339782714844, 179.0695037841797, 80.93988037109375, 66.98837280273438, 47.541542053222656, 361.2793884277344, 65.5472640991211, 71.97916412353516, 71.80364990234375, 70.39586639404297, 71.44170379638672, 245.5267333984375, 216.50367736816406, 214.0167236328125, 181.701904296875, 132.0751953125, 119.65597534179688, 109.970458984375, 107.16493225097656, 83.9216079711914, 78.20877075195312, 72.78729248046875, 66.4650650024414, 66.30059814453125, 62.67731475830078, 56.43552017211914, 54.10124969482422, 53.472782135009766, 51.62195587158203, 45.55606460571289, 42.59110641479492, 41.999000549316406, 41.83197784423828, 41.323604583740234, 40.110069274902344, 39.401405334472656, 38.03195571899414, 37.625038146972656, 36.37728500366211, 36.346927642822266, 36.01834487915039, 195.4672088623047, 117.18505096435547, 82.07795715332031, 114.21939086914062, 48.25643539428711, 78.3106689453125, 51.271331787109375, 276.02056884765625, 71.57291412353516, 51.26736831665039, 48.30385971069336, 301.0745849609375, 206.65252685546875, 201.71018981933594, 196.67271423339844, 113.37718200683594, 111.28976440429688, 107.21273803710938, 102.4451675415039, 99.39671325683594, 95.8135986328125, 89.27800750732422, 83.13963317871094, 78.11565399169922, 75.51499938964844, 71.26737213134766, 65.99183654785156, 59.188880920410156, 58.6241569519043, 57.03759002685547, 50.0152702331543, 48.47968673706055, 45.13552474975586, 41.895145416259766, 41.71595001220703, 38.53432083129883, 32.66594314575195, 30.847843170166016, 30.46061134338379, 30.349597930908203, 29.97645378112793, 365.00701904296875, 47.734619140625, 39.55107498168945, 45.453372955322266, 56.01758575439453, 152.13079833984375, 227.82034301757812, 57.964019775390625, 44.62165069580078, 433.17633056640625, 283.5496826171875, 262.92718505859375, 193.6746368408203, 160.06964111328125, 128.3578338623047, 107.42912292480469, 95.8009033203125, 94.9893798828125, 93.83690643310547, 89.08374786376953, 76.98542785644531, 66.4237060546875, 64.90630340576172, 50.8640251159668, 48.489097595214844, 45.396602630615234, 42.055213928222656, 41.708438873291016, 41.33069610595703, 36.141990661621094, 35.88941955566406, 35.75309371948242, 34.80146408081055, 34.51218032836914, 33.430782318115234, 32.4627685546875, 32.401771545410156, 30.45462417602539, 30.442689895629883, 193.62477111816406, 175.40403747558594, 40.111289978027344, 602.2179565429688, 232.76531982421875, 152.67874145507812, 81.1972885131836, 44.715660095214844, 42.84861755371094, 40.85832977294922, 135.63255310058594, 113.63201904296875, 85.78773498535156, 83.27201843261719, 82.5848159790039, 76.99929809570312, 71.6461410522461, 70.78302001953125, 63.58301544189453, 61.87629318237305, 55.140228271484375, 54.633914947509766, 52.39971923828125, 51.72189712524414, 51.03708267211914, 48.38136291503906, 46.76116180419922, 45.22377395629883, 44.74801254272461, 44.69340896606445, 44.241764068603516, 43.2486686706543, 43.009124755859375, 40.424625396728516, 36.02846145629883, 34.46879196166992, 32.57255172729492, 32.35919952392578, 31.584348678588867, 31.01586151123047, 148.33578491210938, 87.13565063476562, 143.31492614746094, 54.601837158203125, 47.22171401977539, 295.61334228515625, 48.871009826660156, 53.03226089477539], \"Term\": [\"xbox\", \"window\", \"game\", \"android\", \"market\", \"pc\", \"one\", \"halo\", \"march\", \"data\", \"live\", \"project\", \"update\", \"award\", \"news\", \"music\", \"iheartradio\", \"collection\", \"chief\", \"master\", \"xcloud\", \"cloud\", \"io\", \"office\", \"service\", \"coming\", \"gb\", \"app\", \"key\", \"player\", \"market\", \"key\", \"player\", \"ibm\", \"global\", \"oracle\", \"growth\", \"analysis\", \"sap\", \"corporation\", \"forecast\", \"trend\", \"enterprise\", \"automatically\", \"crm\", \"blockchain\", \"cisco\", \"white\", \"research\", \"intelligence\", \"uninstall\", \"cagr\", \"phantom\", \"size\", \"artificial\", \"information\", \"center\", \"opportunity\", \"nvidia\", \"reality\", \"top\", \"technology\", \"system\", \"software\", \"solution\", \"company\", \"apple\", \"dynamic\", \"industry\", \"management\", \"google\", \"microsoft\", \"cloud\", \"service\", \"controller\", \"report\", \"amazon\", \"business\", \"streaming\", \"development\", \"free\", \"server\", \"technical\", \"edge\", \"download\", \"next\", \"sr\", \"alert\", \"take\", \"could\", \"school\", \"converter\", \"all\", \"using\", \"series\", \"pi\", \"city\", \"pdf\", \"upgrade\", \"end\", \"learning\", \"batch\", \"s\", \"call\", \"marketplace\", \"retail\", \"datasharing\", \"bug\", \"get\", \"window\", \"day\", \"support\", \"best\", \"sale\", \"update\", \"m\", \"online\", \"google\", \"user\", \"microsoft\", \"excel\", \"new\", \"launch\", \"business\", \"ai\", \"big\", \"xbox\", \"one\", \"march\", \"wireless\", \"patch\", \"techeia\", \"daily\", \"tuesday\", \"pm\", \"console\", \"pas\", \"announced\", \"studio\", \"am\", \"memory\", \"vulnerability\", \"summit\", \"two\", \"reveals\", \"attack\", \"infrastructure\", \"p\", \"winner\", \"partnership\", \"spring\", \"april\", \"gold\", \"list\", \"us\", \"roundup\", \"news\", \"edition\", \"game\", \"announces\", \"gaming\", \"update\", \"year\", \"release\", \"microsofts\", \"new\", \"microsoft\", \"pc\", \"coming\", \"deal\", \"open\", \"criminal\", \"investigation\", \"team\", \"mobile\", \"photo\", \"firm\", \"touch\", \"source\", \"facebooks\", \"power\", \"seeing\", \"region\", \"sharing\", \"blog\", \"product\", \"customer\", \"entry\", \"case\", \"engine\", \"blind\", \"people\", \"hardware\", \"save\", \"compression\", \"threat\", \"o\", \"dominance\", \"here\", \"facebook\", \"data\", \"explore\", \"azure\", \"tech\", \"help\", \"ai\", \"cloud\", \"security\", \"u\", \"public\", \"microsoft\", \"video\", \"user\", \"app\", \"microsofts\", \"new\", \"award\", \"music\", \"iheartradio\", \"gb\", \"surface\", \"engineer\", \"pro\", \"assistant\", \"i\", \"senior\", \"program\", \"driver\", \"win\", \"executive\", \"administrative\", \"ram\", \"k\", \"core\", \"ssd\", \"ii\", \"swift\", \"c\", \"taylor\", \"usawaredmond\", \"bringing\", \"home\", \"expands\", \"tablet\", \"go\", \"administrator\", \"office\", \"laptop\", \"v\", \"manager\", \"computer\", \"dell\", \"tool\", \"microsoft\", \"software\", \"digital\", \"desktop\", \"halo\", \"collection\", \"chief\", \"master\", \"reach\", \"stream\", \"msft\", \"world\", \"ford\", \"network\", \"build\", \"steam\", \"co\", \"job\", \"directx\", \"f\", \"preview\", \"know\", \"de\", \"running\", \"government\", \"r\", \"bill\", \"warcraft\", \"holding\", \"tc\", \"test\", \"essay\", \"australia\", \"h\", \"pc\", \"million\", \"drive\", \"insider\", \"need\", \"window\", \"microsoft\", \"support\", \"release\", \"android\", \"live\", \"project\", \"xcloud\", \"phone\", \"developer\", \"brings\", \"show\", \"screen\", \"mirroring\", \"stack\", \"apps\", \"forza\", \"week\", \"testing\", \"beta\", \"demo\", \"issue\", \"way\", \"uk\", \"net\", \"st\", \"horizon\", \"finally\", \"showcase\", \"plan\", \"linux\", \"across\", \"ceo\", \"iphone\", \"io\", \"service\", \"hit\", \"microsoft\", \"window\", \"game\", \"new\", \"feature\", \"amazon\", \"microsofts\", \"say\", \"foxconn\", \"patent\", \"account\", \"lawsuit\", \"display\", \"minecraft\", \"royalty\", \"work\", \"internet\", \"device\", \"pay\", \"reject\", \"word\", \"play\", \"th\", \"never\", \"look\", \"limited\", \"code\", \"camera\", \"specialist\", \"explorer\", \"right\", \"via\", \"official\", \"macbook\", \"education\", \"plus\", \"browser\", \"coming\", \"let\", \"app\", \"store\", \"want\", \"microsoft\", \"make\", \"microsofts\"], \"Total\": [775.0, 1048.0, 623.0, 434.0, 589.0, 483.0, 349.0, 301.0, 304.0, 384.0, 284.0, 263.0, 420.0, 246.0, 260.0, 217.0, 214.0, 207.0, 202.0, 197.0, 194.0, 324.0, 200.0, 221.0, 335.0, 203.0, 182.0, 252.0, 236.0, 234.0, 589.0283203125, 236.5958709716797, 234.25218200683594, 232.20651245117188, 221.02847290039062, 160.8722686767578, 145.69522094726562, 140.7510223388672, 117.4758071899414, 100.73617553710938, 98.2775650024414, 96.21662139892578, 85.09841918945312, 82.88472747802734, 78.94871520996094, 78.78205108642578, 77.01416778564453, 71.73633575439453, 67.94044494628906, 67.06094360351562, 67.04033660888672, 62.618064880371094, 60.5198860168457, 59.161773681640625, 57.16857147216797, 56.49653625488281, 50.85176086425781, 50.55434036254883, 48.77566909790039, 48.316612243652344, 195.73431396484375, 227.287841796875, 258.2262878417969, 296.90185546875, 181.9914093017578, 147.6059112548828, 151.14280700683594, 172.92518615722656, 120.7898178100586, 121.7587661743164, 277.1597900390625, 2996.4765625, 324.5192565917969, 335.375244140625, 116.8549575805664, 117.6001205444336, 153.3686981201172, 198.26870727539062, 130.6791534423828, 121.32940673828125, 109.21128845214844, 105.90396881103516, 70.41755676269531, 66.78426361083984, 66.62518310546875, 65.59619903564453, 65.1274642944336, 61.07780838012695, 59.22908401489258, 59.14297103881836, 59.08028793334961, 54.97898483276367, 54.24606704711914, 50.50883865356445, 48.12747573852539, 47.10087203979492, 46.538761138916016, 45.26134490966797, 43.18385314941406, 40.731388092041016, 40.672969818115234, 40.467681884765625, 39.2414665222168, 38.06983184814453, 37.86395263671875, 37.43092727661133, 36.73514175415039, 35.51952362060547, 135.04766845703125, 1048.248046875, 111.2358169555664, 187.85260009765625, 82.36123657226562, 96.94009399414062, 420.76708984375, 122.50031280517578, 90.26060485839844, 277.1597900390625, 201.31744384765625, 2996.4765625, 116.48839569091797, 499.2286376953125, 155.11788940429688, 198.26870727539062, 209.62315368652344, 106.63363647460938, 775.2753295898438, 349.54498291015625, 304.7401428222656, 111.6125259399414, 103.36487579345703, 96.44646453857422, 67.84081268310547, 65.29878997802734, 62.701839447021484, 62.45038986206055, 61.58659744262695, 58.239906311035156, 56.7796745300293, 49.069278717041016, 42.860206604003906, 41.352264404296875, 41.245033264160156, 40.63646697998047, 40.26679229736328, 37.3021125793457, 36.54193115234375, 35.99309158325195, 35.458065032958984, 34.24200439453125, 34.135520935058594, 32.24868392944336, 30.66836929321289, 30.009794235229492, 29.573299407958984, 29.495512008666992, 260.5238342285156, 61.484561920166016, 623.6561889648438, 121.86311340332031, 79.78840637207031, 420.76708984375, 83.73092651367188, 149.8055419921875, 283.4637451171875, 499.2286376953125, 2996.4765625, 483.8576965332031, 203.81813049316406, 172.6484375, 141.92050170898438, 136.62437438964844, 123.67691802978516, 93.83540344238281, 90.3341293334961, 85.03549194335938, 77.41300964355469, 76.25712585449219, 70.09523010253906, 62.972267150878906, 60.47447204589844, 55.74893569946289, 50.99669647216797, 47.91642379760742, 46.15607833862305, 43.25485610961914, 42.8916130065918, 42.72832107543945, 41.60320281982422, 41.58047103881836, 40.01943588256836, 36.94387435913086, 36.341617584228516, 35.51042938232422, 34.346187591552734, 34.092899322509766, 33.55995178222656, 32.984920501708984, 32.11180877685547, 168.07000732421875, 384.7369689941406, 60.77470016479492, 176.9552459716797, 217.4815673828125, 71.86866760253906, 209.62315368652344, 324.5192565917969, 133.7640838623047, 107.90843200683594, 55.956844329833984, 2996.4765625, 123.9813003540039, 201.31744384765625, 252.5469970703125, 283.4637451171875, 499.2286376953125, 246.40087890625, 217.37783813476562, 214.89085388183594, 182.57606506347656, 132.9494171142578, 120.53023529052734, 110.84469604492188, 108.03913879394531, 84.79580688476562, 79.08306121826172, 73.66153717041016, 67.33951568603516, 67.17507934570312, 63.551727294921875, 57.30963897705078, 54.97537612915039, 54.34723663330078, 52.496177673339844, 46.430171966552734, 43.46535873413086, 42.873104095458984, 42.70655059814453, 42.19771194458008, 40.984371185302734, 40.27703094482422, 38.906585693359375, 38.49981689453125, 37.25181579589844, 37.22142028808594, 36.892601013183594, 221.26849365234375, 132.72569274902344, 94.04761505126953, 148.51333618164062, 54.09598159790039, 116.01007843017578, 65.55387878417969, 2996.4765625, 296.90185546875, 98.5771255493164, 94.14879608154297, 301.9355773925781, 207.51344299316406, 202.57113647460938, 197.53359985351562, 114.23823547363281, 112.1517333984375, 108.07389831542969, 103.30645751953125, 100.25775909423828, 96.6751480102539, 90.13914489746094, 84.00066375732422, 78.97660827636719, 76.3763656616211, 72.12843322753906, 66.85276794433594, 60.050445556640625, 59.485713958740234, 57.89863204956055, 50.878150939941406, 49.341575622558594, 45.997215270996094, 42.75619125366211, 42.576873779296875, 39.395233154296875, 33.52735900878906, 31.709083557128906, 31.32179069519043, 31.2109432220459, 30.837566375732422, 483.8576965332031, 55.57966232299805, 45.88041305541992, 64.08448791503906, 94.13131713867188, 1048.248046875, 2996.4765625, 187.85260009765625, 149.8055419921875, 434.0398864746094, 284.4134826660156, 263.7908020019531, 194.53814697265625, 160.93316650390625, 129.2215576171875, 108.2927474975586, 96.66461944580078, 95.8530502319336, 94.70030975341797, 89.94781494140625, 77.84904479980469, 67.28718566894531, 65.77010345458984, 51.72769546508789, 49.3525390625, 46.260101318359375, 42.919044494628906, 42.57246017456055, 42.19449234008789, 37.005672454833984, 36.753021240234375, 36.61656951904297, 35.66597366333008, 35.37593078613281, 34.29460525512695, 33.3266487121582, 33.26686096191406, 31.318159103393555, 31.306503295898438, 200.3946075439453, 335.375244140625, 45.54411315917969, 2996.4765625, 1048.248046875, 623.6561889648438, 499.2286376953125, 97.34877014160156, 153.3686981201172, 283.4637451171875, 136.48362731933594, 114.48277282714844, 86.63853454589844, 84.12297058105469, 83.43557739257812, 77.85050201416016, 72.4975357055664, 71.63375091552734, 64.43411254882812, 62.7273063659668, 55.991554260253906, 55.484683990478516, 53.25044631958008, 52.57288360595703, 51.8883056640625, 49.23248291015625, 47.61187744140625, 46.075008392333984, 45.59943389892578, 45.54450988769531, 45.09300994873047, 44.09963607788086, 43.8601188659668, 41.275821685791016, 36.880027770996094, 35.32002639770508, 33.42351531982422, 33.210548400878906, 32.435508728027344, 31.866819381713867, 203.81813049316406, 122.36448669433594, 252.5469970703125, 67.93316650390625, 60.60173034667969, 2996.4765625, 73.642333984375, 283.4637451171875], \"loglift\": [30.0, 29.0, 28.0, 27.0, 26.0, 25.0, 24.0, 23.0, 22.0, 21.0, 20.0, 19.0, 18.0, 17.0, 16.0, 15.0, 14.0, 13.0, 12.0, 11.0, 10.0, 9.0, 8.0, 7.0, 6.0, 5.0, 4.0, 3.0, 2.0, 1.0, 1.5861999988555908, 1.5839999914169312, 1.5839999914169312, 1.583899974822998, 1.5836999416351318, 1.5822999477386475, 1.5816999673843384, 1.5815000534057617, 1.580299973487854, 1.5789999961853027, 1.5787999629974365, 1.5786000490188599, 1.5773999691009521, 1.5771000385284424, 1.5765999555587769, 1.5765000581741333, 1.576300024986267, 1.5755000114440918, 1.5748000144958496, 1.5745999813079834, 1.5745999813079834, 1.573699951171875, 1.573199987411499, 1.5729000568389893, 1.5723999738693237, 1.5721999406814575, 1.5703999996185303, 1.5702999830245972, 1.569700002670288, 1.5694999694824219, 1.4952000379562378, 1.4535000324249268, 1.3509000539779663, 1.308500051498413, 1.378600001335144, 1.3848999738693237, 1.3730000257492065, 1.3095999956130981, 1.3926000595092773, 1.3842999935150146, 0.9514999985694885, -0.1386999934911728, 0.7799999713897705, 0.7146000266075134, 1.3133000135421753, 1.2788000106811523, 1.0369000434875488, 0.7955999970436096, 1.9666999578475952, 1.9661999940872192, 1.965399980545044, 1.9651000499725342, 1.9608999490737915, 1.9601999521255493, 1.9601999521255493, 1.9600000381469727, 1.9599000215530396, 1.9589999914169312, 1.9586000442504883, 1.9585000276565552, 1.9585000276565552, 1.9573999643325806, 1.957200050354004, 1.9559999704360962, 1.9551000595092773, 1.954699993133545, 1.9544999599456787, 1.9538999795913696, 1.9529999494552612, 1.95169997215271, 1.95169997215271, 1.9515999555587769, 1.9508999586105347, 1.9501999616622925, 1.9500999450683594, 1.9498000144958496, 1.9493000507354736, 1.9485000371932983, 1.8629000186920166, 1.460800051689148, 1.74590003490448, 1.5987000465393066, 1.7574000358581543, 1.6619000434875488, 1.1823999881744385, 1.586899995803833, 1.651900053024292, 1.2141000032424927, 1.330899953842163, 0.0007999999797903001, 1.5246000289916992, 0.5927000045776367, 1.2265000343322754, 1.0353000164031982, 0.9150999784469604, 1.3995000123977661, 2.095599889755249, 2.0941998958587646, 2.093899965286255, 2.088900089263916, 2.0882999897003174, 2.0876998901367188, 2.083899974822998, 2.083400011062622, 2.0827999114990234, 2.08270001411438, 2.0826001167297363, 2.081700086593628, 2.0813000202178955, 2.078900098800659, 2.0762999057769775, 2.075500011444092, 2.075500011444092, 2.075200080871582, 2.075000047683716, 2.073199987411499, 2.072700023651123, 2.0722999572753906, 2.072000026702881, 2.0710999965667725, 2.071000099182129, 2.069499969482422, 2.068000078201294, 2.0673999786376953, 2.066999912261963, 2.0669000148773193, 2.032099962234497, 2.032099962234497, 1.8143999576568604, 1.924399971961975, 1.9652999639511108, 1.4638999700546265, 1.7487000226974487, 1.5160000324249268, 1.0591000318527222, 0.7598000168800354, -0.26100000739097595, 0.5669000148773193, 0.7822999954223633, 2.108099937438965, 2.1070001125335693, 2.106800079345703, 2.106100082397461, 2.103800058364868, 2.1034998893737793, 2.1029000282287598, 2.101900100708008, 2.1017000675201416, 2.1006999015808105, 2.099299907684326, 2.0987000465393066, 2.097399950027466, 2.095900058746338, 2.0947999954223633, 2.094099998474121, 2.0927999019622803, 2.0927000045776367, 2.092600107192993, 2.0920000076293945, 2.0920000076293945, 2.091200113296509, 2.0892999172210693, 2.088900089263916, 2.0882999897003174, 2.0875000953674316, 2.0873000621795654, 2.086899995803833, 2.086400032043457, 2.085700035095215, 1.971500039100647, 1.8776999711990356, 2.02810001373291, 1.8693000078201294, 1.825700044631958, 1.9601999521255493, 1.681399941444397, 1.5185999870300293, 1.61080002784729, 1.6363999843597412, 1.9501999616622925, -0.002400000113993883, 1.4758000373840332, 1.0846999883651733, 0.8554999828338623, 0.7202000021934509, 0.16899999976158142, 2.1782000064849854, 2.1777000427246094, 2.1775999069213867, 2.1768999099731445, 2.175100088119507, 2.1744000911712646, 2.173799991607666, 2.1735999584198, 2.1714000701904297, 2.170599937438965, 2.169800043106079, 2.1686999797821045, 2.168600082397461, 2.1679000854492188, 2.1663999557495117, 2.1656999588012695, 2.1654999256134033, 2.164900064468384, 2.1626999378204346, 2.161400079727173, 2.161099910736084, 2.1610000133514404, 2.160799980163574, 2.1602001190185547, 2.1596999168395996, 2.1589999198913574, 2.1586999893188477, 2.1579999923706055, 2.157900094985962, 2.1577000617980957, 2.0576999187469482, 2.0571999549865723, 2.045599937438965, 1.9191999435424805, 2.067500114440918, 1.788699984550476, 1.9359999895095825, -0.2029999941587448, 0.7590000033378601, 1.527899980545044, 1.5144000053405762, 2.200000047683716, 2.198699951171875, 2.1986000537872314, 2.1984000205993652, 2.1953001022338867, 2.1951000690460205, 2.1947999000549316, 2.1944000720977783, 2.194200038909912, 2.1939001083374023, 2.19320011138916, 2.192500114440918, 2.1919000148773193, 2.191499948501587, 2.1907999515533447, 2.1898999214172363, 2.1884000301361084, 2.188199996948242, 2.1877999305725098, 2.185699939727783, 2.1851999759674072, 2.1839001178741455, 2.182499885559082, 2.1823999881744385, 2.1807000637054443, 2.176800012588501, 2.175299882888794, 2.1749000549316406, 2.174799919128418, 2.174499988555908, 1.9208999872207642, 2.0506999492645264, 2.0543999671936035, 1.8593000173568726, 1.6837999820709229, 0.2727000117301941, -0.37380000948905945, 1.0269999504089355, 0.9916999936103821, 2.2076001167297363, 2.2065000534057617, 2.2063000202178955, 2.2051000595092773, 2.204200029373169, 2.202899932861328, 2.2016000747680664, 2.2005999088287354, 2.200500011444092, 2.2004001140594482, 2.199899911880493, 2.1984000205993652, 2.196700096130371, 2.1963999271392822, 2.192699909210205, 2.1919000148773193, 2.190700054168701, 2.189199924468994, 2.1891000270843506, 2.1888999938964844, 2.186000108718872, 2.185800075531006, 2.185699939727783, 2.184999942779541, 2.1849000453948975, 2.1840999126434326, 2.183300018310547, 2.183199882507324, 2.1816000938415527, 2.1816000938415527, 2.1751999855041504, 1.561400055885315, 2.0826001167297363, 0.6050000190734863, 0.7046999931335449, 0.802299976348877, 0.39340001344680786, 1.4315999746322632, 0.9344000220298767, 0.272599995136261, 2.521699905395508, 2.5204999446868896, 2.5181000232696533, 2.5178000926971436, 2.517699956893921, 2.5169999599456787, 2.516200065612793, 2.5160000324249268, 2.514699935913086, 2.5143001079559326, 2.512700080871582, 2.512500047683716, 2.511899948120117, 2.511699914932251, 2.5114998817443848, 2.5106000900268555, 2.509999990463257, 2.5092999935150146, 2.5090999603271484, 2.5090999603271484, 2.5088999271392822, 2.508500099182129, 2.5083999633789062, 2.507200002670288, 2.5046000480651855, 2.5035998821258545, 2.50219988822937, 2.502000093460083, 2.5013999938964844, 2.5009000301361084, 2.210200071334839, 2.188499927520752, 1.961400032043457, 2.309499979019165, 2.2785000801086426, 0.211899995803833, 2.118000030517578, 0.8518000245094299], \"logprob\": [30.0, 29.0, 28.0, 27.0, 26.0, 25.0, 24.0, 23.0, 22.0, 21.0, 20.0, 19.0, 18.0, 17.0, 16.0, 15.0, 14.0, 13.0, 12.0, 11.0, 10.0, 9.0, 8.0, 7.0, 6.0, 5.0, 4.0, 3.0, 2.0, 1.0, -2.932300090789795, -3.8466999530792236, -3.8566999435424805, -3.865499973297119, -3.9149999618530273, -4.234099864959717, -4.333799839019775, -4.368500232696533, -4.55049991607666, -4.70550012588501, -4.730400085449219, -4.751800060272217, -4.875800132751465, -4.902400016784668, -4.951600074768066, -4.953800201416016, -4.9766998291015625, -5.048500061035156, -5.103600025177002, -5.116799831390381, -5.117099761962891, -5.186299800872803, -5.220799922943115, -5.243899822235107, -5.27869987487793, -5.2906999588012695, -5.39769983291626, -5.403600215911865, -5.440100193023682, -5.449699878692627, -4.125, -4.017300128936768, -3.992300033569336, -3.8951001167297363, -4.314499855041504, -4.517600059509277, -4.50570011138916, -4.434500217437744, -4.710400104522705, -4.710700035095215, -4.321000099182129, -3.0304999351501465, -4.334700107574463, -4.367199897766113, -4.822800159454346, -4.850900173187256, -4.827300071716309, -4.811800003051758, -4.057600021362305, -4.132299900054932, -4.238399982452393, -4.269400119781494, -4.681700229644775, -4.735300064086914, -4.73769998550415, -4.753499984741211, -4.760799884796143, -4.825900077819824, -4.857100009918213, -4.858500003814697, -4.859600067138672, -4.932700157165527, -4.946300029754639, -5.018899917602539, -5.0680999755859375, -5.090000152587891, -5.10230016708374, -5.1305999755859375, -5.178599834442139, -5.23829984664917, -5.239799976348877, -5.244900226593018, -5.276400089263916, -5.307400226593018, -5.312900066375732, -5.324699878692627, -5.343999862670898, -5.378399848937988, -4.128499984741211, -2.481300115585327, -4.4394001960754395, -4.062699794769287, -4.728499889373779, -4.660999774932861, -3.672499895095825, -4.501999855041504, -4.742499828338623, -4.058300018310547, -4.261199951171875, -2.8910000324249268, -4.61460018157959, -4.09119987487793, -4.626299858093262, -4.5721001625061035, -4.636600017547607, -4.828100204467773, -2.148200035095215, -2.9460999965667725, -3.083699941635132, -4.093100070953369, -4.170499801635742, -4.240300178527832, -4.5960001945495605, -4.634699821472168, -4.67579984664917, -4.679900169372559, -4.693999767303467, -4.750699996948242, -4.776500225067139, -4.924900054931641, -5.06279993057251, -5.099400043487549, -5.1020002365112305, -5.117199897766113, -5.126500129699707, -5.204800128936768, -5.225900173187256, -5.241399765014648, -5.256700038909912, -5.292500019073486, -5.2957000732421875, -5.354100227355957, -5.405700206756592, -5.428100109100342, -5.44320011138916, -5.445899963378906, -3.3022000789642334, -4.746099948883057, -2.6470999717712402, -4.1697998046875, -4.552299976348877, -3.3910999298095703, -4.720699787139893, -4.371699810028076, -4.190800189971924, -3.924099922180176, -3.1528000831604004, -4.1483001708984375, -4.797500133514404, -3.637700080871582, -3.834700107574463, -3.872999906539917, -3.9732000827789307, -4.2515997886657715, -4.289999961853027, -4.351099967956543, -4.446000099182129, -4.46120023727417, -4.546500205993652, -4.655099868774414, -4.696100234985352, -4.77869987487793, -4.86929988861084, -4.932700157165527, -4.970900058746338, -5.037099838256836, -5.0457000732421875, -5.049600124359131, -5.0767998695373535, -5.077400207519531, -5.116499900817871, -5.198299884796143, -5.215099811553955, -5.238900184631348, -5.2729997634887695, -5.280600070953369, -5.296800136566162, -5.314499855041504, -5.342100143432617, -3.801100015640259, -3.066800117492676, -4.76170015335083, -3.851799964904785, -3.689199924468994, -4.661900043487549, -3.870300054550171, -3.596100091934204, -4.390100002288818, -4.5792999267578125, -4.922299861907959, -2.894200086593628, -4.601099967956543, -4.507500171661377, -4.509900093078613, -4.529699802398682, -4.514999866485596, -3.211899995803833, -3.3376998901367188, -3.3492000102996826, -3.5129001140594482, -3.831899881362915, -3.9307000637054443, -4.015100002288818, -4.040900230407715, -4.285399913787842, -4.355899810791016, -4.427800178527832, -4.518599987030029, -4.521100044250488, -4.577300071716309, -4.682199954986572, -4.724400043487549, -4.736100196838379, -4.771399974822998, -4.896399974822998, -4.963699817657471, -4.977700233459473, -4.981599807739258, -4.993899822235107, -5.02370023727417, -5.041500091552734, -5.076900005340576, -5.087600231170654, -5.121399879455566, -5.122200012207031, -5.13129997253418, -3.4398999214172363, -3.9514999389648438, -4.307600021362305, -3.9772000312805176, -4.838799953460693, -4.354599952697754, -4.778200149536133, -3.0947999954223633, -4.4446001052856445, -4.778200149536133, -4.837800025939941, -2.986799955368042, -3.3631999492645264, -3.387399911880493, -3.4126999378204346, -3.9635000228881836, -3.982100009918213, -4.019400119781494, -4.064899921417236, -4.095099925994873, -4.131800174713135, -4.202400207519531, -4.27370023727417, -4.335999965667725, -4.369900226593018, -4.427800178527832, -4.504700183868408, -4.613500118255615, -4.6230998039245605, -4.6504998207092285, -4.781899929046631, -4.8130998611450195, -4.884500026702881, -4.959000110626221, -4.9633002281188965, -5.042699813842773, -5.207900047302246, -5.265100002288818, -5.2778000831604, -5.281400203704834, -5.293799877166748, -2.794300079345703, -4.828499794006348, -5.016600131988525, -4.877500057220459, -4.668499946594238, -3.6695001125335693, -3.2655999660491943, -4.634399890899658, -4.895999908447266, -2.616300106048584, -3.04010009765625, -3.115600109100342, -3.421299934387207, -3.611799955368042, -3.8326001167297363, -4.0106000900268555, -4.125199794769287, -4.133699893951416, -4.145899772644043, -4.19789981842041, -4.343800067901611, -4.491399765014648, -4.514500141143799, -4.758299827575684, -4.806099891662598, -4.872000217437744, -4.948500156402588, -4.956699848175049, -4.965799808502197, -5.099999904632568, -5.10699987411499, -5.110799789428711, -5.137800216674805, -5.146100044250488, -5.177999973297119, -5.207300186157227, -5.209199905395508, -5.271200180053711, -5.271599769592285, -3.4214999675750732, -3.520400047302246, -4.995800018310547, -2.286799907684326, -3.2374000549316406, -3.65910005569458, -4.290599822998047, -4.8871002197265625, -4.929800033569336, -4.97730016708374, -3.4591000080108643, -3.6361000537872314, -3.9172000885009766, -3.946899890899658, -3.955199956893921, -4.025199890136719, -4.097300052642822, -4.109399795532227, -4.216700077056885, -4.243899822235107, -4.359099864959717, -4.3684000968933105, -4.410099983215332, -4.423099994659424, -4.436500072479248, -4.4899001121521, -4.52400016784668, -4.557400226593018, -4.567999839782715, -4.569200038909912, -4.579400062561035, -4.602099895477295, -4.607600212097168, -4.669600009918213, -4.7846999168396, -4.828999996185303, -4.8856000900268555, -4.892099857330322, -4.916399955749512, -4.934500217437744, -3.369499921798706, -3.901599884033203, -3.4040000438690186, -4.36899995803833, -4.514200210571289, -2.680000066757202, -4.479800224304199, -4.398099899291992]}, \"token.table\": {\"Topic\": [8, 7, 5, 5, 2, 4, 2, 2, 3, 1, 2, 7, 1, 7, 3, 3, 6, 4, 7, 8, 1, 8, 7, 3, 1, 5, 3, 6, 1, 5, 4, 5, 2, 2, 7, 7, 1, 2, 7, 6, 4, 1, 4, 5, 7, 8, 2, 6, 1, 2, 4, 5, 5, 1, 2, 8, 4, 1, 7, 6, 1, 2, 1, 4, 6, 8, 6, 3, 8, 1, 6, 4, 1, 5, 3, 1, 6, 2, 5, 1, 2, 4, 1, 4, 3, 1, 4, 2, 2, 7, 6, 4, 1, 5, 7, 1, 2, 5, 7, 2, 8, 3, 5, 7, 6, 8, 4, 2, 5, 6, 5, 1, 4, 2, 3, 6, 8, 2, 4, 5, 1, 4, 6, 2, 4, 5, 5, 1, 4, 8, 6, 1, 4, 4, 2, 7, 7, 4, 6, 1, 7, 8, 2, 3, 7, 3, 5, 5, 2, 7, 1, 5, 3, 1, 2, 6, 1, 6, 6, 4, 4, 8, 4, 1, 7, 6, 5, 7, 5, 1, 5, 5, 1, 6, 8, 1, 3, 2, 6, 1, 8, 4, 4, 7, 7, 7, 6, 5, 1, 6, 2, 5, 2, 3, 5, 7, 8, 2, 6, 8, 8, 7, 3, 7, 8, 2, 5, 6, 8, 3, 8, 1, 6, 5, 8, 3, 1, 2, 6, 3, 1, 2, 3, 4, 5, 6, 7, 8, 2, 3, 4, 7, 8, 4, 6, 8, 7, 4, 6, 5, 4, 6, 8, 7, 6, 8, 1, 2, 3, 4, 5, 7, 3, 8, 2, 1, 4, 4, 5, 8, 3, 2, 4, 4, 1, 1, 3, 3, 3, 3, 8, 8, 3, 6, 7, 2, 4, 1, 7, 4, 2, 7, 8, 1, 8, 3, 4, 6, 5, 4, 5, 7, 3, 4, 6, 5, 6, 1, 4, 8, 3, 4, 6, 1, 4, 1, 2, 3, 8, 3, 8, 6, 2, 1, 2, 1, 4, 8, 2, 7, 1, 2, 3, 4, 4, 5, 2, 2, 1, 2, 4, 7, 4, 7, 7, 1, 1, 5, 1, 2, 4, 8, 3, 2, 5, 7, 7, 6, 5, 8, 6, 2, 3, 3, 2, 6, 5, 5, 1, 5, 8, 5, 2, 5, 6, 4, 1, 4, 6, 3, 2, 1, 4, 6, 7, 8, 4, 1, 5, 1, 3, 4, 1, 3, 3, 1, 4, 7, 1, 2, 3, 8, 2, 3, 5, 2, 4, 8, 2, 2, 5, 8, 2, 3, 4, 3, 4, 8, 6, 7, 7, 1, 5, 2, 5, 6, 7, 3, 3, 8, 8, 6, 3, 7, 1, 3, 6], \"Freq\": [0.986650824546814, 0.9619182348251343, 0.9771479964256287, 0.975805401802063, 0.34824398159980774, 0.648783266544342, 0.9823535084724426, 0.9770293831825256, 0.9782087802886963, 0.5737807154655457, 0.13692493736743927, 0.2803701162338257, 0.994664192199707, 0.9976041913032532, 0.9787103533744812, 0.845210611820221, 0.1559126377105713, 0.2850954532623291, 0.1465073823928833, 0.5662312507629395, 0.8071836233139038, 0.1852552592754364, 0.9890937209129333, 0.9612795114517212, 0.9795591831207275, 0.9903818368911743, 0.9650927782058716, 0.9612013101577759, 0.9893258213996887, 0.9983730912208557, 0.7855093479156494, 0.21474356949329376, 0.9884430766105652, 0.8013478517532349, 0.18212451040744781, 0.9725943207740784, 0.3094708323478699, 0.5626742243766785, 0.12191274762153625, 0.982313871383667, 0.9745264649391174, 0.9900732040405273, 0.9749528765678406, 0.9682938456535339, 0.9880625009536743, 0.9727987051010132, 0.9853735566139221, 0.9873623847961426, 0.45392942428588867, 0.3934054970741272, 0.08069856464862823, 0.07061124593019485, 0.9834556579589844, 0.9901295900344849, 0.9718981981277466, 0.9757609963417053, 0.9855010509490967, 0.9832501411437988, 0.9579107165336609, 0.9971805810928345, 0.9868314266204834, 0.9884234070777893, 0.44681477546691895, 0.5515851378440857, 0.9876341819763184, 0.9880444407463074, 0.9975257515907288, 0.26984840631484985, 0.7261375784873962, 0.8197503685951233, 0.17614470422267914, 0.960805356502533, 0.0924283042550087, 0.8873117566108704, 0.9927880167961121, 0.7616279125213623, 0.23105566203594208, 0.9821934700012207, 0.990548312664032, 0.9926920533180237, 0.9806744456291199, 0.9954299926757812, 0.9879831671714783, 0.9792124032974243, 0.9876061081886292, 0.20793427526950836, 0.7901502251625061, 0.9799880385398865, 0.8001019954681396, 0.19777801632881165, 0.9844791889190674, 0.9962441921234131, 0.3189378082752228, 0.6723553538322449, 0.9727604985237122, 0.05310742184519768, 0.4248593747615814, 0.5098312497138977, 0.9905468225479126, 0.9890429973602295, 0.9822909832000732, 0.29418590664863586, 0.5173614025115967, 0.18259814381599426, 0.9843552112579346, 0.9890751838684082, 0.970140278339386, 0.9906164407730103, 0.13077476620674133, 0.8718317151069641, 0.9801080226898193, 0.7575530409812927, 0.23709675669670105, 0.9882567524909973, 0.9433262348175049, 0.04879273474216461, 0.9635492563247681, 0.9820436239242554, 0.9860398173332214, 0.9956008195877075, 0.9870923757553101, 0.9829546213150024, 0.9577996730804443, 0.6352564096450806, 0.35196638107299805, 0.9913184642791748, 0.9870176911354065, 0.06581686437129974, 0.921436071395874, 0.9803894758224487, 0.9872440695762634, 0.1249479353427887, 0.8686856031417847, 0.9845603704452515, 0.5341618657112122, 0.46225544810295105, 0.981327474117279, 0.9946648478507996, 0.9874547719955444, 0.9870004653930664, 0.980870246887207, 0.9957830309867859, 0.9889087677001953, 0.7536203861236572, 0.24532747268676758, 0.8773204684257507, 0.11279834061861038, 0.9968447685241699, 0.8959799408912659, 0.09626230597496033, 0.9953469038009644, 0.9671850204467773, 0.9782065749168396, 0.5303799510002136, 0.469043493270874, 0.9728104472160339, 0.9952282309532166, 0.9728394150733948, 0.9969013929367065, 0.9630831480026245, 0.8626847267150879, 0.1252284198999405, 0.9653769731521606, 0.10978367179632187, 0.878269374370575, 0.9899674654006958, 0.9766983985900879, 0.983161449432373, 0.9906150102615356, 0.9948041439056396, 0.995854377746582, 0.9892935752868652, 0.8196055293083191, 0.04139421880245209, 0.13246150314807892, 0.9912112355232239, 0.9851695895195007, 0.2808791995048523, 0.7021980285644531, 0.9841794371604919, 0.9884052872657776, 0.994526743888855, 0.029940925538539886, 0.9680899381637573, 0.958267331123352, 0.9785865545272827, 0.9950722455978394, 0.9752105474472046, 0.9974814653396606, 0.9918347597122192, 0.11301504075527191, 0.8815173506736755, 0.4706098139286041, 0.12248748540878296, 0.14827431738376617, 0.2514216899871826, 0.9947794675827026, 0.9834541082382202, 0.28603070974349976, 0.7109906077384949, 0.9868543744087219, 0.9601925611495972, 0.9663511514663696, 0.9985461831092834, 0.9766682982444763, 0.6775493025779724, 0.16326488554477692, 0.15510164201259613, 0.987328827381134, 0.32589951157569885, 0.6653781533241272, 0.8130831122398376, 0.1806851476430893, 0.7676078081130981, 0.22893567383289337, 0.9975712299346924, 0.9982541799545288, 0.9771826863288879, 0.9972987174987793, 0.9799299240112305, 0.1778755784034729, 0.13916344940662384, 0.09477797895669937, 0.12047483026981354, 0.09210818260908127, 0.07608936727046967, 0.20090262591838837, 0.09878268837928772, 0.06350018084049225, 0.3527787923812866, 0.24694515764713287, 0.14463931322097778, 0.18697276711463928, 0.1259453445672989, 0.8636252284049988, 0.9931371808052063, 0.9926049709320068, 0.9852311611175537, 0.9900633096694946, 0.9982618093490601, 0.2655864357948303, 0.5949136018753052, 0.13810494542121887, 0.9728238582611084, 0.9930163025856018, 0.987148642539978, 0.1021576002240181, 0.2523893713951111, 0.26240482926368713, 0.1422194093465805, 0.07611742615699768, 0.1622503101825714, 0.9365745782852173, 0.061414726078510284, 0.990911066532135, 0.9840972423553467, 0.9833148717880249, 0.11298490315675735, 0.8812822699546814, 0.9626266956329346, 0.9984408617019653, 0.7201370000839233, 0.265896737575531, 0.9935139417648315, 0.9890347719192505, 0.9945778846740723, 0.9724088311195374, 0.9637286067008972, 0.9904752373695374, 0.9867955446243286, 0.992629885673523, 0.9912645220756531, 0.21700595319271088, 0.7543540000915527, 0.026867402717471123, 0.9721319675445557, 0.9744511246681213, 0.9914096593856812, 0.9942015409469604, 0.9878228306770325, 0.9766273498535156, 0.9622504711151123, 0.9828804135322571, 0.9946545362472534, 0.9865731000900269, 0.9888067245483398, 0.9921541810035706, 0.9825072884559631, 0.9923794865608215, 0.9709892272949219, 0.9910192489624023, 0.9970021843910217, 0.1429673135280609, 0.8578039407730103, 0.9783201217651367, 0.9822579622268677, 0.98916095495224, 0.9727503061294556, 0.9804556369781494, 0.9765176177024841, 0.5607269406318665, 0.1401817351579666, 0.3003894090652466, 0.7312917709350586, 0.26360517740249634, 0.9861577749252319, 0.9884874224662781, 0.9685400128364563, 0.9690903425216675, 0.9832004308700562, 0.9911528825759888, 0.9827401041984558, 0.9683634042739868, 0.2578912377357483, 0.7324110865592957, 0.9959497451782227, 0.9856259226799011, 0.996456503868103, 0.9817149043083191, 0.9911004304885864, 0.06728263199329376, 0.059806786477565765, 0.26165470480918884, 0.6055437326431274, 0.9865659475326538, 0.986304759979248, 0.97657310962677, 0.9914642572402954, 0.41744285821914673, 0.0029817346949130297, 0.053671225905418396, 0.5218035578727722, 0.9808745384216309, 0.9931244850158691, 0.9893732666969299, 0.9803627729415894, 0.7578262090682983, 0.24250437319278717, 0.8132252097129822, 0.18682201206684113, 0.9843751192092896, 0.975064754486084, 0.9667349457740784, 0.9826883673667908, 0.9907350540161133, 0.9795113205909729, 0.9894626140594482, 0.9880874156951904, 0.19136455655097961, 0.8096192479133606, 0.9897305965423584, 0.9948028922080994, 0.9862684011459351, 0.9698137640953064, 0.6867086291313171, 0.30875271558761597, 0.9928588271141052, 0.9796351790428162, 0.7900047898292542, 0.1665206104516983, 0.04259829595685005, 0.9663958549499512, 0.9792486429214478, 0.9716166853904724, 0.9842708110809326, 0.9910971522331238, 0.10115800052881241, 0.7494888305664062, 0.1425408124923706, 0.9953708648681641, 0.994070291519165, 0.8755417466163635, 0.12319180369377136, 0.9776378273963928, 0.9859321713447571, 0.9749660491943359, 0.9679434895515442, 0.21356478333473206, 0.7779859900474548, 0.9093959927558899, 0.08685242384672165, 0.983514666557312, 0.9873554110527039, 0.9801100492477417, 0.984337568283081, 0.3706846535205841, 0.6208968162536621, 0.9716907739639282, 0.984481930732727, 0.45393285155296326, 0.5299844145774841, 0.014259669929742813, 0.9725857377052307, 0.9806143045425415, 0.9759817719459534, 0.5265316367149353, 0.35764411091804504, 0.11424742639064789, 0.989925742149353, 0.11696203052997589, 0.8718987703323364, 0.9761381149291992, 0.23390623927116394, 0.23390623927116394, 0.5323383212089539, 0.9672989249229431, 0.2145153284072876, 0.775555431842804, 0.9864510297775269, 0.9865532517433167, 0.9882909655570984, 0.9897355437278748, 0.9825072288513184, 0.5990948677062988, 0.03338904306292534, 0.14500384032726288, 0.22227562963962555, 0.9870815277099609, 0.9945120215415955, 0.9891030788421631, 0.9932627081871033, 0.9873535633087158, 0.998354971408844, 0.9972337484359741, 0.07165811210870743, 0.7046380639076233, 0.2149743288755417], \"Term\": [\"account\", \"across\", \"administrative\", \"administrator\", \"ai\", \"ai\", \"alert\", \"all\", \"am\", \"amazon\", \"amazon\", \"amazon\", \"analysis\", \"android\", \"announced\", \"announces\", \"announces\", \"app\", \"app\", \"app\", \"apple\", \"apple\", \"apps\", \"april\", \"artificial\", \"assistant\", \"attack\", \"australia\", \"automatically\", \"award\", \"azure\", \"azure\", \"batch\", \"best\", \"best\", \"beta\", \"big\", \"big\", \"big\", \"bill\", \"blind\", \"blockchain\", \"blog\", \"bringing\", \"brings\", \"browser\", \"bug\", \"build\", \"business\", \"business\", \"business\", \"business\", \"c\", \"cagr\", \"call\", \"camera\", \"case\", \"center\", \"ceo\", \"chief\", \"cisco\", \"city\", \"cloud\", \"cloud\", \"co\", \"code\", \"collection\", \"coming\", \"coming\", \"company\", \"company\", \"compression\", \"computer\", \"computer\", \"console\", \"controller\", \"controller\", \"converter\", \"core\", \"corporation\", \"could\", \"criminal\", \"crm\", \"customer\", \"daily\", \"data\", \"data\", \"datasharing\", \"day\", \"day\", \"de\", \"deal\", \"dell\", \"dell\", \"demo\", \"desktop\", \"desktop\", \"desktop\", \"developer\", \"development\", \"device\", \"digital\", \"digital\", \"digital\", \"directx\", \"display\", \"dominance\", \"download\", \"drive\", \"drive\", \"driver\", \"dynamic\", \"dynamic\", \"edge\", \"edition\", \"edition\", \"education\", \"end\", \"engine\", \"engineer\", \"enterprise\", \"entry\", \"essay\", \"excel\", \"excel\", \"executive\", \"expands\", \"explore\", \"explore\", \"explorer\", \"f\", \"facebook\", \"facebook\", \"facebooks\", \"feature\", \"feature\", \"finally\", \"firm\", \"ford\", \"forecast\", \"forza\", \"foxconn\", \"free\", \"game\", \"game\", \"gaming\", \"gaming\", \"gb\", \"get\", \"get\", \"global\", \"go\", \"gold\", \"google\", \"google\", \"government\", \"growth\", \"h\", \"halo\", \"hardware\", \"help\", \"help\", \"here\", \"hit\", \"hit\", \"holding\", \"home\", \"horizon\", \"i\", \"ibm\", \"iheartradio\", \"ii\", \"industry\", \"industry\", \"industry\", \"information\", \"infrastructure\", \"insider\", \"insider\", \"intelligence\", \"internet\", \"investigation\", \"io\", \"io\", \"iphone\", \"issue\", \"job\", \"k\", \"key\", \"know\", \"laptop\", \"laptop\", \"launch\", \"launch\", \"launch\", \"launch\", \"lawsuit\", \"learning\", \"let\", \"let\", \"limited\", \"linux\", \"list\", \"live\", \"look\", \"m\", \"m\", \"m\", \"macbook\", \"make\", \"make\", \"management\", \"management\", \"manager\", \"manager\", \"march\", \"market\", \"marketplace\", \"master\", \"memory\", \"microsoft\", \"microsoft\", \"microsoft\", \"microsoft\", \"microsoft\", \"microsoft\", \"microsoft\", \"microsoft\", \"microsofts\", \"microsofts\", \"microsofts\", \"microsofts\", \"microsofts\", \"million\", \"million\", \"minecraft\", \"mirroring\", \"mobile\", \"msft\", \"music\", \"need\", \"need\", \"need\", \"net\", \"network\", \"never\", \"new\", \"new\", \"new\", \"new\", \"new\", \"new\", \"news\", \"news\", \"next\", \"nvidia\", \"o\", \"office\", \"office\", \"official\", \"one\", \"online\", \"online\", \"open\", \"opportunity\", \"oracle\", \"p\", \"partnership\", \"pas\", \"patch\", \"patent\", \"pay\", \"pc\", \"pc\", \"pc\", \"pdf\", \"people\", \"phantom\", \"phone\", \"photo\", \"pi\", \"plan\", \"play\", \"player\", \"plus\", \"pm\", \"power\", \"preview\", \"pro\", \"product\", \"program\", \"project\", \"public\", \"public\", \"r\", \"ram\", \"reach\", \"reality\", \"region\", \"reject\", \"release\", \"release\", \"release\", \"report\", \"report\", \"research\", \"retail\", \"reveals\", \"right\", \"roundup\", \"royalty\", \"running\", \"s\", \"sale\", \"sale\", \"sap\", \"save\", \"say\", \"school\", \"screen\", \"security\", \"security\", \"security\", \"security\", \"seeing\", \"senior\", \"series\", \"server\", \"service\", \"service\", \"service\", \"service\", \"sharing\", \"show\", \"showcase\", \"size\", \"software\", \"software\", \"solution\", \"solution\", \"source\", \"specialist\", \"spring\", \"sr\", \"ssd\", \"st\", \"stack\", \"steam\", \"store\", \"store\", \"stream\", \"streaming\", \"studio\", \"summit\", \"support\", \"support\", \"surface\", \"swift\", \"system\", \"system\", \"system\", \"tablet\", \"take\", \"taylor\", \"tc\", \"team\", \"tech\", \"tech\", \"tech\", \"techeia\", \"technical\", \"technology\", \"technology\", \"test\", \"testing\", \"th\", \"threat\", \"tool\", \"tool\", \"top\", \"top\", \"touch\", \"trend\", \"tuesday\", \"two\", \"u\", \"u\", \"uk\", \"uninstall\", \"update\", \"update\", \"update\", \"upgrade\", \"us\", \"usawaredmond\", \"user\", \"user\", \"user\", \"using\", \"v\", \"v\", \"via\", \"video\", \"video\", \"video\", \"vulnerability\", \"want\", \"want\", \"warcraft\", \"way\", \"week\", \"white\", \"win\", \"window\", \"window\", \"window\", \"window\", \"winner\", \"wireless\", \"word\", \"work\", \"world\", \"xbox\", \"xcloud\", \"year\", \"year\", \"year\"]}, \"R\": 30, \"lambda.step\": 0.01, \"plot.opts\": {\"xlab\": \"PC1\", \"ylab\": \"PC2\"}, \"topic.order\": [4, 1, 7, 2, 6, 5, 3, 8]};\n",
       "\n",
       "function LDAvis_load_lib(url, callback){\n",
       "  var s = document.createElement('script');\n",
       "  s.src = url;\n",
       "  s.async = true;\n",
       "  s.onreadystatechange = s.onload = callback;\n",
       "  s.onerror = function(){console.warn(\"failed to load library \" + url);};\n",
       "  document.getElementsByTagName(\"head\")[0].appendChild(s);\n",
       "}\n",
       "\n",
       "if(typeof(LDAvis) !== \"undefined\"){\n",
       "   // already loaded: just create the visualization\n",
       "   !function(LDAvis){\n",
       "       new LDAvis(\"#\" + \"ldavis_el8713947901023203200515770\", ldavis_el8713947901023203200515770_data);\n",
       "   }(LDAvis);\n",
       "}else if(typeof define === \"function\" && define.amd){\n",
       "   // require.js is available: use it to load d3/LDAvis\n",
       "   require.config({paths: {d3: \"https://cdnjs.cloudflare.com/ajax/libs/d3/3.5.5/d3.min\"}});\n",
       "   require([\"d3\"], function(d3){\n",
       "      window.d3 = d3;\n",
       "      LDAvis_load_lib(\"https://cdn.rawgit.com/bmabey/pyLDAvis/files/ldavis.v1.0.0.js\", function(){\n",
       "        new LDAvis(\"#\" + \"ldavis_el8713947901023203200515770\", ldavis_el8713947901023203200515770_data);\n",
       "      });\n",
       "    });\n",
       "}else{\n",
       "    // require.js not available: dynamically load d3 & LDAvis\n",
       "    LDAvis_load_lib(\"https://cdnjs.cloudflare.com/ajax/libs/d3/3.5.5/d3.min.js\", function(){\n",
       "         LDAvis_load_lib(\"https://cdn.rawgit.com/bmabey/pyLDAvis/files/ldavis.v1.0.0.js\", function(){\n",
       "                 new LDAvis(\"#\" + \"ldavis_el8713947901023203200515770\", ldavis_el8713947901023203200515770_data);\n",
       "            })\n",
       "         });\n",
       "}\n",
       "</script>"
      ],
      "text/plain": [
       "PreparedData(topic_coordinates=              x         y  topics  cluster       Freq\n",
       "topic                                                \n",
       "3     -0.243717 -0.051218       1        1  20.439827\n",
       "0      0.087814  0.133142       2        1  13.898444\n",
       "6      0.204327 -0.005197       3        1  12.285803\n",
       "1     -0.158683 -0.136201       4        1  12.085470\n",
       "5     -0.160781  0.254058       5        1  11.284717\n",
       "4      0.172047 -0.159344       6        1  11.049140\n",
       "2      0.123808  0.152483       7        1  10.974693\n",
       "7     -0.024815 -0.187724       8        1   7.981898, topic_info=     Category         Freq         Term        Total  loglift  logprob\n",
       "term                                                                  \n",
       "78    Default   775.000000         xbox   775.000000  30.0000  30.0000\n",
       "29    Default  1048.000000       window  1048.000000  29.0000  29.0000\n",
       "311   Default   623.000000         game   623.000000  28.0000  28.0000\n",
       "222   Default   434.000000      android   434.000000  27.0000  27.0000\n",
       "258   Default   589.000000       market   589.000000  26.0000  26.0000\n",
       "279   Default   483.000000           pc   483.000000  25.0000  25.0000\n",
       "75    Default   349.000000          one   349.000000  24.0000  24.0000\n",
       "298   Default   301.000000         halo   301.000000  23.0000  23.0000\n",
       "241   Default   304.000000        march   304.000000  22.0000  22.0000\n",
       "97    Default   384.000000         data   384.000000  21.0000  21.0000\n",
       "266   Default   284.000000         live   284.000000  20.0000  20.0000\n",
       "392   Default   263.000000      project   263.000000  19.0000  19.0000\n",
       "10    Default   420.000000       update   420.000000  18.0000  18.0000\n",
       "264   Default   246.000000        award   246.000000  17.0000  17.0000\n",
       "15    Default   260.000000         news   260.000000  16.0000  16.0000\n",
       "267   Default   217.000000        music   217.000000  15.0000  15.0000\n",
       "265   Default   214.000000  iheartradio   214.000000  14.0000  14.0000\n",
       "567   Default   207.000000   collection   207.000000  13.0000  13.0000\n",
       "566   Default   202.000000        chief   202.000000  12.0000  12.0000\n",
       "569   Default   197.000000       master   197.000000  11.0000  11.0000\n",
       "1098  Default   194.000000       xcloud   194.000000  10.0000  10.0000\n",
       "87    Default   324.000000        cloud   324.000000   9.0000   9.0000\n",
       "562   Default   200.000000           io   200.000000   8.0000   8.0000\n",
       "16    Default   221.000000       office   221.000000   7.0000   7.0000\n",
       "481   Default   335.000000      service   335.000000   6.0000   6.0000\n",
       "837   Default   203.000000       coming   203.000000   5.0000   5.0000\n",
       "73    Default   182.000000           gb   182.000000   4.0000   4.0000\n",
       "34    Default   252.000000          app   252.000000   3.0000   3.0000\n",
       "188   Default   236.000000          key   236.000000   2.0000   2.0000\n",
       "190   Default   234.000000       player   234.000000   1.0000   1.0000\n",
       "...       ...          ...          ...          ...      ...      ...\n",
       "605    Topic8    63.583015         work    64.434113   2.5147  -4.2167\n",
       "448    Topic8    61.876293     internet    62.727306   2.5143  -4.2439\n",
       "247    Topic8    55.140228       device    55.991554   2.5127  -4.3591\n",
       "413    Topic8    54.633915          pay    55.484684   2.5125  -4.3684\n",
       "674    Topic8    52.399719       reject    53.250446   2.5119  -4.4101\n",
       "442    Topic8    51.721897         word    52.572884   2.5117  -4.4231\n",
       "310    Topic8    51.037083         play    51.888306   2.5115  -4.4365\n",
       "537    Topic8    48.381363           th    49.232483   2.5106  -4.4899\n",
       "673    Topic8    46.761162        never    47.611877   2.5100  -4.5240\n",
       "415    Topic8    45.223774         look    46.075008   2.5093  -4.5574\n",
       "151    Topic8    44.748013      limited    45.599434   2.5091  -4.5680\n",
       "89     Topic8    44.693409         code    45.544510   2.5091  -4.5692\n",
       "748    Topic8    44.241764       camera    45.093010   2.5089  -4.5794\n",
       "83     Topic8    43.248669   specialist    44.099636   2.5085  -4.6021\n",
       "148    Topic8    43.009125     explorer    43.860119   2.5084  -4.6076\n",
       "245    Topic8    40.424625        right    41.275822   2.5072  -4.6696\n",
       "945    Topic8    36.028461          via    36.880028   2.5046  -4.7847\n",
       "1092   Topic8    34.468792     official    35.320026   2.5036  -4.8290\n",
       "206    Topic8    32.572552      macbook    33.423515   2.5022  -4.8856\n",
       "689    Topic8    32.359200    education    33.210548   2.5020  -4.8921\n",
       "9      Topic8    31.584349         plus    32.435509   2.5014  -4.9164\n",
       "398    Topic8    31.015862      browser    31.866819   2.5009  -4.9345\n",
       "837    Topic8   148.335785       coming   203.818130   2.2102  -3.3695\n",
       "906    Topic8    87.135651          let   122.364487   2.1885  -3.9016\n",
       "34     Topic8   143.314926          app   252.546997   1.9614  -3.4040\n",
       "94     Topic8    54.601837        store    67.933167   2.3095  -4.3690\n",
       "175    Topic8    47.221714         want    60.601730   2.2785  -4.5142\n",
       "4      Topic8   295.613342    microsoft  2996.476562   0.2119  -2.6800\n",
       "373    Topic8    48.871010         make    73.642334   2.1180  -4.4798\n",
       "192    Topic8    53.032261   microsofts   283.463745   0.8518  -4.3981\n",
       "\n",
       "[374 rows x 6 columns], token_table=      Topic      Freq            Term\n",
       "term                                 \n",
       "516       8  0.986651         account\n",
       "477       7  0.961918          across\n",
       "669       5  0.977148  administrative\n",
       "69        5  0.975805   administrator\n",
       "119       2  0.348244              ai\n",
       "119       4  0.648783              ai\n",
       "117       2  0.982354           alert\n",
       "284       2  0.977029             all\n",
       "332       3  0.978209              am\n",
       "154       1  0.573781          amazon\n",
       "154       2  0.136925          amazon\n",
       "154       7  0.280370          amazon\n",
       "504       1  0.994664        analysis\n",
       "222       7  0.997604         android\n",
       "417       3  0.978710       announced\n",
       "58        3  0.845211       announces\n",
       "58        6  0.155913       announces\n",
       "34        4  0.285095             app\n",
       "34        7  0.146507             app\n",
       "34        8  0.566231             app\n",
       "79        1  0.807184           apple\n",
       "79        8  0.185255           apple\n",
       "255       7  0.989094            apps\n",
       "515       3  0.961280           april\n",
       "843       1  0.979559      artificial\n",
       "124       5  0.990382       assistant\n",
       "1013      3  0.965093          attack\n",
       "404       6  0.961201       australia\n",
       "157       1  0.989326   automatically\n",
       "264       5  0.998373           award\n",
       "...     ...       ...             ...\n",
       "377       8  0.114247            user\n",
       "462       2  0.989926           using\n",
       "11        2  0.116962               v\n",
       "11        5  0.871899               v\n",
       "945       8  0.976138             via\n",
       "316       2  0.233906           video\n",
       "316       3  0.233906           video\n",
       "316       4  0.532338           video\n",
       "695       3  0.967299   vulnerability\n",
       "175       4  0.214515            want\n",
       "175       8  0.775555            want\n",
       "1045      6  0.986451        warcraft\n",
       "8         7  0.986553             way\n",
       "501       7  0.988291            week\n",
       "77        1  0.989736           white\n",
       "558       5  0.982507             win\n",
       "29        2  0.599095          window\n",
       "29        5  0.033389          window\n",
       "29        6  0.145004          window\n",
       "29        7  0.222276          window\n",
       "1119      3  0.987082          winner\n",
       "585       3  0.994512        wireless\n",
       "442       8  0.989103            word\n",
       "605       8  0.993263            work\n",
       "297       6  0.987354           world\n",
       "78        3  0.998355            xbox\n",
       "1098      7  0.997234          xcloud\n",
       "783       1  0.071658            year\n",
       "783       3  0.704638            year\n",
       "783       6  0.214974            year\n",
       "\n",
       "[427 rows x 3 columns], R=30, lambda_step=0.01, plot_opts={'xlab': 'PC1', 'ylab': 'PC2'}, topic_order=[4, 1, 7, 2, 6, 5, 3, 8])"
      ]
     },
     "execution_count": 45,
     "metadata": {},
     "output_type": "execute_result"
    }
   ],
   "source": [
    "pyLDAvis.enable_notebook()\n",
    "vis = pyLDAvis.gensim.prepare(lda_model, corpora, dictionary)\n",
    "vis"
   ]
  },
  {
   "cell_type": "code",
   "execution_count": 210,
   "metadata": {},
   "outputs": [],
   "source": [
    "def vec_similarity(input1, input2, vectors):\n",
    "    term_vectors = [np.zeros(300), np.zeros(300)]\n",
    "    terms = [input1, input2]\n",
    "        \n",
    "    for index, term in enumerate(terms):\n",
    "        for i, t in enumerate(term.split(' ')):\n",
    "            try:\n",
    "                term_vectors[index] += vectors[t]\n",
    "            except:\n",
    "                term_vectors[index] += 0\n",
    "        \n",
    "    result = (1 - spatial.distance.cosine(term_vectors[0], term_vectors[1]))\n",
    "    if result is 'nan':\n",
    "        result = 0\n",
    "        \n",
    "    return result\n",
    "\n",
    "# function checks whether the input words are present in the vocabulary for the model\n",
    "def vocab_check(vectors, words):\n",
    "    \n",
    "    output = list()\n",
    "    for word in words:\n",
    "        if word in vectors.vocab:\n",
    "            output.append(word.strip())\n",
    "            \n",
    "    return output\n",
    "\n",
    "# function calculates similarity between two strings using a particular word vector model\n",
    "def calc_similarity(input1, input2, vectors):\n",
    "    s1words = set(vocab_check(vectors, input1.split()))\n",
    "    s2words = set(vocab_check(vectors, input2.split()))\n",
    "    if len(s1words) == 0 or len(s2words) == 0:\n",
    "        return 0 \n",
    "    output = vectors.n_similarity(s1words, s2words)\n",
    "    return output"
   ]
  },
  {
   "cell_type": "code",
   "execution_count": 211,
   "metadata": {},
   "outputs": [],
   "source": [
    "def vec_similarity(input1, input2, vectors):\n",
    "    term_vectors = [np.zeros(300), np.zeros(300)]\n",
    "    terms = [input1, input2]\n",
    "        \n",
    "    for index, term in enumerate(terms):\n",
    "        for i, t in enumerate(term.split(' ')):\n",
    "            try:\n",
    "                term_vectors[index] += vectors[t]\n",
    "            except:\n",
    "                term_vectors[index] += 0\n",
    "        \n",
    "    result = (1 - spatial.distance.cosine(term_vectors[0], term_vectors[1]))\n",
    "    if result is 'nan':\n",
    "        result = 0\n",
    "        \n",
    "    return result"
   ]
  },
  {
   "cell_type": "code",
   "execution_count": 212,
   "metadata": {},
   "outputs": [],
   "source": [
    "def vocab_check(vectors, words):\n",
    "    \n",
    "    output = list()\n",
    "    for word in words:\n",
    "        if word in vectors.vocab:\n",
    "            output.append(word.strip())\n",
    "            \n",
    "    return output"
   ]
  },
  {
   "cell_type": "code",
   "execution_count": 213,
   "metadata": {},
   "outputs": [],
   "source": [
    "def calc_similarity(input1, input2, vectors):\n",
    "    s1words = set(vocab_check(vectors, input1.split()))\n",
    "    s2words = set(vocab_check(vectors, input2.split()))\n",
    "    \n",
    "    output = vectors.n_similarity(s1words, s2words)\n",
    "    return output"
   ]
  },
  {
   "cell_type": "code",
   "execution_count": 214,
   "metadata": {},
   "outputs": [],
   "source": [
    "def cleanup(input):\n",
    "    # remove English stopwords\n",
    "    input = input.replace(\"'s\", \" \").replace(\"n’t\", \" not\").replace(\"’ve\", \" have\")\n",
    "    input = re.sub(r'[^a-zA-Z0-9 ]', '', input)\n",
    "    return input"
   ]
  },
  {
   "cell_type": "code",
   "execution_count": 215,
   "metadata": {},
   "outputs": [],
   "source": [
    "from simhash import Simhash, SimhashIndex"
   ]
  },
  {
   "cell_type": "code",
   "execution_count": 216,
   "metadata": {},
   "outputs": [],
   "source": [
    "distance = 25\n",
    "objs = [(str(feed['id']), Simhash(str(feed['title']))) for feed in feeds]\n",
    "index = SimhashIndex(objs, k=distance)"
   ]
  },
  {
   "cell_type": "code",
   "execution_count": 46,
   "metadata": {},
   "outputs": [],
   "source": [
    "# function takes an input string, runs similarity for each item in topic_taxonomy, sorts and returns top 3 results\n",
    "def classify_topics(input, vectors):\n",
    "    feed_score = dict()\n",
    "    for key, value in topic_taxonomy.items():\n",
    "        max_value_score = dict()\n",
    "        for label, keywords in value.items():\n",
    "            max_value_score[label] = 0\n",
    "            topic = (key + ' ' + keywords).strip()\n",
    "            max_value_score[label] += float(calc_similarity(input, topic, vectors))\n",
    "            \n",
    "        sorted_max_score = sorted(max_value_score.items(), key=operator.itemgetter(1), reverse=True)[0]\n",
    "        feed_score[sorted_max_score[0]] = sorted_max_score[1]\n",
    "    return sorted(feed_score.items(), key=operator.itemgetter(1), reverse=True)[:3]"
   ]
  },
  {
   "cell_type": "code",
   "execution_count": 48,
   "metadata": {},
   "outputs": [],
   "source": [
    "#model_fasttext = load_wordvec_model('FastText', 'fastText_wiki_en.vec', False)"
   ]
  },
  {
   "cell_type": "code",
   "execution_count": null,
   "metadata": {},
   "outputs": [],
   "source": []
  }
 ],
 "metadata": {
  "kernelspec": {
   "display_name": "Python 3",
   "language": "python",
   "name": "python3"
  },
  "language_info": {
   "codemirror_mode": {
    "name": "ipython",
    "version": 3
   },
   "file_extension": ".py",
   "mimetype": "text/x-python",
   "name": "python",
   "nbconvert_exporter": "python",
   "pygments_lexer": "ipython3",
   "version": "3.7.1"
  }
 },
 "nbformat": 4,
 "nbformat_minor": 2
}
